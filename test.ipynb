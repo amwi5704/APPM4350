{
 "cells": [
  {
   "cell_type": "code",
   "execution_count": 1,
   "id": "0dfc8404-48b1-409d-ac6c-8345c147f0a1",
   "metadata": {},
   "outputs": [],
   "source": [
    "from conformalMaps.new_elementary import *\n",
    "from ipywidgets import widgets\n",
    "from ipywidgets import HBox,VBox"
   ]
  },
  {
   "cell_type": "markdown",
   "id": "afb01d3f-3a17-4744-86a4-7ae3a21721b5",
   "metadata": {},
   "source": [
    "# Using Rectangle grid"
   ]
  },
  {
   "cell_type": "code",
   "execution_count": 2,
   "id": "bf4f7186-9004-4a08-9f81-ee870f8fadc7",
   "metadata": {},
   "outputs": [
    {
     "data": {
      "application/vnd.jupyter.widget-view+json": {
       "model_id": "1f0c37bdec354999a039f80dc3a6d713",
       "version_major": 2,
       "version_minor": 0
      },
      "text/plain": [
       "VBox(children=(HBox(children=(VBox(children=(FloatSlider(value=-1.0, description='left', max=0.0, min=-10.0), …"
      ]
     },
     "metadata": {},
     "output_type": "display_data"
    }
   ],
   "source": [
    "left = widgets.FloatSlider(min=-10, max=0, value=-1, description='left')\n",
    "bottom = widgets.FloatSlider(min=-10, max=0, value=-1, description='bottom')\n",
    "\n",
    "top = widgets.FloatSlider(min=0, max=10, value=1, description='top')\n",
    "right = widgets.FloatSlider(min=0, max=10, value=1, description='right')\n",
    "\n",
    "fine = widgets.IntSlider(min = 20, max = 100, value=50, description='Fine')\n",
    "\n",
    "Hticks = widgets.IntSlider(min = 2, max = 50, value=10, description='Hticks')\n",
    "Vticks = widgets.IntSlider(min = 2, max = 50, value=10, description='Vticks')\n",
    "\n",
    "\n",
    "function = widgets.Text( value = 'z**2' , description='w : ')\n",
    "\n",
    "frame = widgets.FloatSlider(min=0, max=100, value=100, step = 5, description='anim')\n",
    "\n",
    "play = widgets.Play(min= 0, max = 100, step = 5)\n",
    "# widgets.jslink((frame, 'value'), (play, 'value'))\n",
    "widgets.jslink((play, 'value'), (frame, 'value'))\n",
    "\n",
    "rect = Rectangle()\n",
    "\n",
    "\n",
    "interactive_plot = widgets.interactive(rect.updateFunc,\n",
    "                                       w = function,\n",
    "                                       left = left,\n",
    "                                       right = right,\n",
    "                                       top= top,\n",
    "                                       bottom = bottom,\n",
    "                                       fine = fine,\n",
    "                                      Hticks = Hticks,\n",
    "                                      Vticks = Vticks,\n",
    "                                      frame = frame\n",
    "                                      )\n",
    "\n",
    "\n",
    "w1 = VBox([ left, right])\n",
    "w2 = VBox([top,bottom])\n",
    "w3 = VBox([Hticks,Vticks])\n",
    "w4 = HBox([w1,w2,w3])\n",
    "\n",
    "w5 = HBox([function, fine])\n",
    "\n",
    "anim_slider = HBox([play, frame])\n",
    "\n",
    "w = VBox([w4, w5, anim_slider, rect.show()])\n",
    "\n",
    "w"
   ]
  },
  {
   "cell_type": "markdown",
   "id": "baf12d64-8023-46da-b682-f642b8698146",
   "metadata": {},
   "source": [
    "# Using Square Grid"
   ]
  },
  {
   "cell_type": "code",
   "execution_count": 3,
   "id": "2239ce05-ad76-4e9c-86b6-dd1f3d9022e8",
   "metadata": {},
   "outputs": [
    {
     "data": {
      "application/vnd.jupyter.widget-view+json": {
       "model_id": "5b73fb5d6f7a41db9740f815151564fb",
       "version_major": 2,
       "version_minor": 0
      },
      "text/plain": [
       "VBox(children=(HBox(children=(FloatSlider(value=1.0, description='side', max=10.0, min=0.01), IntSlider(value=…"
      ]
     },
     "metadata": {},
     "output_type": "display_data"
    }
   ],
   "source": [
    "sq = Square()\n",
    "\n",
    "side = widgets.FloatSlider(min=0.01, max=10, value=1, description='side')\n",
    "\n",
    "fine = widgets.IntSlider(min = 20, max = 100, value=50, description='Fine')\n",
    "\n",
    "Hticks = widgets.IntSlider(min = 2, max = 50, value=10, description='Hticks')\n",
    "Vticks = widgets.IntSlider(min = 2, max = 50, value=10, description='Vticks')\n",
    "\n",
    "\n",
    "function = widgets.Text( value = 'z**2' , description='w : ')\n",
    "\n",
    "frame = widgets.FloatSlider(min=0, max=100, value=100, step = 5, description='anim')\n",
    "\n",
    "play = widgets.Play(min= 0, max = 100, step = 5)\n",
    "widgets.jslink((play, 'value'), (frame, 'value'))\n",
    "\n",
    "\n",
    "interactive_plot = widgets.interactive(sq.updateFunc,\n",
    "                                       w = function,\n",
    "                                       side = side,\n",
    "                                       fine = fine,\n",
    "                                      Hticks = Hticks,\n",
    "                                      Vticks = Vticks,\n",
    "                                      frame = frame\n",
    "                                      )\n",
    "\n",
    "# w1 = VBox([ left, right])\n",
    "# w2 = VBox([top,bottom])\n",
    "box1 = HBox([side, Hticks,Vticks])\n",
    "\n",
    "box2 = HBox([function, fine])\n",
    "\n",
    "anim_slider = HBox([play, frame])\n",
    "\n",
    "w = VBox([box1, box2, anim_slider, sq.show()])\n",
    "\n",
    "w"
   ]
  },
  {
   "cell_type": "code",
   "execution_count": 17,
   "id": "daf03a4a-1f28-4414-953d-1280bbb8ad89",
   "metadata": {},
   "outputs": [
    {
     "name": "stdout",
     "output_type": "stream",
     "text": [
      "Text(value='z**', description='w : ')\n"
     ]
    },
    {
     "data": {
      "application/vnd.jupyter.widget-view+json": {
       "model_id": "b1c08418fcdf41fd8e5c7c8aea014627",
       "version_major": 2,
       "version_minor": 0
      },
      "text/plain": [
       "VBox(children=(HBox(children=(VBox(children=(FloatSlider(value=1.0, description='Rin', max=10.0), FloatSlider(…"
      ]
     },
     "metadata": {},
     "output_type": "display_data"
    }
   ],
   "source": [
    "donut = Donut()\n",
    "\n",
    "rin = widgets.FloatSlider(min=0, max=10, value=1, description='Rin')\n",
    "rout = widgets.FloatSlider(min=1, max=20, value=3, description='Rout')\n",
    "\n",
    "x0 = widgets.FloatSlider(min=-10, max=10, value=0, description='x0')\n",
    "y0 = widgets.FloatSlider(min=-10, max=10, value=0, description='y0')\n",
    "\n",
    "cticks = widgets.IntSlider(min = 2, max = 50, value=4, description='cticks')\n",
    "rticks = widgets.IntSlider(min = 2, max = 50, value=4, description='rticks')\n",
    "\n",
    "fine = widgets.IntSlider(min = 20, max = 100, value=50, description='Fine')\n",
    "\n",
    "function = widgets.Text( value = 'z**' , description='w : ')\n",
    "\n",
    "frame = widgets.FloatSlider(min=0, max=100, value=100, step = 2, description='anim')\n",
    "\n",
    "play = widgets.Play(min= 0, max = 100, step = 5)\n",
    "widgets.jslink((play, 'value'), (frame, 'value'))\n",
    "\n",
    "interactive_plot = widgets.interactive(donut.updateFunc,\n",
    "                                       rin = rin,\n",
    "                                       rout = rout,\n",
    "                                       x0 = x0,\n",
    "                                       y0 = y0,\n",
    "                                       fine = fine,\n",
    "                                       cticks = cticks,\n",
    "                                       rticks = rticks,\n",
    "                                       w = function,\n",
    "                                       frame = frame)\n",
    "\n",
    "radius = VBox([rin, rout])\n",
    "offset = VBox([x0, y0])\n",
    "ticks = VBox([cticks, rticks])\n",
    "group = HBox([radius, offset,ticks])\n",
    "animation = HBox([play, frame])\n",
    "\n",
    "w1 = VBox([group, HBox([fine, function]), animation, donut.show()])\n",
    "print(function)\n",
    "w1\n"
   ]
  },
  {
   "cell_type": "code",
   "execution_count": 14,
   "id": "9da711bf-94b1-44ef-b536-0d6d7295ec17",
   "metadata": {},
   "outputs": [
    {
     "data": {
      "application/vnd.jupyter.widget-view+json": {
       "model_id": "4e56d0ecf82f44df96119e7c882bc807",
       "version_major": 2,
       "version_minor": 0
      },
      "text/plain": [
       "VBox(children=(HBox(children=(VBox(children=(FloatSlider(value=1.0, description='R', max=10.0, min=0.1), IntSl…"
      ]
     },
     "metadata": {},
     "output_type": "display_data"
    }
   ],
   "source": [
    "circle = Circle()\n",
    "\n",
    "r = widgets.FloatSlider(min=0.1, max=10, value=1, description='R')\n",
    "\n",
    "\n",
    "x0 = widgets.FloatSlider(min=0, max=10, value=0, description='x0')\n",
    "y0 = widgets.FloatSlider(min=0, max=10, value=0, description='y0')\n",
    "\n",
    "cticks = widgets.IntSlider(min = 2, max = 50, value=4, description='cticks')\n",
    "rticks = widgets.IntSlider(min = 2, max = 50, value=4, description='rticks')\n",
    "\n",
    "fine = widgets.IntSlider(min = 20, max = 100, value=50, description='Fine')\n",
    "\n",
    "function = widgets.Text( value = 'z**2' , description='w : ')\n",
    "\n",
    "frame = widgets.FloatSlider(min=0, max=100, value=100, step = 2, description='anim')\n",
    "\n",
    "play = widgets.Play(min= 0, max = 100, step = 2)\n",
    "widgets.jslink((play, 'value'), (frame, 'value'))\n",
    "\n",
    "interactive_plot = widgets.interactive(circle.updateFunc,\n",
    "                                       r = r,\n",
    "                                       x0 = x0,\n",
    "                                       y0 = y0,\n",
    "                                       fine = fine,\n",
    "                                       cticks = cticks,\n",
    "                                       rticks = rticks,\n",
    "                                       w = function,\n",
    "                                       frame = frame)\n",
    "\n",
    "radius = VBox([r, fine])\n",
    "offset = VBox([x0, y0])\n",
    "ticks = VBox([cticks, rticks])\n",
    "group = HBox([radius, offset,ticks])\n",
    "animation = HBox([play, frame])\n",
    "\n",
    "w1 = VBox([group, function, animation, circle.show()])\n",
    "\n",
    "w1"
   ]
  },
  {
   "cell_type": "code",
   "execution_count": 11,
   "id": "71fc4a1a-07b6-4f93-8ec9-045ed1ee3b71",
   "metadata": {},
   "outputs": [
    {
     "data": {
      "application/vnd.jupyter.widget-view+json": {
       "model_id": "a900371de7584d93a21948f6e4e8038a",
       "version_major": 2,
       "version_minor": 0
      },
      "text/plain": [
       "FigureWidget({\n",
       "    'data': [{'hoverinfo': 'none',\n",
       "              'line': {'color': 'magenta', 'shape': 'spline'…"
      ]
     },
     "metadata": {},
     "output_type": "display_data"
    }
   ],
   "source": [
    "cir = Donut(rin=0,rticks=4)\n",
    "cir.show()"
   ]
  },
  {
   "cell_type": "code",
   "execution_count": 13,
   "id": "66538641-3ce0-4c54-bc53-df76b945ff71",
   "metadata": {},
   "outputs": [
    {
     "ename": "TypeError",
     "evalue": "unsupported operand type(s) for -: 'function' and 'Add'",
     "output_type": "error",
     "traceback": [
      "\u001b[0;31m---------------------------------------------------------------------------\u001b[0m",
      "\u001b[0;31mTypeError\u001b[0m                                 Traceback (most recent call last)",
      "\u001b[0;32m/var/folders/7y/982hn3qd705_n58zy8ycd_g80000gn/T/ipykernel_19839/1104620708.py\u001b[0m in \u001b[0;36m<module>\u001b[0;34m\u001b[0m\n\u001b[1;32m      2\u001b[0m \u001b[0;34m\u001b[0m\u001b[0m\n\u001b[1;32m      3\u001b[0m \u001b[0;32mfor\u001b[0m \u001b[0mtmp\u001b[0m \u001b[0;32min\u001b[0m \u001b[0mrange\u001b[0m\u001b[0;34m(\u001b[0m\u001b[0;36m1\u001b[0m\u001b[0;34m,\u001b[0m \u001b[0;36m10\u001b[0m\u001b[0;34m,\u001b[0m\u001b[0;36m1\u001b[0m\u001b[0;34m)\u001b[0m\u001b[0;34m:\u001b[0m\u001b[0;34m\u001b[0m\u001b[0;34m\u001b[0m\u001b[0m\n\u001b[0;32m----> 4\u001b[0;31m     \u001b[0mcir\u001b[0m\u001b[0;34m.\u001b[0m\u001b[0mupdateFunc\u001b[0m\u001b[0;34m(\u001b[0m\u001b[0mrout\u001b[0m\u001b[0;34m=\u001b[0m\u001b[0mtmp\u001b[0m\u001b[0;34m)\u001b[0m\u001b[0;34m\u001b[0m\u001b[0;34m\u001b[0m\u001b[0m\n\u001b[0m\u001b[1;32m      5\u001b[0m \u001b[0;34m\u001b[0m\u001b[0m\n\u001b[1;32m      6\u001b[0m \u001b[0;31m# cir.updateFunc(w='z**2')\u001b[0m\u001b[0;34m\u001b[0m\u001b[0;34m\u001b[0m\u001b[0;34m\u001b[0m\u001b[0m\n",
      "\u001b[0;32m~/MyProjects/python/Conformal-Maps/conformalMaps/new_elementary.py\u001b[0m in \u001b[0;36mupdateFunc\u001b[0;34m(self, w, rin, rout, fine, cticks, rticks, x0, y0, frame, scale)\u001b[0m\n\u001b[1;32m    463\u001b[0m \u001b[0;34m\u001b[0m\u001b[0m\n\u001b[1;32m    464\u001b[0m         \u001b[0;32melse\u001b[0m\u001b[0;34m:\u001b[0m\u001b[0;34m\u001b[0m\u001b[0;34m\u001b[0m\u001b[0m\n\u001b[0;32m--> 465\u001b[0;31m             self.transformed = self.anim(w=w, rin=rin, rout=rout, cticks=cticks, rticks=rticks, x0=x0, y0=y0,\n\u001b[0m\u001b[1;32m    466\u001b[0m                                          fine=fine, frame=frame)\n\u001b[1;32m    467\u001b[0m             \u001b[0mself\u001b[0m\u001b[0;34m.\u001b[0m\u001b[0madd_new_data_to_traces\u001b[0m\u001b[0;34m(\u001b[0m\u001b[0mself\u001b[0m\u001b[0;34m.\u001b[0m\u001b[0mtransformed\u001b[0m\u001b[0;34m)\u001b[0m\u001b[0;34m\u001b[0m\u001b[0;34m\u001b[0m\u001b[0m\n",
      "\u001b[0;32m~/MyProjects/python/Conformal-Maps/conformalMaps/new_elementary.py\u001b[0m in \u001b[0;36manim\u001b[0;34m(self, w, rin, rout, cticks, rticks, x0, y0, fine, frame, scale)\u001b[0m\n\u001b[1;32m    407\u001b[0m \u001b[0;34m\u001b[0m\u001b[0m\n\u001b[1;32m    408\u001b[0m     \u001b[0;32mdef\u001b[0m \u001b[0manim\u001b[0m\u001b[0;34m(\u001b[0m\u001b[0mself\u001b[0m\u001b[0;34m,\u001b[0m \u001b[0mw\u001b[0m\u001b[0;34m,\u001b[0m \u001b[0mrin\u001b[0m\u001b[0;34m,\u001b[0m \u001b[0mrout\u001b[0m\u001b[0;34m,\u001b[0m \u001b[0mcticks\u001b[0m\u001b[0;34m,\u001b[0m \u001b[0mrticks\u001b[0m\u001b[0;34m,\u001b[0m \u001b[0mx0\u001b[0m\u001b[0;34m,\u001b[0m \u001b[0my0\u001b[0m\u001b[0;34m,\u001b[0m \u001b[0mfine\u001b[0m\u001b[0;34m,\u001b[0m \u001b[0mframe\u001b[0m\u001b[0;34m,\u001b[0m \u001b[0mscale\u001b[0m\u001b[0;34m=\u001b[0m\u001b[0;36m100\u001b[0m\u001b[0;34m)\u001b[0m\u001b[0;34m:\u001b[0m\u001b[0;34m\u001b[0m\u001b[0;34m\u001b[0m\u001b[0m\n\u001b[0;32m--> 409\u001b[0;31m         return self.matrix_generator(w=(w - (x + I * y)) * (frame / scale) + z, x0=x0, y0=y0, rin=rin, rout=rout,\n\u001b[0m\u001b[1;32m    410\u001b[0m                                      \u001b[0mfine\u001b[0m\u001b[0;34m=\u001b[0m\u001b[0mfine\u001b[0m\u001b[0;34m,\u001b[0m\u001b[0;34m\u001b[0m\u001b[0;34m\u001b[0m\u001b[0m\n\u001b[1;32m    411\u001b[0m                                      cticks=cticks, rticks=rticks)\n",
      "\u001b[0;31mTypeError\u001b[0m: unsupported operand type(s) for -: 'function' and 'Add'"
     ]
    }
   ],
   "source": [
    "import time\n",
    "\n",
    "for tmp in range(1, 10,1):\n",
    "    cir.updateFunc(rout=tmp)\n",
    "\n",
    "# cir.updateFunc(w='z**2')"
   ]
  },
  {
   "cell_type": "code",
   "execution_count": null,
   "id": "30f5200c-4203-49a2-8de2-2396cb5f2a00",
   "metadata": {},
   "outputs": [],
   "source": []
  }
 ],
 "metadata": {
  "kernelspec": {
   "display_name": "Python 3 (ipykernel)",
   "language": "python",
   "name": "python3"
  },
  "language_info": {
   "codemirror_mode": {
    "name": "ipython",
    "version": 3
   },
   "file_extension": ".py",
   "mimetype": "text/x-python",
   "name": "python",
   "nbconvert_exporter": "python",
   "pygments_lexer": "ipython3",
   "version": "3.9.6"
  }
 },
 "nbformat": 4,
 "nbformat_minor": 5
}
