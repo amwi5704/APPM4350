{
 "cells": [
  {
   "cell_type": "code",
   "execution_count": null,
   "id": "0dfc8404-48b1-409d-ac6c-8345c147f0a1",
   "metadata": {},
   "outputs": [],
   "source": [
    "from conformalMaps.new_elementary import *\n",
    "from ipywidgets import widgets\n",
    "from ipywidgets import HBox,VBox"
   ]
  },
  {
   "cell_type": "code",
   "execution_count": null,
   "id": "9d77c79a-fe2a-4ad7-af94-04cf71eabb86",
   "metadata": {},
   "outputs": [],
   "source": [
    "# rect = Rectangle(w = z**2, Hticks=10, fine=50)\n",
    "# # len(rect.fig.data[:].x)\n",
    "# # len(rect.fig.data[0].x)\n",
    "# rect.show()"
   ]
  },
  {
   "cell_type": "code",
   "execution_count": null,
   "id": "bf4f7186-9004-4a08-9f81-ee870f8fadc7",
   "metadata": {},
   "outputs": [],
   "source": [
    "left = widgets.FloatSlider(min=-10, max=0, value=-1, description='left')\n",
    "bottom = widgets.FloatSlider(min=-10, max=0, value=-1, description='bottom')\n",
    "\n",
    "top = widgets.FloatSlider(min=0, max=10, value=1, description='top')\n",
    "right = widgets.FloatSlider(min=0, max=10, value=1, description='right')\n",
    "\n",
    "fine = widgets.IntSlider(min = 5, max = 50, value=10, description='Fine')\n",
    "\n",
    "Hticks = widgets.IntSlider(min = 2, max = 50, value=5, description='Hticks')\n",
    "Vticks = widgets.IntSlider(min = 2, max = 50, value=5, description='Vticks')\n",
    "\n",
    "\n",
    "function = widgets.Text( value = 'z' , description='w : ')\n",
    "\n",
    "rect = Rectangle()\n",
    "\n",
    "\n",
    "interactive_plot = widgets.interactive(rect.updateFunc,\n",
    "                                       w = function,\n",
    "                                       left = left,\n",
    "                                       right = right,\n",
    "                                       top= top,\n",
    "                                       bottom = bottom,\n",
    "                                       fine = fine,\n",
    "                                      Hticks = Hticks,\n",
    "                                      Vticks = Vticks)\n",
    "\n",
    "\n",
    "w1 = VBox([ left, right])\n",
    "w2 = VBox([top,bottom])\n",
    "w3 = VBox([Hticks,Vticks])\n",
    "w4 = HBox([w1,w2,w3])\n",
    "\n",
    "w5 = HBox([function, fine])\n",
    "\n",
    "w = VBox([w4, w5, rect.show()])\n",
    "\n",
    "w"
   ]
  },
  {
   "cell_type": "code",
   "execution_count": null,
   "id": "41105e0a-aa5f-49ee-8d2e-cef991e0489c",
   "metadata": {},
   "outputs": [],
   "source": []
  }
 ],
 "metadata": {
  "kernelspec": {
   "display_name": "Python 3 (ipykernel)",
   "language": "python",
   "name": "python3"
  },
  "language_info": {
   "codemirror_mode": {
    "name": "ipython",
    "version": 3
   },
   "file_extension": ".py",
   "mimetype": "text/x-python",
   "name": "python",
   "nbconvert_exporter": "python",
   "pygments_lexer": "ipython3",
   "version": "3.9.6"
  }
 },
 "nbformat": 4,
 "nbformat_minor": 5
}
