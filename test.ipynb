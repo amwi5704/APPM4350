{
 "cells": [
  {
   "cell_type": "code",
   "execution_count": 1,
   "id": "0dfc8404-48b1-409d-ac6c-8345c147f0a1",
   "metadata": {},
   "outputs": [],
   "source": [
    "from conformalMaps.new_elementary import *\n",
    "from ipywidgets import widgets\n",
    "from ipywidgets import HBox,VBox"
   ]
  },
  {
   "cell_type": "markdown",
   "id": "afb01d3f-3a17-4744-86a4-7ae3a21721b5",
   "metadata": {},
   "source": [
    "# Using Rectangle grid"
   ]
  },
  {
   "cell_type": "code",
   "execution_count": 4,
   "id": "bf4f7186-9004-4a08-9f81-ee870f8fadc7",
   "metadata": {},
   "outputs": [
    {
     "data": {
      "application/vnd.jupyter.widget-view+json": {
       "model_id": "fdeb16a37696428cadc84d7dfd5cc9b0",
       "version_major": 2,
       "version_minor": 0
      },
      "text/plain": [
       "VBox(children=(HBox(children=(VBox(children=(FloatSlider(value=-1.0, description='left', max=0.0, min=-10.0), …"
      ]
     },
     "metadata": {},
     "output_type": "display_data"
    }
   ],
   "source": [
    "rect = Rectangle()\n",
    "\n",
    "left = widgets.FloatSlider(min=-10, max=0, value=-1, description='left')\n",
    "bottom = widgets.FloatSlider(min=-10, max=0, value=-1, description='bottom')\n",
    "\n",
    "top = widgets.FloatSlider(min=0, max=10, value=1, description='top')\n",
    "right = widgets.FloatSlider(min=0, max=10, value=1, description='right')\n",
    "\n",
    "fine = widgets.IntSlider(min = 20, max = 100, value=50, description='Fine')\n",
    "\n",
    "Hticks = widgets.IntSlider(min = 2, max = 50, value=10, description='Hticks')\n",
    "Vticks = widgets.IntSlider(min = 2, max = 50, value=10, description='Vticks')\n",
    "\n",
    "\n",
    "function = widgets.Text( value = 'z**2' , description='w : ')\n",
    "\n",
    "frame = widgets.FloatSlider(min=0, max=100, value=100, step = 5, description='anim')\n",
    "\n",
    "play = widgets.Play(min= 0, max = 100, step = 5)\n",
    "# widgets.jslink((frame, 'value'), (play, 'value'))\n",
    "widgets.jslink((play, 'value'), (frame, 'value'))\n",
    "\n",
    "interactive_plot = widgets.interactive(rect.updateFunc,\n",
    "                                       w = function,\n",
    "                                       left = left,\n",
    "                                       right = right,\n",
    "                                       top= top,\n",
    "                                       bottom = bottom,\n",
    "                                       fine = fine,\n",
    "                                      Hticks = Hticks,\n",
    "                                      Vticks = Vticks,\n",
    "                                      frame = frame\n",
    "                                      )\n",
    "\n",
    "\n",
    "w1 = VBox([ left, right])\n",
    "w2 = VBox([top,bottom])\n",
    "w3 = VBox([Hticks,Vticks])\n",
    "w4 = HBox([w1,w2,w3])\n",
    "\n",
    "w5 = HBox([function, fine])\n",
    "\n",
    "anim_slider = HBox([play, frame])\n",
    "\n",
    "w = VBox([w4, w5, anim_slider, rect.show()])\n",
    "\n",
    "w"
   ]
  },
  {
   "cell_type": "code",
   "execution_count": 5,
   "id": "c7bb7d2c-5cda-4f27-b2c5-93e22119e9c4",
   "metadata": {},
   "outputs": [
    {
     "name": "stdout",
     "output_type": "stream",
     "text": [
      "The function is conformal, angles are preserved :)\n"
     ]
    }
   ],
   "source": [
    "rect.check_analytic()"
   ]
  },
  {
   "cell_type": "markdown",
   "id": "baf12d64-8023-46da-b682-f642b8698146",
   "metadata": {},
   "source": [
    "# Using Square Grid"
   ]
  },
  {
   "cell_type": "code",
   "execution_count": 6,
   "id": "2239ce05-ad76-4e9c-86b6-dd1f3d9022e8",
   "metadata": {},
   "outputs": [
    {
     "data": {
      "application/vnd.jupyter.widget-view+json": {
       "model_id": "787772419ebe4fdd92bc1f59ec7255fa",
       "version_major": 2,
       "version_minor": 0
      },
      "text/plain": [
       "VBox(children=(HBox(children=(FloatSlider(value=1.0, description='side', max=10.0, min=0.01), IntSlider(value=…"
      ]
     },
     "metadata": {},
     "output_type": "display_data"
    }
   ],
   "source": [
    "sq = Square()\n",
    "\n",
    "side = widgets.FloatSlider(min=0.01, max=10, value=1, description='side')\n",
    "\n",
    "fine = widgets.IntSlider(min = 20, max = 100, value=50, description='Fine')\n",
    "\n",
    "Hticks = widgets.IntSlider(min = 2, max = 50, value=10, description='Hticks')\n",
    "Vticks = widgets.IntSlider(min = 2, max = 50, value=10, description='Vticks')\n",
    "\n",
    "\n",
    "function = widgets.Text( value = 'z**2' , description='w : ')\n",
    "\n",
    "frame = widgets.FloatSlider(min=0, max=100, value=100, step = 5, description='anim')\n",
    "\n",
    "play = widgets.Play(min= 0, max = 100, step = 5)\n",
    "widgets.jslink((play, 'value'), (frame, 'value'))\n",
    "\n",
    "\n",
    "interactive_plot = widgets.interactive(sq.updateFunc,\n",
    "                                       w = function,\n",
    "                                       side = side,\n",
    "                                       fine = fine,\n",
    "                                      Hticks = Hticks,\n",
    "                                      Vticks = Vticks,\n",
    "                                      frame = frame\n",
    "                                      )\n",
    "\n",
    "# w1 = VBox([ left, right])\n",
    "# w2 = VBox([top,bottom])\n",
    "box1 = HBox([side, Hticks,Vticks])\n",
    "\n",
    "box2 = HBox([function, fine])\n",
    "\n",
    "anim_slider = HBox([play, frame])\n",
    "\n",
    "w = VBox([box1, box2, anim_slider, sq.show()])\n",
    "\n",
    "w"
   ]
  },
  {
   "cell_type": "code",
   "execution_count": 7,
   "id": "dc52087a-7d89-4425-ac42-a6ddd1b647fd",
   "metadata": {},
   "outputs": [
    {
     "name": "stdout",
     "output_type": "stream",
     "text": [
      "The function is conformal, angles are preserved :)\n"
     ]
    }
   ],
   "source": [
    "sq.check_analytic()"
   ]
  },
  {
   "cell_type": "code",
   "execution_count": 8,
   "id": "daf03a4a-1f28-4414-953d-1280bbb8ad89",
   "metadata": {},
   "outputs": [
    {
     "data": {
      "application/vnd.jupyter.widget-view+json": {
       "model_id": "d99a111d92294149a804a1c161910a02",
       "version_major": 2,
       "version_minor": 0
      },
      "text/plain": [
       "VBox(children=(HBox(children=(VBox(children=(FloatSlider(value=1.0, description='Rin', max=10.0), FloatSlider(…"
      ]
     },
     "metadata": {},
     "output_type": "display_data"
    }
   ],
   "source": [
    "donut = Donut()\n",
    "\n",
    "rin = widgets.FloatSlider(min=0, max=10, value=1, description='Rin')\n",
    "rout = widgets.FloatSlider(min=1, max=20, value=3, description='Rout')\n",
    "\n",
    "x0 = widgets.FloatSlider(min=-10, max=10, value=0, description='x0')\n",
    "y0 = widgets.FloatSlider(min=-10, max=10, value=0, description='y0')\n",
    "\n",
    "cticks = widgets.IntSlider(min = 2, max = 50, value=4, description='cticks')\n",
    "rticks = widgets.IntSlider(min = 2, max = 50, value=4, description='rticks')\n",
    "\n",
    "fine = widgets.IntSlider(min = 20, max = 100, value=50, description='Fine')\n",
    "\n",
    "function = widgets.Text( value = 'z**2' , description='w : ')\n",
    "\n",
    "frame = widgets.FloatSlider(min=0, max=100, value=100, step = 2, description='anim')\n",
    "\n",
    "play = widgets.Play(min= 0, max = 100, step = 5)\n",
    "widgets.jslink((play, 'value'), (frame, 'value'))\n",
    "\n",
    "interactive_plot = widgets.interactive(donut.updateFunc,\n",
    "                                       rin = rin,\n",
    "                                       rout = rout,\n",
    "                                       x0 = x0,\n",
    "                                       y0 = y0,\n",
    "                                       fine = fine,\n",
    "                                       cticks = cticks,\n",
    "                                       rticks = rticks,\n",
    "                                       w = function,\n",
    "                                       frame = frame)\n",
    "\n",
    "radius = VBox([rin, rout])\n",
    "offset = VBox([x0, y0])\n",
    "ticks = VBox([cticks, rticks])\n",
    "group = HBox([radius, offset,ticks])\n",
    "animation = HBox([play, frame])\n",
    "\n",
    "w1 = VBox([group, HBox([fine, function]), animation, donut.show()])\n",
    "\n",
    "w1"
   ]
  },
  {
   "cell_type": "code",
   "execution_count": 9,
   "id": "58ad7d2d-5cb7-42ac-b4fb-35d348e60cf3",
   "metadata": {},
   "outputs": [
    {
     "name": "stdout",
     "output_type": "stream",
     "text": [
      "The function is conformal, angles are preserved :)\n"
     ]
    }
   ],
   "source": [
    "donut.check_analytic()"
   ]
  },
  {
   "cell_type": "code",
   "execution_count": 10,
   "id": "9da711bf-94b1-44ef-b536-0d6d7295ec17",
   "metadata": {},
   "outputs": [
    {
     "data": {
      "application/vnd.jupyter.widget-view+json": {
       "model_id": "665532fe015a4a4c916b21c60936b61d",
       "version_major": 2,
       "version_minor": 0
      },
      "text/plain": [
       "VBox(children=(HBox(children=(VBox(children=(FloatSlider(value=1.0, description='R', max=10.0, min=0.1), IntSl…"
      ]
     },
     "metadata": {},
     "output_type": "display_data"
    }
   ],
   "source": [
    "circle = Circle()\n",
    "\n",
    "r = widgets.FloatSlider(min=0.1, max=10, value=1, description='R')\n",
    "\n",
    "\n",
    "x0 = widgets.FloatSlider(min=-10, max=10, value=0, description='x0')\n",
    "y0 = widgets.FloatSlider(min=-10, max=10, value=0, description='y0')\n",
    "\n",
    "cticks = widgets.IntSlider(min = 2, max = 50, value=4, description='cticks')\n",
    "rticks = widgets.IntSlider(min = 0, max = 50, value=4, description='rticks')\n",
    "\n",
    "fine = widgets.IntSlider(min = 20, max = 100, value=50, description='Fine')\n",
    "\n",
    "function = widgets.Text( value = 'z**2' , description='w : ')\n",
    "\n",
    "frame = widgets.FloatSlider(min=0, max=100, value=100, step = 2, description='anim')\n",
    "\n",
    "play = widgets.Play(min= 0, max = 100, step = 2)\n",
    "widgets.jslink((play, 'value'), (frame, 'value'))\n",
    "\n",
    "interactive_plot = widgets.interactive(circle.updateFunc,\n",
    "                                       r = r,\n",
    "                                       x0 = x0,\n",
    "                                       y0 = y0,\n",
    "                                       fine = fine,\n",
    "                                       cticks = cticks,\n",
    "                                       rticks = rticks,\n",
    "                                       w = function,\n",
    "                                       frame = frame)\n",
    "\n",
    "radius = VBox([r, fine])\n",
    "offset = VBox([x0, y0])\n",
    "ticks = VBox([cticks, rticks])\n",
    "group = HBox([radius, offset,ticks])\n",
    "animation = HBox([play, frame])\n",
    "\n",
    "w1 = VBox([group, function, animation, circle.show()])\n",
    "\n",
    "w1\n",
    "# display(interactive_plot,circle.show())"
   ]
  },
  {
   "cell_type": "code",
   "execution_count": 11,
   "id": "be86f8d6-5f47-451f-8a2e-d8a65290c215",
   "metadata": {},
   "outputs": [
    {
     "name": "stdout",
     "output_type": "stream",
     "text": [
      "The function is conformal, angles are preserved :)\n"
     ]
    }
   ],
   "source": [
    "circle.check_analytic()"
   ]
  },
  {
   "cell_type": "code",
   "execution_count": 15,
   "id": "71fc4a1a-07b6-4f93-8ec9-045ed1ee3b71",
   "metadata": {},
   "outputs": [
    {
     "data": {
      "application/vnd.jupyter.widget-view+json": {
       "model_id": "461ccad74d9d4f6a9afcbdd484fa24c6",
       "version_major": 2,
       "version_minor": 0
      },
      "text/plain": [
       "VBox(children=(HBox(children=(VBox(children=(FloatSlider(value=1.08, description='R', max=10.0, min=0.1), IntS…"
      ]
     },
     "metadata": {},
     "output_type": "display_data"
    }
   ],
   "source": [
    "single = Single_circle(rticks=0)\n",
    "\n",
    "r = widgets.FloatSlider(min=0.1, max=10, value=1.08, description='R')\n",
    "\n",
    "\n",
    "x0 = widgets.FloatSlider(min=-10, max=10, value=-0.08, description='x0')\n",
    "y0 = widgets.FloatSlider(min=-10, max=10, value=0.08, description='y0')\n",
    "\n",
    "rticks = widgets.IntSlider(min = 0, max = 50, value=0, description='rticks')\n",
    "\n",
    "fine = widgets.IntSlider(min = 20, max = 100, value=50, description='Fine')\n",
    "\n",
    "function = widgets.Text( value = 'z+1/z' , description='w : ')\n",
    "\n",
    "frame = widgets.FloatSlider(min=0, max=100, value=100, step = 2, description='anim')\n",
    "\n",
    "play = widgets.Play(min= 0, max = 100, step = 2)\n",
    "widgets.jslink((play, 'value'), (frame, 'value'))\n",
    "\n",
    "interactive_plot = widgets.interactive(single.updateFunc,\n",
    "                                       r = r,\n",
    "                                       x0 = x0,\n",
    "                                       y0 = y0,\n",
    "                                       fine = fine,\n",
    "                                       rticks = rticks,\n",
    "                                       w = function,\n",
    "                                       frame = frame)\n",
    "\n",
    "radius = VBox([r, fine])\n",
    "offset = VBox([x0, y0])\n",
    "# ticks = VBox([cticks, rticks])\n",
    "group = HBox([radius, offset,rticks])\n",
    "animation = HBox([play, frame])\n",
    "\n",
    "w1 = VBox([group, function, animation, single.show()])\n",
    "\n",
    "w1"
   ]
  },
  {
   "cell_type": "code",
   "execution_count": 16,
   "id": "66538641-3ce0-4c54-bc53-df76b945ff71",
   "metadata": {},
   "outputs": [
    {
     "name": "stdout",
     "output_type": "stream",
     "text": [
      "The function is conformal, angles are preserved :)\n"
     ]
    }
   ],
   "source": [
    "single.check_analytic()"
   ]
  },
  {
   "cell_type": "code",
   "execution_count": null,
   "id": "30f5200c-4203-49a2-8de2-2396cb5f2a00",
   "metadata": {},
   "outputs": [],
   "source": []
  }
 ],
 "metadata": {
  "kernelspec": {
   "display_name": "Python 3 (ipykernel)",
   "language": "python",
   "name": "python3"
  },
  "language_info": {
   "codemirror_mode": {
    "name": "ipython",
    "version": 3
   },
   "file_extension": ".py",
   "mimetype": "text/x-python",
   "name": "python",
   "nbconvert_exporter": "python",
   "pygments_lexer": "ipython3",
   "version": "3.9.6"
  }
 },
 "nbformat": 4,
 "nbformat_minor": 5
}
