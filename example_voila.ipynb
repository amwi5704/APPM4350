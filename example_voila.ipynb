{
 "cells": [
  {
   "cell_type": "markdown",
   "metadata": {},
   "source": [
    "# **conformalMaps**\n",
    "\n",
    "[github repository with code](https://github.com/im-AMS/Conformal-Maps)\n",
    "\n",
    "### An interactive package for intercative use of conformal mappings\n",
    "\n",
    "* Function **w = f(z) should be entered in standard Pythonic form**, (ex:z**2 for $z^2$)\n",
    "\n",
    "* Functions entered should be availabe in SymPy lib and must be entered in same form because internally it uses sympy for symbolic conversion.\n",
    "\n",
    "* The entered function w can be a function of z or of the form x + i y\n",
    "'x' and 'y' are real and imaginary variables respectively.\n",
    "\n",
    "* Typical usage\n",
    "```\n",
    "     z**2\n",
    "     x**2 + I*y**2\n",
    "     tan(z)\n",
    "```\n",
    "* **Note use 'I' for imaginary number $\\rm{i}$ iota**\n",
    "\n",
    "* Use transformation slider to see the transformation\n",
    "* Limit range limits the grid to $\\pm$ slider value\n",
    "* Ticks increases number of gridlines"
   ]
  },
  {
   "cell_type": "markdown",
   "metadata": {},
   "source": [
    "# Supported Grids to transform\n",
    "\n",
    "* **Rectangle**\n",
    "\n",
    "* **Square**\n",
    "\n",
    "* **Donut**\n",
    "\n",
    "* **Circle**\n",
    "\n",
    "* **Single circle**\n",
    "\n",
    "# Advanced builtin functions for w\n",
    "\n",
    "* **Rectangle to Eccentric Annulus**\n",
    "\n",
    "* **Rectangle to Elliptic Annulus**\n",
    "\n",
    "* **Concentric Annulus To Eccentric Annulus**"
   ]
  },
  {
   "cell_type": "code",
   "execution_count": 1,
   "metadata": {},
   "outputs": [],
   "source": [
    "from conformalMaps.grids import *\n",
    "from conformalMaps.mappings import RectangleToEccentricAnnulus, RectangleToEllipticAnnulus, ConcentricAnnulusToEccentricAnnulus\n",
    "from ipywidgets import widgets\n",
    "from ipywidgets import HBox,VBox"
   ]
  },
  {
   "cell_type": "markdown",
   "metadata": {},
   "source": [
    "# Using Rectangle grid"
   ]
  },
  {
   "cell_type": "code",
   "execution_count": 2,
   "metadata": {},
   "outputs": [
    {
     "data": {
      "application/vnd.jupyter.widget-view+json": {
       "model_id": "f6364829098943a9b2b69998cf2f573c",
       "version_major": 2,
       "version_minor": 0
      },
      "text/plain": [
       "VBox(children=(HBox(children=(VBox(children=(FloatSlider(value=-1.0, description='left', max=10.0, min=-10.0),…"
      ]
     },
     "metadata": {},
     "output_type": "display_data"
    }
   ],
   "source": [
    "rect = Rectangle()\n",
    "\n",
    "left = widgets.FloatSlider(min=-10, max=10, value=-1, description='left')\n",
    "bottom = widgets.FloatSlider(min=-10, max=10, value=-1, description='bottom')\n",
    "\n",
    "top = widgets.FloatSlider(min=-10, max=10, value=1, description='top')\n",
    "right = widgets.FloatSlider(min=-10, max=10, value=1, description='right')\n",
    "\n",
    "fine = widgets.IntSlider(min = 20, max = 100, value=50, description='Fine')\n",
    "\n",
    "Hticks = widgets.IntSlider(min = 2, max = 50, value=10, description='Hticks')\n",
    "Vticks = widgets.IntSlider(min = 2, max = 50, value=10, description='Vticks')\n",
    "\n",
    "\n",
    "function = widgets.Text( value = 'z**2' , description='w : ')\n",
    "\n",
    "frame = widgets.FloatSlider(min=0, max=100, value=100, step = 5, description='anim')\n",
    "\n",
    "play = widgets.Play(min= 0, max = 100, step = 5)\n",
    "widgets.jslink((play, 'value'), (frame, 'value'))\n",
    "\n",
    "button = widgets.Button(description=\"Coformal?\")\n",
    "\n",
    "\n",
    "analytic0 = widgets.HTML(\n",
    "    value=\"To be checked\",\n",
    "    #placeholder='Some HTML',\n",
    "    description='Conformality:',\n",
    ")\n",
    "\n",
    "def on_button_clicked(b): \n",
    "    if rect.check_analytic(silent=True):\n",
    "        analytic0.value = '<b>Is conformal</b>, angles are preserved :)'\n",
    "    else:\n",
    "        analytic0.value = '<b>Not conformal</b>, angles are not preserved ...'\n",
    "\n",
    "        \n",
    "button.on_click(on_button_clicked)  \n",
    "\n",
    "interactive_plot = widgets.interactive(rect.updateFunc,\n",
    "                                       w = function,\n",
    "                                       left = left,\n",
    "                                       right = right,\n",
    "                                       top= top,\n",
    "                                       bottom = bottom,\n",
    "                                       fine = fine,\n",
    "                                      Hticks = Hticks,\n",
    "                                      Vticks = Vticks,\n",
    "                                      frame = frame\n",
    "                                      )\n",
    "\n",
    "\n",
    "w1 = VBox([ left, right])\n",
    "w2 = VBox([top,bottom])\n",
    "w3 = VBox([Hticks,Vticks])\n",
    "w4 = HBox([w1,w2,w3])\n",
    "\n",
    "w5 = HBox([function, fine, button])\n",
    "\n",
    "anim_slider = HBox([play, frame, analytic0])\n",
    "\n",
    "w = VBox([w4, w5, anim_slider, rect.show()])\n",
    "\n",
    "w"
   ]
  },
  {
   "cell_type": "markdown",
   "metadata": {},
   "source": [
    "# Using Square Grid"
   ]
  },
  {
   "cell_type": "code",
   "execution_count": 3,
   "metadata": {},
   "outputs": [
    {
     "data": {
      "application/vnd.jupyter.widget-view+json": {
       "model_id": "56cf6335147442d1afd2f470b3c3ee48",
       "version_major": 2,
       "version_minor": 0
      },
      "text/plain": [
       "VBox(children=(HBox(children=(FloatSlider(value=1.0, description='side', max=10.0, min=0.01), IntSlider(value=…"
      ]
     },
     "metadata": {},
     "output_type": "display_data"
    }
   ],
   "source": [
    "sq = Square()\n",
    "\n",
    "side = widgets.FloatSlider(min=0.01, max=10, value=1, description='side')\n",
    "\n",
    "fine = widgets.IntSlider(min = 20, max = 100, value=50, description='Fine')\n",
    "\n",
    "Hticks = widgets.IntSlider(min = 2, max = 50, value=10, description='Hticks')\n",
    "Vticks = widgets.IntSlider(min = 2, max = 50, value=10, description='Vticks')\n",
    "\n",
    "\n",
    "function = widgets.Text( value = 'z**2' , description='w : ')\n",
    "\n",
    "frame = widgets.FloatSlider(min=0, max=100, value=100, step = 5, description='anim')\n",
    "\n",
    "play = widgets.Play(min= 0, max = 100, step = 5)\n",
    "widgets.jslink((play, 'value'), (frame, 'value'))\n",
    "\n",
    "button = widgets.Button(description=\"Coformal?\")\n",
    "\n",
    "\n",
    "analytic1 = widgets.HTML(\n",
    "    value=\"To be checked\",\n",
    "    #placeholder='Some HTML',\n",
    "    description='Conformality:',\n",
    ")\n",
    "\n",
    "def on_button_clicked(b): \n",
    "    if sq.check_analytic(silent=True):\n",
    "        analytic1.value = '<b>Is conformal</b>, angles are preserved :)'\n",
    "    else:\n",
    "        analytic1.value = '<b>Not conformal</b>, angles are not preserved ...'\n",
    "\n",
    "        \n",
    "button.on_click(on_button_clicked)  \n",
    "\n",
    "interactive_plot = widgets.interactive(sq.updateFunc,\n",
    "                                       w = function,\n",
    "                                       side = side,\n",
    "                                       fine = fine,\n",
    "                                      Hticks = Hticks,\n",
    "                                      Vticks = Vticks,\n",
    "                                      frame = frame\n",
    "                                      )\n",
    "\n",
    "# w1 = VBox([ left, right])\n",
    "# w2 = VBox([top,bottom])\n",
    "box1 = HBox([side, Hticks,Vticks])\n",
    "\n",
    "box2 = HBox([function, fine, button])\n",
    "\n",
    "anim_slider = HBox([play, frame, analytic1])\n",
    "\n",
    "w = VBox([box1, box2, anim_slider, sq.show()])\n",
    "\n",
    "w"
   ]
  },
  {
   "cell_type": "code",
   "execution_count": 11,
   "metadata": {},
   "outputs": [
    {
     "data": {
      "application/vnd.jupyter.widget-view+json": {
       "model_id": "266e752613b640f592d6664fbcb83a63",
       "version_major": 2,
       "version_minor": 0
      },
      "text/plain": [
       "VBox(children=(HBox(children=(FloatSlider(value=1.0, description='side', max=10.0, min=0.01), IntSlider(value=…"
      ]
     },
     "metadata": {},
     "output_type": "display_data"
    }
   ],
   "source": [
    "r = sym.sqrt(x**2+y**2)\n",
    "\n",
    "f = x*(sym.sqrt(x**2+y**2-x**2*y**2))/r + sym.I*y*(sym.sqrt(x**2+y**2-x**2*y**2))/r # transforms unit square\n",
    "\n",
    "sq2 = Square()\n",
    "\n",
    "side = widgets.FloatSlider(min=0.01, max=10, value=1, description='side')\n",
    "\n",
    "fine = widgets.IntSlider(min = 20, max = 100, value=50, description='Fine')\n",
    "\n",
    "Hticks = widgets.IntSlider(min = 2, max = 50, value=10, description='Hticks')\n",
    "Vticks = widgets.IntSlider(min = 2, max = 50, value=10, description='Vticks')\n",
    "\n",
    "\n",
    "function = widgets.Text(  value = '%s' %(f) , description='w : ')\n",
    "\n",
    "frame = widgets.FloatSlider(min=0, max=100, value=100, step = 5, description='anim')\n",
    "\n",
    "play = widgets.Play(min= 0, max = 100, step = 5)\n",
    "widgets.jslink((play, 'value'), (frame, 'value'))\n",
    "\n",
    "button = widgets.Button(description=\"Coformal?\")\n",
    "\n",
    "\n",
    "analytic2 = widgets.HTML(\n",
    "    value=\"To be checked\",\n",
    "    #placeholder='Some HTML',\n",
    "    description='Conformality:',\n",
    ")\n",
    "\n",
    "def on_button_clicked(b): \n",
    "    if sq2.check_analytic(silent=True):\n",
    "        analytic2.value = '<b>Is conformal</b>, angles are preserved :)'\n",
    "    else:\n",
    "        analytic2.value = '<b>Not conformal</b>, angles are not preserved ...'\n",
    "\n",
    "    \n",
    "button.on_click(on_button_clicked)       \n",
    "    \n",
    "interactive_plot = widgets.interactive(sq2.updateFunc,\n",
    "                                       w = function,\n",
    "                                       side = side,\n",
    "                                       fine = fine,\n",
    "                                      Hticks = Hticks,\n",
    "                                      Vticks = Vticks,\n",
    "                                      frame = frame\n",
    "                                      )\n",
    "\n",
    "\n",
    "\n",
    "\n",
    "# w1 = VBox([ left, right])\n",
    "# w2 = VBox([top,bottom])\n",
    "box1 = HBox([side, Hticks,Vticks])\n",
    "\n",
    "box2 = HBox([function, fine, button])\n",
    "\n",
    "anim_slider = HBox([play, frame, analytic2])\n",
    "\n",
    "\n",
    "\n",
    "\n",
    "\n",
    "w = VBox([box1, box2, anim_slider, sq2.show()])\n",
    "\n",
    "w\n"
   ]
  },
  {
   "cell_type": "markdown",
   "metadata": {},
   "source": [
    "# Using Donut Grid"
   ]
  },
  {
   "cell_type": "code",
   "execution_count": 5,
   "metadata": {},
   "outputs": [
    {
     "data": {
      "application/vnd.jupyter.widget-view+json": {
       "model_id": "13cdc5d4e8044b09beb1c5ba815a73d0",
       "version_major": 2,
       "version_minor": 0
      },
      "text/plain": [
       "VBox(children=(HBox(children=(VBox(children=(FloatSlider(value=1.0, description='Rin', max=10.0), FloatSlider(…"
      ]
     },
     "metadata": {},
     "output_type": "display_data"
    }
   ],
   "source": [
    "donut = Donut()\n",
    "\n",
    "rin = widgets.FloatSlider(min=0, max=10, value=1, description='Rin')\n",
    "rout = widgets.FloatSlider(min=1, max=20, value=3, description='Rout')\n",
    "\n",
    "x0 = widgets.FloatSlider(min=-10, max=10, value=0, description='x0')\n",
    "y0 = widgets.FloatSlider(min=-10, max=10, value=0, description='y0')\n",
    "\n",
    "cticks = widgets.IntSlider(min = 2, max = 50, value=4, description='cticks')\n",
    "rticks = widgets.IntSlider(min = 2, max = 50, value=4, description='rticks')\n",
    "\n",
    "fine = widgets.IntSlider(min = 20, max = 100, value=50, description='Fine')\n",
    "\n",
    "function = widgets.Text( value = 'z**2' , description='w : ')\n",
    "\n",
    "frame = widgets.FloatSlider(min=0, max=100, value=100, step = 2, description='anim')\n",
    "\n",
    "play = widgets.Play(min= 0, max = 100, step = 5)\n",
    "widgets.jslink((play, 'value'), (frame, 'value'))\n",
    "\n",
    "button = widgets.Button(description=\"Coformal?\")\n",
    "\n",
    "\n",
    "analytic3 = widgets.HTML(\n",
    "    value=\"To be checked\",\n",
    "    #placeholder='Some HTML',\n",
    "    description='Conformality:',\n",
    ")\n",
    "\n",
    "def on_button_clicked(b): \n",
    "    if donut.check_analytic(silent=True):\n",
    "        analytic3.value = '<b>Is conformal</b>, angles are preserved :)'\n",
    "    else:\n",
    "        analytic3.value = '<b>Not conformal</b>, angles are not preserved ...'\n",
    "\n",
    "        \n",
    "button.on_click(on_button_clicked)  \n",
    "\n",
    "interactive_plot = widgets.interactive(donut.updateFunc,\n",
    "                                       rin = rin,\n",
    "                                       rout = rout,\n",
    "                                       x0 = x0,\n",
    "                                       y0 = y0,\n",
    "                                       fine = fine,\n",
    "                                       cticks = cticks,\n",
    "                                       rticks = rticks,\n",
    "                                       w = function,\n",
    "                                       frame = frame)\n",
    "\n",
    "radius = VBox([rin, rout])\n",
    "offset = VBox([x0, y0])\n",
    "ticks = VBox([cticks, rticks])\n",
    "group = HBox([radius, offset,ticks])\n",
    "animation = HBox([play, frame, analytic3])\n",
    "\n",
    "w1 = VBox([group, HBox([fine, function, button]), animation, donut.show()])\n",
    "\n",
    "w1"
   ]
  },
  {
   "cell_type": "markdown",
   "metadata": {},
   "source": [
    "# Using Circle Grid"
   ]
  },
  {
   "cell_type": "code",
   "execution_count": 6,
   "metadata": {},
   "outputs": [
    {
     "data": {
      "application/vnd.jupyter.widget-view+json": {
       "model_id": "a0081e72f0f049d9b7072821bc97e5be",
       "version_major": 2,
       "version_minor": 0
      },
      "text/plain": [
       "VBox(children=(HBox(children=(VBox(children=(FloatSlider(value=1.0, description='R', max=10.0, min=0.1), IntSl…"
      ]
     },
     "metadata": {},
     "output_type": "display_data"
    }
   ],
   "source": [
    "circle = Circle()\n",
    "\n",
    "r = widgets.FloatSlider(min=0.1, max=10, value=1, description='R')\n",
    "\n",
    "\n",
    "x0 = widgets.FloatSlider(min=-10, max=10, value=0, description='x0')\n",
    "y0 = widgets.FloatSlider(min=-10, max=10, value=0, description='y0')\n",
    "\n",
    "cticks = widgets.IntSlider(min = 2, max = 50, value=4, description='cticks')\n",
    "rticks = widgets.IntSlider(min = 0, max = 50, value=4, description='rticks')\n",
    "\n",
    "fine = widgets.IntSlider(min = 20, max = 100, value=50, description='Fine')\n",
    "\n",
    "function = widgets.Text( value = 'z**2' , description='w : ')\n",
    "\n",
    "frame = widgets.FloatSlider(min=0, max=100, value=100, step = 2, description='anim')\n",
    "\n",
    "play = widgets.Play(min= 0, max = 100, step = 2)\n",
    "widgets.jslink((play, 'value'), (frame, 'value'))\n",
    "\n",
    "button = widgets.Button(description=\"Coformal?\")\n",
    "\n",
    "\n",
    "analytic4 = widgets.HTML(\n",
    "    value=\"To be checked\",\n",
    "    #placeholder='Some HTML',\n",
    "    description='Conformality:',\n",
    ")\n",
    "\n",
    "def on_button_clicked(b): \n",
    "    if circle.check_analytic(silent=True):\n",
    "        analytic4.value = '<b>Is conformal</b>, angles are preserved :)'\n",
    "    else:\n",
    "        analytic4.value = '<b>Not conformal</b>, angles are not preserved ...'\n",
    "\n",
    "        \n",
    "button.on_click(on_button_clicked)  \n",
    "\n",
    "interactive_plot = widgets.interactive(circle.updateFunc,\n",
    "                                       r = r,\n",
    "                                       x0 = x0,\n",
    "                                       y0 = y0,\n",
    "                                       fine = fine,\n",
    "                                       cticks = cticks,\n",
    "                                       rticks = rticks,\n",
    "                                       w = function,\n",
    "                                       frame = frame)\n",
    "\n",
    "radius = VBox([r, fine])\n",
    "offset = VBox([x0, y0])\n",
    "ticks = VBox([cticks, rticks])\n",
    "group = HBox([radius, offset,ticks])\n",
    "animation = HBox([play, frame, button, analytic4])\n",
    "\n",
    "w1 = VBox([group, function, animation, circle.show()])\n",
    "\n",
    "w1\n",
    "# display(interactive_plot,circle.show())"
   ]
  },
  {
   "cell_type": "markdown",
   "metadata": {},
   "source": [
    "# Using Single_circle"
   ]
  },
  {
   "cell_type": "code",
   "execution_count": 7,
   "metadata": {},
   "outputs": [
    {
     "data": {
      "application/vnd.jupyter.widget-view+json": {
       "model_id": "809e518d49904b3c9af36d9414ecf4e9",
       "version_major": 2,
       "version_minor": 0
      },
      "text/plain": [
       "VBox(children=(HBox(children=(VBox(children=(FloatSlider(value=1.08, description='R', max=10.0, min=0.1), IntS…"
      ]
     },
     "metadata": {},
     "output_type": "display_data"
    }
   ],
   "source": [
    "single = Single_circle(rticks=0)\n",
    "\n",
    "r = widgets.FloatSlider(min=0.1, max=10, value=1.08, description='R')\n",
    "\n",
    "\n",
    "x0 = widgets.FloatSlider(min=-10, max=10, value=-0.08, description='x0')\n",
    "y0 = widgets.FloatSlider(min=-10, max=10, value=0.08, description='y0')\n",
    "\n",
    "rticks = widgets.IntSlider(min = 0, max = 50, value=0, description='rticks')\n",
    "\n",
    "fine = widgets.IntSlider(min = 20, max = 100, value=50, description='Fine')\n",
    "\n",
    "function = widgets.Text( value = 'z+1/z' , description='w : ')\n",
    "\n",
    "frame = widgets.FloatSlider(min=0, max=100, value=100, step = 2, description='anim')\n",
    "\n",
    "play = widgets.Play(min= 0, max = 100, step = 2)\n",
    "widgets.jslink((play, 'value'), (frame, 'value'))\n",
    "\n",
    "button = widgets.Button(description=\"Coformal?\")\n",
    "\n",
    "\n",
    "analytic5 = widgets.HTML(\n",
    "    value=\"To be checked\",\n",
    "    #placeholder='Some HTML',\n",
    "    description='Conformality:',\n",
    ")\n",
    "\n",
    "def on_button_clicked(b): \n",
    "    if single.check_analytic(silent=True):\n",
    "        analytic5.value = '<b>Is conformal</b>, angles are preserved :)'\n",
    "    else:\n",
    "        analytic5.value = '<b>Not conformal</b>, angles are not preserved ...'\n",
    "\n",
    "        \n",
    "button.on_click(on_button_clicked)  \n",
    "\n",
    "interactive_plot = widgets.interactive(single.updateFunc,\n",
    "                                       r = r,\n",
    "                                       x0 = x0,\n",
    "                                       y0 = y0,\n",
    "                                       fine = fine,\n",
    "                                       rticks = rticks,\n",
    "                                       w = function,\n",
    "                                       frame = frame)\n",
    "\n",
    "radius = VBox([r, fine])\n",
    "offset = VBox([x0, y0])\n",
    "# ticks = VBox([cticks, rticks])\n",
    "group = HBox([radius, offset,rticks])\n",
    "animation = HBox([play, frame, button, analytic5])\n",
    "\n",
    "w1 = VBox([group, function, animation, single.show()])\n",
    "\n",
    "w1"
   ]
  },
  {
   "cell_type": "markdown",
   "metadata": {},
   "source": [
    "# Using Builtin complicated functions for w\n",
    "\n",
    "In engineering one may be interested in soling the Laplace in Poisson equation in \"complicated\" domains as eccentric annuli or elliptic annuli. With the help of builtin functions from ```conformalMaps``` one can see how those domains are conformally related to simple domains as eccentric annuli or rectangles."
   ]
  },
  {
   "cell_type": "markdown",
   "metadata": {},
   "source": [
    "### using EccentricAnnulus as w\n",
    "Mapping a cetrain rectangle to a specific eccentric annulus (donuts)"
   ]
  },
  {
   "cell_type": "code",
   "execution_count": 13,
   "metadata": {},
   "outputs": [
    {
     "data": {
      "application/vnd.jupyter.widget-view+json": {
       "model_id": "2ada060bbcbc4cfcbe5ae2821d459e27",
       "version_major": 2,
       "version_minor": 0
      },
      "text/plain": [
       "VBox(children=(HBox(children=(VBox(children=(FloatSlider(value=-3.141592653589793, description='left', max=10.…"
      ]
     },
     "metadata": {},
     "output_type": "display_data"
    }
   ],
   "source": [
    "R1 = 4 # inner radius of target eccentric annulus\n",
    "R2 = 7.6 # outer radius of target eccentric annulus\n",
    "ep = 0.7 # relative eccentricity of target eccentric annulus\n",
    "\n",
    "trans = RectangleToEccentricAnnulus(R1, R2, ep)\n",
    "\n",
    "\n",
    "rect2 = Rectangle()\n",
    "\n",
    "left = widgets.FloatSlider(min=-10, max=10, value=-pi, description='left')\n",
    "right = widgets.FloatSlider(min=-10, max=10, value=pi, description='right')\n",
    "\n",
    "top = widgets.FloatSlider(min=-10, max=10, value=1.5, description='top')\n",
    "bottom = widgets.FloatSlider(min=-10, max=10, value=0.8, description='bottom')\n",
    "\n",
    "\n",
    "fine = widgets.IntSlider(min = 20, max = 100, value=50, description='Fine')\n",
    "\n",
    "Hticks = widgets.IntSlider(min = 2, max = 50, value=10, description='Hticks')\n",
    "Vticks = widgets.IntSlider(min = 2, max = 50, value=20, description='Vticks')\n",
    "\n",
    "\n",
    "function = widgets.Text( value = '{0}'.format(trans.mapping(z)) , description='w : ')\n",
    "\n",
    "frame = widgets.FloatSlider(min=0, max=100, value=100, step = 5, description='anim')\n",
    "\n",
    "play = widgets.Play(min= 0, max = 100, step = 5)\n",
    "# widgets.jslink((frame, 'value'), (play, 'value'))\n",
    "widgets.jslink((play, 'value'), (frame, 'value'))\n",
    "\n",
    "button = widgets.Button(description=\"Coformal?\")\n",
    "\n",
    "\n",
    "analytic6 = widgets.HTML(\n",
    "    value=\"To be checked\",\n",
    "    #placeholder='Some HTML',\n",
    "    description='Conformality:',\n",
    ")\n",
    "\n",
    "def on_button_clicked(b): \n",
    "    if rect2.check_analytic(silent=True):\n",
    "        analytic6.value = '<b>Is conformal</b>, angles are preserved :)'\n",
    "    else:\n",
    "        analytic6.value = '<b>Not conformal</b>, angles are not preserved ...'\n",
    "\n",
    "        \n",
    "button.on_click(on_button_clicked)  \n",
    "\n",
    "interactive_plot = widgets.interactive(rect2.updateFunc,\n",
    "                                       w = function,\n",
    "                                       left = left,\n",
    "                                       right = right,\n",
    "                                       top= top,\n",
    "                                       bottom = bottom,\n",
    "                                       fine = fine,\n",
    "                                      Hticks = Hticks,\n",
    "                                      Vticks = Vticks,\n",
    "                                      frame = frame\n",
    "                                      )\n",
    "\n",
    "\n",
    "w1 = VBox([ left, right])\n",
    "w2 = VBox([top,bottom])\n",
    "w3 = VBox([Hticks,Vticks])\n",
    "w4 = HBox([w1,w2,w3])\n",
    "\n",
    "w5 = HBox([function, fine])\n",
    "\n",
    "anim_slider = HBox([play, frame, button, analytic6])\n",
    "\n",
    "w = VBox([w4, w5, anim_slider, rect2.show()])\n",
    "\n",
    "w\n",
    "\n"
   ]
  },
  {
   "cell_type": "markdown",
   "metadata": {},
   "source": [
    "### using EccentricAnnulus as w\n",
    "Mapping a cetrain donur or concentric annulus to a specific eccentric annulus (donuts)"
   ]
  },
  {
   "cell_type": "code",
   "execution_count": 15,
   "metadata": {},
   "outputs": [
    {
     "data": {
      "application/vnd.jupyter.widget-view+json": {
       "model_id": "806264dc954d4abf8b22c82212ce040a",
       "version_major": 2,
       "version_minor": 0
      },
      "text/plain": [
       "VBox(children=(HBox(children=(VBox(children=(FloatSlider(value=1.0, description='Rin', max=10.0), FloatSlider(…"
      ]
     },
     "metadata": {},
     "output_type": "display_data"
    }
   ],
   "source": [
    "R1 = 4 # inner radius of target eccentric annulus\n",
    "R2 = 7.6 # outer radius of target eccentric annulus\n",
    "ep = 0.7 # relative eccentricity of target eccentric annulus\n",
    "\n",
    "trans = ConcentricAnnulusToEccentricAnnulus(R1, R2, ep)\n",
    "\n",
    "\n",
    "donut2 = Donut()\n",
    "\n",
    "\n",
    "\n",
    "\n",
    "rin = widgets.FloatSlider(min=0, max=10, value=trans.rin, description='Rin')\n",
    "rout = widgets.FloatSlider(min=1, max=20, value=trans.rout, description='Rout')\n",
    "\n",
    "x0 = widgets.FloatSlider(min=-10, max=10, value=0, description='x0')\n",
    "y0 = widgets.FloatSlider(min=-10, max=10, value=0, description='y0')\n",
    "\n",
    "cticks = widgets.IntSlider(min = 2, max = 50, value=20, description='cticks')\n",
    "rticks = widgets.IntSlider(min = 2, max = 50, value=20, description='rticks')\n",
    "\n",
    "fine = widgets.IntSlider(min = 20, max = 100, value=50, description='Fine')\n",
    "\n",
    "function = widgets.Text( value = '%s' % (trans.mapping(z)) , description='w : ')\n",
    "\n",
    "frame = widgets.FloatSlider(min=0, max=100, value=100, step = 2, description='anim')\n",
    "\n",
    "play = widgets.Play(min= 0, max = 100, step = 5)\n",
    "widgets.jslink((play, 'value'), (frame, 'value'))\n",
    "\n",
    "button = widgets.Button(description=\"Coformal?\")\n",
    "\n",
    "\n",
    "analytic7 = widgets.HTML(\n",
    "    value=\"To be checked\",\n",
    "    #placeholder='Some HTML',\n",
    "    description='Conformality:',\n",
    ")\n",
    "\n",
    "def on_button_clicked(b): \n",
    "    if donut2.check_analytic(silent=True):\n",
    "        analytic7.value = '<b>Is conformal</b>, angles are preserved :)'\n",
    "    else:\n",
    "        analytic7.value = '<b>Not conformal</b>, angles are not preserved ...'\n",
    "\n",
    "        \n",
    "button.on_click(on_button_clicked)          \n",
    "        \n",
    "interactive_plot = widgets.interactive(donut2.updateFunc,\n",
    "                                       rin = rin,\n",
    "                                       rout = rout,\n",
    "                                       x0 = x0,\n",
    "                                       y0 = y0,\n",
    "                                       fine = fine,\n",
    "                                       cticks = cticks,\n",
    "                                       rticks = rticks,\n",
    "                                       w = function,\n",
    "                                       frame = frame)\n",
    "\n",
    "radius = VBox([rin, rout])\n",
    "offset = VBox([x0, y0])\n",
    "ticks = VBox([cticks, rticks])\n",
    "group = HBox([radius, offset,ticks])\n",
    "animation = HBox([play, frame, analytic7])\n",
    "\n",
    "\n",
    "\n",
    "w1 = VBox([group, HBox([fine, function, button]), animation, donut2.show()])\n",
    "\n",
    "w1\n"
   ]
  },
  {
   "cell_type": "markdown",
   "metadata": {},
   "source": [
    "### Using EllipticAnnulus as w\n",
    "Mapping a cetrain rectangle to a specific elliptic annulus (donut)"
   ]
  },
  {
   "cell_type": "code",
   "execution_count": 16,
   "metadata": {},
   "outputs": [
    {
     "data": {
      "application/vnd.jupyter.widget-view+json": {
       "model_id": "51a4415105fc47c38255042562180269",
       "version_major": 2,
       "version_minor": 0
      },
      "text/plain": [
       "VBox(children=(HBox(children=(VBox(children=(FloatSlider(value=0.27302255894601435, description='left', max=10…"
      ]
     },
     "metadata": {},
     "output_type": "display_data"
    }
   ],
   "source": [
    "a = 5 # half axis of outer ellipse\n",
    "\n",
    "b = 3.6 # half axis of inner ellipse\n",
    "\n",
    "trans = RectangleToEllipticAnnulus(b, a)\n",
    "\n",
    "\n",
    "rect3 = Rectangle()\n",
    "\n",
    "left = widgets.FloatSlider(min=-10, max=10, value=trans.left, description='left')\n",
    "right = widgets.FloatSlider(min=-10, max=10, value=trans.right, description='right')\n",
    "\n",
    "top = widgets.FloatSlider(min=-10, max=10, value=trans.top, description='top')\n",
    "bottom = widgets.FloatSlider(min=-10, max=10, value=trans.bottom, description='bottom')\n",
    "\n",
    "\n",
    "fine = widgets.IntSlider(min = 20, max = 100, value=50, description='Fine')\n",
    "\n",
    "Hticks = widgets.IntSlider(min = 2, max = 50, value=10, description='Hticks')\n",
    "Vticks = widgets.IntSlider(min = 2, max = 50, value=20, description='Vticks')\n",
    "\n",
    "\n",
    "function = widgets.Text( value = '{0}'.format(trans.mapping(z)) , description='w : ')\n",
    "\n",
    "frame = widgets.FloatSlider(min=0, max=100, value=100, step = 5, description='anim')\n",
    "\n",
    "play = widgets.Play(min= 0, max = 100, step = 5)\n",
    "# widgets.jslink((frame, 'value'), (play, 'value'))\n",
    "widgets.jslink((play, 'value'), (frame, 'value'))\n",
    "\n",
    "button = widgets.Button(description=\"Coformal?\")\n",
    "\n",
    "\n",
    "analytic8 = widgets.HTML(\n",
    "    value=\"To be checked\",\n",
    "    #placeholder='Some HTML',\n",
    "    description='Conformality:',\n",
    ")\n",
    "\n",
    "def on_button_clicked(b): \n",
    "    if rect3.check_analytic(silent=True):\n",
    "        analytic8.value = '<b>Is conformal</b>, angles are preserved :)'\n",
    "    else:\n",
    "        analytic8.value = '<b>Not conformal</b>, angles are not preserved ...'\n",
    "\n",
    "        \n",
    "button.on_click(on_button_clicked)  \n",
    "\n",
    "interactive_plot = widgets.interactive(rect3.updateFunc,\n",
    "                                       w = function,\n",
    "                                       left = left,\n",
    "                                       right = right,\n",
    "                                       top= top,\n",
    "                                       bottom = bottom,\n",
    "                                       fine = fine,\n",
    "                                      Hticks = Hticks,\n",
    "                                      Vticks = Vticks,\n",
    "                                      frame = frame\n",
    "                                      )\n",
    "\n",
    "\n",
    "w1 = VBox([ left, right])\n",
    "w2 = VBox([top,bottom])\n",
    "w3 = VBox([Hticks,Vticks])\n",
    "w4 = HBox([w1,w2,w3])\n",
    "\n",
    "w5 = HBox([function, fine, button])\n",
    "\n",
    "anim_slider = HBox([play, frame, analytic8])\n",
    "\n",
    "w = VBox([w4, w5, anim_slider, rect3.show()])\n",
    "\n",
    "w\n",
    "\n"
   ]
  },
  {
   "cell_type": "code",
   "execution_count": null,
   "metadata": {},
   "outputs": [],
   "source": []
  }
 ],
 "metadata": {
  "kernelspec": {
   "display_name": "Python 3",
   "language": "python",
   "name": "python3"
  },
  "language_info": {
   "codemirror_mode": {
    "name": "ipython",
    "version": 3
   },
   "file_extension": ".py",
   "mimetype": "text/x-python",
   "name": "python",
   "nbconvert_exporter": "python",
   "pygments_lexer": "ipython3",
   "version": "3.8.3"
  }
 },
 "nbformat": 4,
 "nbformat_minor": 5
}
