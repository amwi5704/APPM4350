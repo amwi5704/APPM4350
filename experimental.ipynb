{
 "cells": [
  {
   "cell_type": "markdown",
   "metadata": {},
   "source": [
    "# ConformalMapings\n",
    "### An interactive package for intercative use of conformal mappings\n",
    "\n",
    "* Function **w = f(z) should be entered in standard Pythonic form**, (ex:z**2 for $z^2$)\n",
    "\n",
    "* Functions entered should be availabe in SymPy lib and must be entered in same form because internally it uses sympy for symbolic conversion.\n",
    "\n",
    "* The entered function w can be a function of z or of the form x + i y\n",
    "'x' and 'y' are real and imaginary variables respectively.\n",
    "\n",
    "* Typical usage\n",
    "```\n",
    "     z**2\n",
    "     x**2 + I*y**2\n",
    "     tan(z)\n",
    "```\n",
    "* **Note use 'I' for imaginary number $\\rm{i}$ iota**\n",
    "\n",
    "* Use transformation slider to see the transformation\n",
    "* Limit range limits the grid to $\\pm$ slider value\n",
    "* Ticks increases number of gridlines"
   ]
  },
  {
   "cell_type": "code",
   "execution_count": 1,
   "metadata": {},
   "outputs": [
    {
     "data": {
      "text/html": [
       "        <script type=\"text/javascript\">\n",
       "        window.PlotlyConfig = {MathJaxConfig: 'local'};\n",
       "        if (window.MathJax) {MathJax.Hub.Config({SVG: {font: \"STIX-Web\"}});}\n",
       "        if (typeof require !== 'undefined') {\n",
       "        require.undef(\"plotly\");\n",
       "        requirejs.config({\n",
       "            paths: {\n",
       "                'plotly': ['https://cdn.plot.ly/plotly-latest.min']\n",
       "            }\n",
       "        });\n",
       "        require(['plotly'], function(Plotly) {\n",
       "            window._Plotly = Plotly;\n",
       "        });\n",
       "        }\n",
       "        </script>\n",
       "        "
      ]
     },
     "metadata": {},
     "output_type": "display_data"
    }
   ],
   "source": [
    "# All the required modules\n",
    "\n",
    "\n",
    "import numpy as np\n",
    "import sympy as sym\n",
    "from conformalMaps.elementaryGeometry_beta import update_rectangle\n",
    "from conformalMaps.elementaryGeometry_beta import update_square\n",
    "from conformalMaps.mappings import RectangleToEccentricAnnulus, RectangleToEllipticAnnulus\n",
    "from conformalMaps.auxiliary import confCheck\n",
    "import ipywidgets as widgets\n",
    "from ipywidgets import VBox,HBox,Layout,AppLayout\n",
    "from plotly.offline import init_notebook_mode, iplot\n",
    "init_notebook_mode(connected=True)\n",
    "\n",
    "#iplot()\n",
    "\n",
    "x, y = sym.symbols('x y', real = True)\n",
    "\n",
    "z = x + sym.I*y\n"
   ]
  },
  {
   "cell_type": "code",
   "execution_count": 2,
   "metadata": {},
   "outputs": [
    {
     "data": {
      "application/vnd.jupyter.widget-view+json": {
       "model_id": "dadd032b94584155a2918e786aba28b9",
       "version_major": 2,
       "version_minor": 0
      },
      "text/plain": [
       "interactive(children=(Text(value='5.77586887182265*tan(x/2 + I*y/2) - 9.54571428571429*I', description='w : ')…"
      ]
     },
     "metadata": {},
     "output_type": "display_data"
    },
    {
     "data": {
      "application/vnd.jupyter.widget-view+json": {
       "model_id": "db2352785a0b48518639d754c916fa54",
       "version_major": 2,
       "version_minor": 0
      },
      "text/plain": [
       "VBox(children=(HBox(children=(Text(value='5.77586887182265*tan(x/2 + I*y/2) - 9.54571428571429*I', description…"
      ]
     },
     "metadata": {},
     "output_type": "display_data"
    }
   ],
   "source": [
    "R1 = 4 # inner radius of target eccentric annulus\n",
    "R2 = 7.6 # outer radius of target eccentric annulus\n",
    "ep = 0.7 # relative eccentricity of target eccentric annulus\n",
    "\n",
    "trans = RectangleToEccentricAnnulus(R1, R2, ep)\n",
    "\n",
    "\n",
    "\n",
    "# since it is numerical computation, we need range to operate in, given by limit_range\n",
    "limit_range = widgets.FloatSlider(min = 0.1 , max = 10 , value = np.pi , description = \"Limit Range\",visibility = 'hidden', )\n",
    "\n",
    "# change ticks slider to add or remove lines in the range\n",
    "ticks = widgets.IntSlider(min = 2 , max = 40 , value = 11 , description = \"Ticks\",)\n",
    "\n",
    "# the input function w to draw conformal map\n",
    "function = widgets.Text( value ='{0}'.format(trans.mapping(z)) , description='w : ')\n",
    "\n",
    "# move slider between 0 and 1  to show the transformation\n",
    "transformation = widgets.FloatSlider(min = 0 , max = 1 , value = 1, description =\"Mapping\", )\n",
    "\n",
    "#ui = widgets.HBox([transformation, ticks])\n",
    "    \n",
    "# call all the variables in ipywidgets\n",
    "\n",
    "interactive_plot = widgets.interactive(update_rectangle,\n",
    "                                       function = function, \n",
    "                                       transformation = transformation,\n",
    "                                       left =  trans.left,\n",
    "                                       right = trans.right,\n",
    "                                       bottom = trans.bottom,\n",
    "                                       top = trans.top,\n",
    "                                       ticks = ticks,\n",
    "                                       vertFreq = 7,\n",
    "                                       anim_scaler=1)\n",
    "\n",
    "\n",
    "# display the output\n",
    "#display(interactive_plot, ui)\n",
    "\n",
    "widget = interactive_plot\n",
    "\n",
    "controls = HBox(widget.children[:-1], layout = Layout(flex_flow='row wrap'))\n",
    "output = widget.children[-1]\n",
    "display(widget, VBox([controls, output]))\n",
    "\n",
    "#interactive_plot.layout\n",
    "\n",
    "#interactive_plot.children[-1].layout.flex_flow='row wrap'\n",
    "\n",
    "#interactive_plot"
   ]
  },
  {
   "cell_type": "code",
   "execution_count": 3,
   "metadata": {},
   "outputs": [
    {
     "data": {
      "application/vnd.jupyter.widget-view+json": {
       "model_id": "ca19db5d6340471cbe205e381366d9e9",
       "version_major": 2,
       "version_minor": 0
      },
      "text/plain": [
       "VBox(children=(HBox(children=(Text(value='5.77586887182265*tan(x/2 + I*y/2) - 9.54571428571429*I', description…"
      ]
     },
     "metadata": {},
     "output_type": "display_data"
    }
   ],
   "source": [
    "R1 = 4 # inner radius of target eccentric annulus\n",
    "R2 = 7.6 # outer radius of target eccentric annulus\n",
    "ep = 0.7 # relative eccentricity of target eccentric annulus\n",
    "\n",
    "trans = RectangleToEccentricAnnulus(R1, R2, ep)\n",
    "\n",
    "\n",
    "\n",
    "# since it is numerical computation, we need range to operate in, given by limit_range\n",
    "limit_range = widgets.FloatSlider(min = 0.1 , max = 10 , value = np.pi , description = \"Limit Range\",visibility = 'hidden', )\n",
    "\n",
    "# change ticks slider to add or remove lines in the range\n",
    "ticks = widgets.IntSlider(min = 2 , max = 40 , value = 11 , description = \"Ticks\",)\n",
    "\n",
    "# the input function w to draw conformal map\n",
    "function = widgets.Text( value ='{0}'.format(trans.mapping(z)) , description='w : ')\n",
    "\n",
    "# move slider between 0 and 1  to show the transformation\n",
    "transformation = widgets.FloatSlider(min = 0 , max = 1 , value = 1, description =\"Mapping\", )\n",
    "\n",
    "#ui = widgets.HBox([transformation, ticks])\n",
    "    \n",
    "# call all the variables in ipywidgets\n",
    "\n",
    "interactive_plot = widgets.interactive(update_rectangle,\n",
    "                                       function = function, \n",
    "                                       transformation = transformation,\n",
    "                                       left =  trans.left,\n",
    "                                       right = trans.right,\n",
    "                                       bottom = trans.bottom,\n",
    "                                       top = trans.top,\n",
    "                                       ticks = ticks,\n",
    "                                       vertFreq = 7,\n",
    "                                       anim_scaler=1)\n",
    "\n",
    "\n",
    "# display the output\n",
    "#display(interactive_plot, ui)\n",
    "\n",
    "widget = interactive_plot\n",
    "\n",
    "controls = HBox(widget.children[:-1], layout = Layout(flex_flow='row wrap'))\n",
    "output = widget.children[-1]\n",
    "display(VBox([controls, output]))\n",
    "\n"
   ]
  },
  {
   "cell_type": "code",
   "execution_count": null,
   "metadata": {},
   "outputs": [],
   "source": []
  }
 ],
 "metadata": {
  "kernelspec": {
   "display_name": "Python 3",
   "language": "python",
   "name": "python3"
  },
  "language_info": {
   "codemirror_mode": {
    "name": "ipython",
    "version": 3
   },
   "file_extension": ".py",
   "mimetype": "text/x-python",
   "name": "python",
   "nbconvert_exporter": "python",
   "pygments_lexer": "ipython3",
   "version": "3.8.3"
  }
 },
 "nbformat": 4,
 "nbformat_minor": 4
}
