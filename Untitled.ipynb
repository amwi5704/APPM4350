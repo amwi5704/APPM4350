{
 "cells": [
  {
   "cell_type": "code",
   "execution_count": 10,
   "metadata": {},
   "outputs": [
    {
     "name": "stdout",
     "output_type": "stream",
     "text": [
      "Requirement already satisfied: sympy in c:\\users\\pandapi\\anaconda3\\lib\\site-packages (1.4)\n",
      "Requirement already satisfied: mpmath>=0.19 in c:\\users\\pandapi\\anaconda3\\lib\\site-packages (from sympy) (1.1.0)\n",
      "Note: you may need to restart the kernel to use updated packages.\n"
     ]
    }
   ],
   "source": [
    "pip install sympy"
   ]
  },
  {
   "cell_type": "code",
   "execution_count": 11,
   "metadata": {},
   "outputs": [
    {
     "name": "stdout",
     "output_type": "stream",
     "text": [
      "Collecting plotly\n",
      "  Using cached https://files.pythonhosted.org/packages/cb/70/53e9f634e6d3aedbe2e99deca846226385d5d845212171e227e2502fb240/plotly-5.7.0-py2.py3-none-any.whl\n",
      "Collecting tenacity>=6.2.0 (from plotly)\n",
      "  Using cached https://files.pythonhosted.org/packages/f2/a5/f86bc8d67c979020438c8559cc70cfe3a1643fd160d35e09c9cca6a09189/tenacity-8.0.1-py3-none-any.whl\n",
      "Requirement already satisfied: six in c:\\users\\pandapi\\anaconda3\\lib\\site-packages (from plotly) (1.12.0)\n",
      "Installing collected packages: tenacity, plotly\n",
      "Successfully installed plotly-5.7.0 tenacity-8.0.1\n",
      "Note: you may need to restart the kernel to use updated packages.\n"
     ]
    }
   ],
   "source": [
    "pip install plotly"
   ]
  },
  {
   "cell_type": "code",
   "execution_count": 12,
   "metadata": {},
   "outputs": [
    {
     "name": "stdout",
     "output_type": "stream",
     "text": [
      "Requirement already satisfied: numpy in c:\\users\\pandapi\\anaconda3\\lib\\site-packages (1.16.4)\n",
      "Note: you may need to restart the kernel to use updated packages.\n"
     ]
    }
   ],
   "source": [
    "pip install numpy"
   ]
  },
  {
   "cell_type": "code",
   "execution_count": 13,
   "metadata": {},
   "outputs": [
    {
     "name": "stdout",
     "output_type": "stream",
     "text": [
      "Requirement already satisfied: jupyter in c:\\users\\pandapi\\anaconda3\\lib\\site-packages (1.0.0)\n",
      "Requirement already satisfied: ipykernel in c:\\users\\pandapi\\anaconda3\\lib\\site-packages (from jupyter) (5.1.1)\n",
      "Requirement already satisfied: jupyter-console in c:\\users\\pandapi\\anaconda3\\lib\\site-packages (from jupyter) (6.0.0)\n",
      "Requirement already satisfied: notebook in c:\\users\\pandapi\\anaconda3\\lib\\site-packages (from jupyter) (6.0.0)\n",
      "Requirement already satisfied: qtconsole in c:\\users\\pandapi\\anaconda3\\lib\\site-packages (from jupyter) (4.5.1)\n",
      "Requirement already satisfied: nbconvert in c:\\users\\pandapi\\anaconda3\\lib\\site-packages (from jupyter) (5.5.0)\n",
      "Requirement already satisfied: ipywidgets in c:\\users\\pandapi\\anaconda3\\lib\\site-packages (from jupyter) (7.5.0)\n",
      "Requirement already satisfied: jupyter-client in c:\\users\\pandapi\\anaconda3\\lib\\site-packages (from ipykernel->jupyter) (5.3.1)\n",
      "Requirement already satisfied: tornado>=4.2 in c:\\users\\pandapi\\anaconda3\\lib\\site-packages (from ipykernel->jupyter) (6.0.3)\n",
      "Requirement already satisfied: ipython>=5.0.0 in c:\\users\\pandapi\\anaconda3\\lib\\site-packages (from ipykernel->jupyter) (7.6.1)\n",
      "Requirement already satisfied: traitlets>=4.1.0 in c:\\users\\pandapi\\anaconda3\\lib\\site-packages (from ipykernel->jupyter) (4.3.2)\n",
      "Requirement already satisfied: prompt_toolkit<2.1.0,>=2.0.0 in c:\\users\\pandapi\\anaconda3\\lib\\site-packages (from jupyter-console->jupyter) (2.0.9)\n",
      "Requirement already satisfied: pygments in c:\\users\\pandapi\\anaconda3\\lib\\site-packages (from jupyter-console->jupyter) (2.4.2)\n",
      "Requirement already satisfied: Send2Trash in c:\\users\\pandapi\\anaconda3\\lib\\site-packages (from notebook->jupyter) (1.5.0)\n",
      "Requirement already satisfied: prometheus-client in c:\\users\\pandapi\\anaconda3\\lib\\site-packages (from notebook->jupyter) (0.7.1)\n",
      "Requirement already satisfied: nbformat in c:\\users\\pandapi\\anaconda3\\lib\\site-packages (from notebook->jupyter) (4.4.0)\n",
      "Requirement already satisfied: ipython-genutils in c:\\users\\pandapi\\anaconda3\\lib\\site-packages (from notebook->jupyter) (0.2.0)\n",
      "Requirement already satisfied: jupyter-core>=4.4.0 in c:\\users\\pandapi\\anaconda3\\lib\\site-packages (from notebook->jupyter) (4.5.0)\n",
      "Requirement already satisfied: jinja2 in c:\\users\\pandapi\\anaconda3\\lib\\site-packages (from notebook->jupyter) (2.10.1)\n",
      "Requirement already satisfied: terminado>=0.8.1 in c:\\users\\pandapi\\anaconda3\\lib\\site-packages (from notebook->jupyter) (0.8.2)\n",
      "Requirement already satisfied: pyzmq>=17 in c:\\users\\pandapi\\anaconda3\\lib\\site-packages (from notebook->jupyter) (18.0.0)\n",
      "Requirement already satisfied: entrypoints>=0.2.2 in c:\\users\\pandapi\\anaconda3\\lib\\site-packages (from nbconvert->jupyter) (0.3)\n",
      "Requirement already satisfied: testpath in c:\\users\\pandapi\\anaconda3\\lib\\site-packages (from nbconvert->jupyter) (0.4.2)\n",
      "Requirement already satisfied: mistune>=0.8.1 in c:\\users\\pandapi\\anaconda3\\lib\\site-packages (from nbconvert->jupyter) (0.8.4)\n",
      "Requirement already satisfied: pandocfilters>=1.4.1 in c:\\users\\pandapi\\anaconda3\\lib\\site-packages (from nbconvert->jupyter) (1.4.2)\n",
      "Requirement already satisfied: bleach in c:\\users\\pandapi\\anaconda3\\lib\\site-packages (from nbconvert->jupyter) (3.1.0)\n",
      "Requirement already satisfied: defusedxml in c:\\users\\pandapi\\anaconda3\\lib\\site-packages (from nbconvert->jupyter) (0.6.0)\n",
      "Requirement already satisfied: widgetsnbextension~=3.5.0 in c:\\users\\pandapi\\anaconda3\\lib\\site-packages (from ipywidgets->jupyter) (3.5.0)\n",
      "Requirement already satisfied: python-dateutil>=2.1 in c:\\users\\pandapi\\anaconda3\\lib\\site-packages (from jupyter-client->ipykernel->jupyter) (2.8.0)\n",
      "Requirement already satisfied: pickleshare in c:\\users\\pandapi\\anaconda3\\lib\\site-packages (from ipython>=5.0.0->ipykernel->jupyter) (0.7.5)\n",
      "Requirement already satisfied: backcall in c:\\users\\pandapi\\anaconda3\\lib\\site-packages (from ipython>=5.0.0->ipykernel->jupyter) (0.1.0)\n",
      "Requirement already satisfied: setuptools>=18.5 in c:\\users\\pandapi\\anaconda3\\lib\\site-packages (from ipython>=5.0.0->ipykernel->jupyter) (41.0.1)\n",
      "Requirement already satisfied: jedi>=0.10 in c:\\users\\pandapi\\anaconda3\\lib\\site-packages (from ipython>=5.0.0->ipykernel->jupyter) (0.13.3)\n",
      "Requirement already satisfied: colorama; sys_platform == \"win32\" in c:\\users\\pandapi\\anaconda3\\lib\\site-packages (from ipython>=5.0.0->ipykernel->jupyter) (0.4.1)\n",
      "Requirement already satisfied: decorator in c:\\users\\pandapi\\anaconda3\\lib\\site-packages (from ipython>=5.0.0->ipykernel->jupyter) (4.4.0)\n",
      "Requirement already satisfied: six in c:\\users\\pandapi\\anaconda3\\lib\\site-packages (from traitlets>=4.1.0->ipykernel->jupyter) (1.12.0)\n",
      "Requirement already satisfied: wcwidth in c:\\users\\pandapi\\anaconda3\\lib\\site-packages (from prompt_toolkit<2.1.0,>=2.0.0->jupyter-console->jupyter) (0.1.7)\n",
      "Requirement already satisfied: jsonschema!=2.5.0,>=2.4 in c:\\users\\pandapi\\anaconda3\\lib\\site-packages (from nbformat->notebook->jupyter) (3.0.1)\n",
      "Requirement already satisfied: MarkupSafe>=0.23 in c:\\users\\pandapi\\anaconda3\\lib\\site-packages (from jinja2->notebook->jupyter) (1.1.1)\n",
      "Requirement already satisfied: webencodings in c:\\users\\pandapi\\anaconda3\\lib\\site-packages (from bleach->nbconvert->jupyter) (0.5.1)\n",
      "Requirement already satisfied: parso>=0.3.0 in c:\\users\\pandapi\\anaconda3\\lib\\site-packages (from jedi>=0.10->ipython>=5.0.0->ipykernel->jupyter) (0.5.0)\n",
      "Requirement already satisfied: attrs>=17.4.0 in c:\\users\\pandapi\\anaconda3\\lib\\site-packages (from jsonschema!=2.5.0,>=2.4->nbformat->notebook->jupyter) (19.1.0)\n",
      "Requirement already satisfied: pyrsistent>=0.14.0 in c:\\users\\pandapi\\anaconda3\\lib\\site-packages (from jsonschema!=2.5.0,>=2.4->nbformat->notebook->jupyter) (0.14.11)\n",
      "Note: you may need to restart the kernel to use updated packages.\n"
     ]
    }
   ],
   "source": [
    "pip install jupyter"
   ]
  },
  {
   "cell_type": "code",
   "execution_count": 14,
   "metadata": {},
   "outputs": [
    {
     "name": "stdout",
     "output_type": "stream",
     "text": [
      "Collecting voila\n",
      "  Using cached https://files.pythonhosted.org/packages/f8/47/ead55fa511e39bc93e2311e5cb36dd2b7fa0ceaff1780c5dfd08125b6104/voila-0.3.5-py3-none-any.whl\n",
      "Collecting nbclient<0.6,>=0.4.0 (from voila)\n",
      "  Using cached https://files.pythonhosted.org/packages/db/f7/436bb1add1814911efec4a4a5a358c7559e9b1fd19f4ef89a2a71d707c2b/nbclient-0.5.13-py3-none-any.whl\n",
      "Collecting jupyter-server<2.0.0,>=0.3.0 (from voila)\n",
      "  Using cached https://files.pythonhosted.org/packages/20/f0/1bea1cd0f5269ceccac7c721cd52c757e1ec5482ed44d1a493d12877fb92/jupyter_server-1.16.0-py3-none-any.whl\n",
      "Collecting websockets>=9.0 (from voila)\n",
      "  Using cached https://files.pythonhosted.org/packages/19/ad/5fc8bcd5b622b14b3d510c30f340b8abab781da43e69b7ada0081017b4f9/websockets-10.3-cp37-cp37m-win_amd64.whl\n",
      "Collecting traitlets<6,>=5.0.3 (from voila)\n",
      "  Using cached https://files.pythonhosted.org/packages/37/46/be8a3c030bd3673f4800fa7f46eda972dfa2990089a51ec5dd0a26ed33e9/traitlets-5.1.1-py3-none-any.whl\n",
      "Collecting jupyterlab-server<3,>=2.3.0 (from voila)\n",
      "  Using cached https://files.pythonhosted.org/packages/6c/99/5a383f837c6114b05c06789d78d9f2b68189a7a00c21fbed6d4f725d7df1/jupyterlab_server-2.13.0-py3-none-any.whl\n",
      "Collecting jupyter-client<8,>=6.1.3 (from voila)\n",
      "  Using cached https://files.pythonhosted.org/packages/00/11/3595856d4e7bfb5fb9929d966cb8791f4d9a79b5dfcdd316b440b43b66e5/jupyter_client-7.2.2-py3-none-any.whl\n",
      "Collecting nbconvert<7,>=6.4.5 (from voila)\n",
      "  Downloading https://files.pythonhosted.org/packages/e8/f9/2de57146b8995d7f1b68d6fd0b4751d68c23f52e6f4ad926a7274184e8f2/nbconvert-6.5.0-py3-none-any.whl (561kB)\n",
      "Collecting nbformat>=5.0 (from nbclient<0.6,>=0.4.0->voila)\n",
      "  Downloading https://files.pythonhosted.org/packages/16/19/ae7286d58c4aa5f95d99a3eaa19ee5f6a334254b5a78ec88006b62f81476/nbformat-5.3.0-py3-none-any.whl (73kB)\n",
      "Collecting nest-asyncio (from nbclient<0.6,>=0.4.0->voila)\n",
      "  Using cached https://files.pythonhosted.org/packages/be/1e/a83058de46b40a392bdefcaac44d1d42db4bf8562cb68c95d6bae4b93276/nest_asyncio-1.5.5-py3-none-any.whl\n",
      "Requirement already satisfied: Send2Trash in c:\\users\\pandapi\\anaconda3\\lib\\site-packages (from jupyter-server<2.0.0,>=0.3.0->voila) (1.5.0)\n",
      "Collecting websocket-client (from jupyter-server<2.0.0,>=0.3.0->voila)\n",
      "  Using cached https://files.pythonhosted.org/packages/a1/9e/8ddb04ef21ea3dfe3924b884dc11fa785df662af23e049ec2d62eaba707d/websocket_client-1.3.2-py3-none-any.whl\n",
      "Collecting jupyter-core>=4.7.0 (from jupyter-server<2.0.0,>=0.3.0->voila)\n",
      "  Downloading https://files.pythonhosted.org/packages/34/7d/8e442c0637a648c0136f686e015dc2f547f1a19f2690b183aa340a6762bc/jupyter_core-4.10.0-py3-none-any.whl (87kB)\n",
      "Requirement already satisfied: pywinpty; os_name == \"nt\" in c:\\users\\pandapi\\anaconda3\\lib\\site-packages (from jupyter-server<2.0.0,>=0.3.0->voila) (0.5.5)\n",
      "Requirement already satisfied: pyzmq>=17 in c:\\users\\pandapi\\anaconda3\\lib\\site-packages (from jupyter-server<2.0.0,>=0.3.0->voila) (18.0.0)\n",
      "Collecting terminado>=0.8.3 (from jupyter-server<2.0.0,>=0.3.0->voila)\n",
      "  Downloading https://files.pythonhosted.org/packages/e6/87/a6f72009fa1c6528fd016a199f5f0199841e82e72d726f55a6a96fcc6b30/terminado-0.13.3-py3-none-any.whl\n",
      "Requirement already satisfied: jinja2 in c:\\users\\pandapi\\anaconda3\\lib\\site-packages (from jupyter-server<2.0.0,>=0.3.0->voila) (2.10.1)\n",
      "Requirement already satisfied: prometheus-client in c:\\users\\pandapi\\anaconda3\\lib\\site-packages (from jupyter-server<2.0.0,>=0.3.0->voila) (0.7.1)\n",
      "Collecting anyio>=3.1.0 (from jupyter-server<2.0.0,>=0.3.0->voila)\n",
      "  Using cached https://files.pythonhosted.org/packages/b1/ae/9a8af72d6f0c551943903eefcf93c3a29898fb7b594603c0d70679c199b1/anyio-3.5.0-py3-none-any.whl\n",
      "Requirement already satisfied: packaging in c:\\users\\pandapi\\anaconda3\\lib\\site-packages (from jupyter-server<2.0.0,>=0.3.0->voila) (19.0)\n",
      "Collecting tornado>=6.1.0 (from jupyter-server<2.0.0,>=0.3.0->voila)\n",
      "  Downloading https://files.pythonhosted.org/packages/c7/c2/ff4628a08df5ce2662109957275718888d7ab6787591fa0decfd327bd2ce/tornado-6.1-cp37-cp37m-win_amd64.whl (422kB)\n",
      "Collecting argon2-cffi (from jupyter-server<2.0.0,>=0.3.0->voila)\n",
      "  Using cached https://files.pythonhosted.org/packages/a8/07/946d5a9431bae05a776a59746ec385fbb79b526738d25e4202d3e0bbf7f4/argon2_cffi-21.3.0-py3-none-any.whl\n",
      "Requirement already satisfied: jsonschema>=3.0.1 in c:\\users\\pandapi\\anaconda3\\lib\\site-packages (from jupyterlab-server<3,>=2.3.0->voila) (3.0.1)\n",
      "Requirement already satisfied: requests in c:\\users\\pandapi\\anaconda3\\lib\\site-packages (from jupyterlab-server<3,>=2.3.0->voila) (2.22.0)\n",
      "Collecting importlib-metadata>=3.6; python_version < \"3.10\" (from jupyterlab-server<3,>=2.3.0->voila)\n",
      "  Using cached https://files.pythonhosted.org/packages/92/f2/c48787ca7d1e20daa185e1b6b2d4e16acd2fb5e0320bc50ffc89b91fa4d7/importlib_metadata-4.11.3-py3-none-any.whl\n",
      "Requirement already satisfied: babel in c:\\users\\pandapi\\anaconda3\\lib\\site-packages (from jupyterlab-server<3,>=2.3.0->voila) (2.7.0)\n",
      "Requirement already satisfied: json5 in c:\\users\\pandapi\\anaconda3\\lib\\site-packages (from jupyterlab-server<3,>=2.3.0->voila) (0.8.4)\n",
      "Collecting python-dateutil>=2.8.2 (from jupyter-client<8,>=6.1.3->voila)\n",
      "  Using cached https://files.pythonhosted.org/packages/36/7a/87837f39d0296e723bb9b62bbb257d0355c7f6128853c78955f57342a56d/python_dateutil-2.8.2-py2.py3-none-any.whl\n",
      "Requirement already satisfied: entrypoints in c:\\users\\pandapi\\anaconda3\\lib\\site-packages (from jupyter-client<8,>=6.1.3->voila) (0.3)\n",
      "Collecting jupyterlab-pygments (from nbconvert<7,>=6.4.5->voila)\n",
      "  Downloading https://files.pythonhosted.org/packages/c0/7e/c3d1df3ae9b41686e664051daedbd70eea2e1d2bd9d9c33e7e1455bc9f96/jupyterlab_pygments-0.2.2-py2.py3-none-any.whl\n",
      "Collecting MarkupSafe>=2.0 (from nbconvert<7,>=6.4.5->voila)\n",
      "  Downloading https://files.pythonhosted.org/packages/3f/38/f422a81b41bdac48f1d19c45f6e203c04bc45d2c35505873fdecdddee1ec/MarkupSafe-2.1.1-cp37-cp37m-win_amd64.whl\n",
      "Requirement already satisfied: defusedxml in c:\\users\\pandapi\\anaconda3\\lib\\site-packages (from nbconvert<7,>=6.4.5->voila) (0.6.0)\n",
      "Requirement already satisfied: mistune<2,>=0.8.1 in c:\\users\\pandapi\\anaconda3\\lib\\site-packages (from nbconvert<7,>=6.4.5->voila) (0.8.4)\n",
      "Requirement already satisfied: pandocfilters>=1.4.1 in c:\\users\\pandapi\\anaconda3\\lib\\site-packages (from nbconvert<7,>=6.4.5->voila) (1.4.2)\n",
      "Collecting tinycss2 (from nbconvert<7,>=6.4.5->voila)\n",
      "  Downloading https://files.pythonhosted.org/packages/53/7b/5dba39bf0572f1f28e2844f08f74a73482a381de1d1feac3bbc6b808051e/tinycss2-1.1.1-py3-none-any.whl\n",
      "Requirement already satisfied: beautifulsoup4 in c:\\users\\pandapi\\anaconda3\\lib\\site-packages (from nbconvert<7,>=6.4.5->voila) (4.7.1)\n",
      "Requirement already satisfied: bleach in c:\\users\\pandapi\\anaconda3\\lib\\site-packages (from nbconvert<7,>=6.4.5->voila) (3.1.0)\n",
      "Requirement already satisfied: pygments>=2.4.1 in c:\\users\\pandapi\\anaconda3\\lib\\site-packages (from nbconvert<7,>=6.4.5->voila) (2.4.2)\n",
      "Collecting fastjsonschema (from nbformat>=5.0->nbclient<0.6,>=0.4.0->voila)\n",
      "  Downloading https://files.pythonhosted.org/packages/e6/0b/24795939622d60f4b453aa7040f23c6a6f8b44c7c026c3b42d9842e6cc31/fastjsonschema-2.15.3-py3-none-any.whl\n",
      "Requirement already satisfied: pywin32>=1.0; sys_platform == \"win32\" and platform_python_implementation != \"PyPy\" in c:\\users\\pandapi\\anaconda3\\lib\\site-packages (from jupyter-core>=4.7.0->jupyter-server<2.0.0,>=0.3.0->voila) (223)\n",
      "Requirement already satisfied: idna>=2.8 in c:\\users\\pandapi\\anaconda3\\lib\\site-packages (from anyio>=3.1.0->jupyter-server<2.0.0,>=0.3.0->voila) (2.8)\n",
      "Collecting sniffio>=1.1 (from anyio>=3.1.0->jupyter-server<2.0.0,>=0.3.0->voila)\n",
      "  Using cached https://files.pythonhosted.org/packages/52/b0/7b2e028b63d092804b6794595871f936aafa5e9322dcaaad50ebf67445b3/sniffio-1.2.0-py3-none-any.whl\n",
      "Collecting typing-extensions; python_version < \"3.8\" (from anyio>=3.1.0->jupyter-server<2.0.0,>=0.3.0->voila)\n",
      "  Using cached https://files.pythonhosted.org/packages/75/e1/932e06004039dd670c9d5e1df0cd606bf46e29a28e65d5bb28e894ea29c9/typing_extensions-4.2.0-py3-none-any.whl\n",
      "Requirement already satisfied: six in c:\\users\\pandapi\\anaconda3\\lib\\site-packages (from packaging->jupyter-server<2.0.0,>=0.3.0->voila) (1.12.0)\n",
      "Requirement already satisfied: pyparsing>=2.0.2 in c:\\users\\pandapi\\anaconda3\\lib\\site-packages (from packaging->jupyter-server<2.0.0,>=0.3.0->voila) (2.4.0)\n",
      "Collecting argon2-cffi-bindings (from argon2-cffi->jupyter-server<2.0.0,>=0.3.0->voila)\n",
      "  Using cached https://files.pythonhosted.org/packages/b9/e9/184b8ccce6683b0aa2fbb7ba5683ea4b9c5763f1356347f1312c32e3c66e/argon2-cffi-bindings-21.2.0.tar.gz\n",
      "  Installing build dependencies: started\n",
      "  Installing build dependencies: finished with status 'done'\n",
      "  Getting requirements to build wheel: started\n",
      "  Getting requirements to build wheel: finished with status 'done'\n",
      "    Preparing wheel metadata: started\n",
      "    Preparing wheel metadata: finished with status 'done'\n",
      "Requirement already satisfied: attrs>=17.4.0 in c:\\users\\pandapi\\anaconda3\\lib\\site-packages (from jsonschema>=3.0.1->jupyterlab-server<3,>=2.3.0->voila) (19.1.0)\n",
      "Requirement already satisfied: pyrsistent>=0.14.0 in c:\\users\\pandapi\\anaconda3\\lib\\site-packages (from jsonschema>=3.0.1->jupyterlab-server<3,>=2.3.0->voila) (0.14.11)\n",
      "Requirement already satisfied: setuptools in c:\\users\\pandapi\\anaconda3\\lib\\site-packages (from jsonschema>=3.0.1->jupyterlab-server<3,>=2.3.0->voila) (41.0.1)\n",
      "Requirement already satisfied: chardet<3.1.0,>=3.0.2 in c:\\users\\pandapi\\anaconda3\\lib\\site-packages (from requests->jupyterlab-server<3,>=2.3.0->voila) (3.0.4)\n",
      "Requirement already satisfied: certifi>=2017.4.17 in c:\\users\\pandapi\\anaconda3\\lib\\site-packages (from requests->jupyterlab-server<3,>=2.3.0->voila) (2019.6.16)\n",
      "Requirement already satisfied: urllib3!=1.25.0,!=1.25.1,<1.26,>=1.21.1 in c:\\users\\pandapi\\anaconda3\\lib\\site-packages (from requests->jupyterlab-server<3,>=2.3.0->voila) (1.24.2)\n",
      "Requirement already satisfied: zipp>=0.5 in c:\\users\\pandapi\\anaconda3\\lib\\site-packages (from importlib-metadata>=3.6; python_version < \"3.10\"->jupyterlab-server<3,>=2.3.0->voila) (0.5.1)\n",
      "Requirement already satisfied: pytz>=2015.7 in c:\\users\\pandapi\\anaconda3\\lib\\site-packages (from babel->jupyterlab-server<3,>=2.3.0->voila) (2019.1)\n",
      "Requirement already satisfied: webencodings>=0.4 in c:\\users\\pandapi\\anaconda3\\lib\\site-packages (from tinycss2->nbconvert<7,>=6.4.5->voila) (0.5.1)\n",
      "Requirement already satisfied: soupsieve>=1.2 in c:\\users\\pandapi\\anaconda3\\lib\\site-packages (from beautifulsoup4->nbconvert<7,>=6.4.5->voila) (1.8)\n",
      "Requirement already satisfied: cffi>=1.0.1 in c:\\users\\pandapi\\anaconda3\\lib\\site-packages (from argon2-cffi-bindings->argon2-cffi->jupyter-server<2.0.0,>=0.3.0->voila) (1.12.3)\n",
      "Requirement already satisfied: pycparser in c:\\users\\pandapi\\anaconda3\\lib\\site-packages (from cffi>=1.0.1->argon2-cffi-bindings->argon2-cffi->jupyter-server<2.0.0,>=0.3.0->voila) (2.19)\n",
      "Building wheels for collected packages: argon2-cffi-bindings\n",
      "  Building wheel for argon2-cffi-bindings (PEP 517): started\n",
      "  Building wheel for argon2-cffi-bindings (PEP 517): finished with status 'error'\n",
      "  Running setup.py clean for argon2-cffi-bindings\n",
      "Failed to build argon2-cffi-bindings\n",
      "Note: you may need to restart the kernel to use updated packages.\n"
     ]
    },
    {
     "name": "stderr",
     "output_type": "stream",
     "text": [
      "  ERROR: Complete output from command 'C:\\Users\\PandaPi\\Anaconda3\\python.exe' 'C:\\Users\\PandaPi\\Anaconda3\\lib\\site-packages\\pip\\_vendor\\pep517\\_in_process.py' build_wheel 'C:\\Users\\PandaPi\\AppData\\Local\\Temp\\tmp2lakjoyk':\n",
      "  ERROR: running bdist_wheel\n",
      "  running build\n",
      "  running build_py\n",
      "  creating build\n",
      "  creating build\\lib.win-amd64-cpython-37\n",
      "  creating build\\lib.win-amd64-cpython-37\\_argon2_cffi_bindings\n",
      "  copying src\\_argon2_cffi_bindings\\_ffi_build.py -> build\\lib.win-amd64-cpython-37\\_argon2_cffi_bindings\n",
      "  copying src\\_argon2_cffi_bindings\\__init__.py -> build\\lib.win-amd64-cpython-37\\_argon2_cffi_bindings\n",
      "  running build_ext\n",
      "  generating cffi module 'build\\\\temp.win-amd64-cpython-37\\\\Release\\\\_ffi.c'\n",
      "  creating build\\temp.win-amd64-cpython-37\n",
      "  creating build\\temp.win-amd64-cpython-37\\Release\n",
      "  building '_ffi' extension\n",
      "  error: Microsoft Visual C++ 14.0 or greater is required. Get it with \"Microsoft C++ Build Tools\": https://visualstudio.microsoft.com/visual-cpp-build-tools/\n",
      "  ----------------------------------------\n",
      "  ERROR: Failed building wheel for argon2-cffi-bindings\n",
      "ERROR: Could not build wheels for argon2-cffi-bindings which use PEP 517 and cannot be installed directly\n"
     ]
    }
   ],
   "source": [
    "pip install voila"
   ]
  },
  {
   "cell_type": "code",
   "execution_count": 15,
   "metadata": {},
   "outputs": [
    {
     "ename": "SyntaxError",
     "evalue": "invalid syntax (<ipython-input-15-20a4d2c507c7>, line 1)",
     "output_type": "error",
     "traceback": [
      "\u001b[1;36m  File \u001b[1;32m\"<ipython-input-15-20a4d2c507c7>\"\u001b[1;36m, line \u001b[1;32m1\u001b[0m\n\u001b[1;33m    jupiter lab\u001b[0m\n\u001b[1;37m              ^\u001b[0m\n\u001b[1;31mSyntaxError\u001b[0m\u001b[1;31m:\u001b[0m invalid syntax\n"
     ]
    }
   ],
   "source": [
    "jupiter lab\n"
   ]
  },
  {
   "cell_type": "code",
   "execution_count": 16,
   "metadata": {},
   "outputs": [
    {
     "ename": "SyntaxError",
     "evalue": "invalid syntax (<ipython-input-16-20a4d2c507c7>, line 1)",
     "output_type": "error",
     "traceback": [
      "\u001b[1;36m  File \u001b[1;32m\"<ipython-input-16-20a4d2c507c7>\"\u001b[1;36m, line \u001b[1;32m1\u001b[0m\n\u001b[1;33m    jupiter lab\u001b[0m\n\u001b[1;37m              ^\u001b[0m\n\u001b[1;31mSyntaxError\u001b[0m\u001b[1;31m:\u001b[0m invalid syntax\n"
     ]
    }
   ],
   "source": [
    "jupiter lab"
   ]
  },
  {
   "cell_type": "code",
   "execution_count": null,
   "metadata": {},
   "outputs": [],
   "source": []
  }
 ],
 "metadata": {
  "kernelspec": {
   "display_name": "Python 3",
   "language": "python",
   "name": "python3"
  },
  "language_info": {
   "codemirror_mode": {
    "name": "ipython",
    "version": 3
   },
   "file_extension": ".py",
   "mimetype": "text/x-python",
   "name": "python",
   "nbconvert_exporter": "python",
   "pygments_lexer": "ipython3",
   "version": "3.7.3"
  }
 },
 "nbformat": 4,
 "nbformat_minor": 2
}
