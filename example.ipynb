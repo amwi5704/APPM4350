{
 "cells": [
  {
   "cell_type": "markdown",
   "id": "e7fa4b06-a505-4ea5-92cb-3935add7dd6f",
   "metadata": {},
   "source": [
    "# **conformalMaps**\n",
    "### An interactive package for intercative use of conformal mappings\n",
    "\n",
    "* Function **w = f(z) should be entered in standard Pythonic form**, (ex:z**2 for $z^2$)\n",
    "\n",
    "* Functions entered should be availabe in SymPy lib and must be entered in same form because internally it uses sympy for symbolic conversion.\n",
    "\n",
    "* The entered function w can be a function of z or of the form x + i y\n",
    "'x' and 'y' are real and imaginary variables respectively.\n",
    "\n",
    "* Typical usage\n",
    "```\n",
    "     z**2\n",
    "     x**2 + I*y**2\n",
    "     tan(z)\n",
    "```\n",
    "* **Note use 'I' for imaginary number $\\rm{i}$ iota**\n",
    "\n",
    "* Use transformation slider to see the transformation\n",
    "* Limit range limits the grid to $\\pm$ slider value\n",
    "* Ticks increases number of gridlines"
   ]
  },
  {
   "cell_type": "markdown",
   "id": "726eaa16-3ad8-464d-ae86-cebc32300562",
   "metadata": {},
   "source": [
    "# Supported Grids to transform\n",
    "\n",
    "* **Rectangle**\n",
    "\n",
    "* **Square**\n",
    "\n",
    "* **Circle**\n",
    "\n",
    "* **Single circle**\n",
    "\n",
    "# Advanced builtin functions for w\n",
    "\n",
    "* **Rectangle to EccentricAnnulus**\n",
    "\n",
    "* **Rectangle to EllipticAnnulus**\n",
    "\n",
    "* **Concentric Annulus To Eccentric Annulus**"
   ]
  },
  {
   "cell_type": "markdown",
   "id": "ca142883-0dd8-45c1-9073-c0ffe9b14bf6",
   "metadata": {},
   "source": [
    "# **Run the below Cells First**"
   ]
  },
  {
   "cell_type": "code",
   "execution_count": 1,
   "id": "24753ca0-9d39-44b2-af62-498032af7dde",
   "metadata": {},
   "outputs": [
    {
     "name": "stdout",
     "output_type": "stream",
     "text": [
      "Requirement already satisfied: sympy in /opt/homebrew/Caskroom/miniforge/base/envs/conformal/lib/python3.9/site-packages (from -r requirements.txt (line 1)) (1.8)\n",
      "Requirement already satisfied: plotly in /opt/homebrew/Caskroom/miniforge/base/envs/conformal/lib/python3.9/site-packages (from -r requirements.txt (line 2)) (5.2.2)\n",
      "Requirement already satisfied: numpy in /opt/homebrew/Caskroom/miniforge/base/envs/conformal/lib/python3.9/site-packages (from -r requirements.txt (line 3)) (1.21.2)\n",
      "Requirement already satisfied: jupyter in /opt/homebrew/Caskroom/miniforge/base/envs/conformal/lib/python3.9/site-packages (from -r requirements.txt (line 4)) (1.0.0)\n",
      "Requirement already satisfied: mpmath>=0.19 in /opt/homebrew/Caskroom/miniforge/base/envs/conformal/lib/python3.9/site-packages (from sympy->-r requirements.txt (line 1)) (1.2.1)\n",
      "Requirement already satisfied: tenacity>=6.2.0 in /opt/homebrew/Caskroom/miniforge/base/envs/conformal/lib/python3.9/site-packages (from plotly->-r requirements.txt (line 2)) (8.0.1)\n",
      "Requirement already satisfied: six in /opt/homebrew/Caskroom/miniforge/base/envs/conformal/lib/python3.9/site-packages (from plotly->-r requirements.txt (line 2)) (1.16.0)\n",
      "Requirement already satisfied: ipywidgets in /opt/homebrew/Caskroom/miniforge/base/envs/conformal/lib/python3.9/site-packages (from jupyter->-r requirements.txt (line 4)) (7.6.3)\n",
      "Requirement already satisfied: qtconsole in /opt/homebrew/Caskroom/miniforge/base/envs/conformal/lib/python3.9/site-packages (from jupyter->-r requirements.txt (line 4)) (5.1.1)\n",
      "Requirement already satisfied: jupyter-console in /opt/homebrew/Caskroom/miniforge/base/envs/conformal/lib/python3.9/site-packages (from jupyter->-r requirements.txt (line 4)) (6.4.0)\n",
      "Requirement already satisfied: nbconvert in /opt/homebrew/Caskroom/miniforge/base/envs/conformal/lib/python3.9/site-packages (from jupyter->-r requirements.txt (line 4)) (6.1.0)\n",
      "Requirement already satisfied: ipykernel in /opt/homebrew/Caskroom/miniforge/base/envs/conformal/lib/python3.9/site-packages (from jupyter->-r requirements.txt (line 4)) (6.2.0)\n",
      "Requirement already satisfied: notebook in /opt/homebrew/Caskroom/miniforge/base/envs/conformal/lib/python3.9/site-packages (from jupyter->-r requirements.txt (line 4)) (6.4.3)\n",
      "Requirement already satisfied: jupyter-client<8.0 in /opt/homebrew/Caskroom/miniforge/base/envs/conformal/lib/python3.9/site-packages (from ipykernel->jupyter->-r requirements.txt (line 4)) (6.1.12)\n",
      "Requirement already satisfied: debugpy<2.0,>=1.0.0 in /opt/homebrew/Caskroom/miniforge/base/envs/conformal/lib/python3.9/site-packages (from ipykernel->jupyter->-r requirements.txt (line 4)) (1.4.1)\n",
      "Requirement already satisfied: tornado<7.0,>=4.2 in /opt/homebrew/Caskroom/miniforge/base/envs/conformal/lib/python3.9/site-packages (from ipykernel->jupyter->-r requirements.txt (line 4)) (6.1)\n",
      "Requirement already satisfied: matplotlib-inline<0.2.0,>=0.1.0 in /opt/homebrew/Caskroom/miniforge/base/envs/conformal/lib/python3.9/site-packages (from ipykernel->jupyter->-r requirements.txt (line 4)) (0.1.2)\n",
      "Requirement already satisfied: traitlets<6.0,>=4.1.0 in /opt/homebrew/Caskroom/miniforge/base/envs/conformal/lib/python3.9/site-packages (from ipykernel->jupyter->-r requirements.txt (line 4)) (5.0.5)\n",
      "Requirement already satisfied: appnope in /opt/homebrew/Caskroom/miniforge/base/envs/conformal/lib/python3.9/site-packages (from ipykernel->jupyter->-r requirements.txt (line 4)) (0.1.2)\n",
      "Requirement already satisfied: ipython<8.0,>=7.23.1 in /opt/homebrew/Caskroom/miniforge/base/envs/conformal/lib/python3.9/site-packages (from ipykernel->jupyter->-r requirements.txt (line 4)) (7.26.0)\n",
      "Requirement already satisfied: pexpect>4.3 in /opt/homebrew/Caskroom/miniforge/base/envs/conformal/lib/python3.9/site-packages (from ipython<8.0,>=7.23.1->ipykernel->jupyter->-r requirements.txt (line 4)) (4.8.0)\n",
      "Requirement already satisfied: pygments in /opt/homebrew/Caskroom/miniforge/base/envs/conformal/lib/python3.9/site-packages (from ipython<8.0,>=7.23.1->ipykernel->jupyter->-r requirements.txt (line 4)) (2.10.0)\n",
      "Requirement already satisfied: prompt-toolkit!=3.0.0,!=3.0.1,<3.1.0,>=2.0.0 in /opt/homebrew/Caskroom/miniforge/base/envs/conformal/lib/python3.9/site-packages (from ipython<8.0,>=7.23.1->ipykernel->jupyter->-r requirements.txt (line 4)) (3.0.19)\n",
      "Requirement already satisfied: jedi>=0.16 in /opt/homebrew/Caskroom/miniforge/base/envs/conformal/lib/python3.9/site-packages (from ipython<8.0,>=7.23.1->ipykernel->jupyter->-r requirements.txt (line 4)) (0.18.0)\n",
      "Requirement already satisfied: backcall in /opt/homebrew/Caskroom/miniforge/base/envs/conformal/lib/python3.9/site-packages (from ipython<8.0,>=7.23.1->ipykernel->jupyter->-r requirements.txt (line 4)) (0.2.0)\n",
      "Requirement already satisfied: decorator in /opt/homebrew/Caskroom/miniforge/base/envs/conformal/lib/python3.9/site-packages (from ipython<8.0,>=7.23.1->ipykernel->jupyter->-r requirements.txt (line 4)) (5.0.9)\n",
      "Requirement already satisfied: setuptools>=18.5 in /opt/homebrew/Caskroom/miniforge/base/envs/conformal/lib/python3.9/site-packages (from ipython<8.0,>=7.23.1->ipykernel->jupyter->-r requirements.txt (line 4)) (57.4.0)\n",
      "Requirement already satisfied: pickleshare in /opt/homebrew/Caskroom/miniforge/base/envs/conformal/lib/python3.9/site-packages (from ipython<8.0,>=7.23.1->ipykernel->jupyter->-r requirements.txt (line 4)) (0.7.5)\n",
      "Requirement already satisfied: parso<0.9.0,>=0.8.0 in /opt/homebrew/Caskroom/miniforge/base/envs/conformal/lib/python3.9/site-packages (from jedi>=0.16->ipython<8.0,>=7.23.1->ipykernel->jupyter->-r requirements.txt (line 4)) (0.8.2)\n",
      "Requirement already satisfied: python-dateutil>=2.1 in /opt/homebrew/Caskroom/miniforge/base/envs/conformal/lib/python3.9/site-packages (from jupyter-client<8.0->ipykernel->jupyter->-r requirements.txt (line 4)) (2.8.2)\n",
      "Requirement already satisfied: jupyter-core>=4.6.0 in /opt/homebrew/Caskroom/miniforge/base/envs/conformal/lib/python3.9/site-packages (from jupyter-client<8.0->ipykernel->jupyter->-r requirements.txt (line 4)) (4.7.1)\n",
      "Requirement already satisfied: pyzmq>=13 in /opt/homebrew/Caskroom/miniforge/base/envs/conformal/lib/python3.9/site-packages (from jupyter-client<8.0->ipykernel->jupyter->-r requirements.txt (line 4)) (22.2.1)\n",
      "Requirement already satisfied: ptyprocess>=0.5 in /opt/homebrew/Caskroom/miniforge/base/envs/conformal/lib/python3.9/site-packages (from pexpect>4.3->ipython<8.0,>=7.23.1->ipykernel->jupyter->-r requirements.txt (line 4)) (0.7.0)\n",
      "Requirement already satisfied: wcwidth in /opt/homebrew/Caskroom/miniforge/base/envs/conformal/lib/python3.9/site-packages (from prompt-toolkit!=3.0.0,!=3.0.1,<3.1.0,>=2.0.0->ipython<8.0,>=7.23.1->ipykernel->jupyter->-r requirements.txt (line 4)) (0.2.5)\n",
      "Requirement already satisfied: ipython-genutils in /opt/homebrew/Caskroom/miniforge/base/envs/conformal/lib/python3.9/site-packages (from traitlets<6.0,>=4.1.0->ipykernel->jupyter->-r requirements.txt (line 4)) (0.2.0)\n",
      "Requirement already satisfied: widgetsnbextension~=3.5.0 in /opt/homebrew/Caskroom/miniforge/base/envs/conformal/lib/python3.9/site-packages (from ipywidgets->jupyter->-r requirements.txt (line 4)) (3.5.1)\n",
      "Requirement already satisfied: nbformat>=4.2.0 in /opt/homebrew/Caskroom/miniforge/base/envs/conformal/lib/python3.9/site-packages (from ipywidgets->jupyter->-r requirements.txt (line 4)) (5.1.3)\n",
      "Requirement already satisfied: jupyterlab-widgets>=1.0.0 in /opt/homebrew/Caskroom/miniforge/base/envs/conformal/lib/python3.9/site-packages (from ipywidgets->jupyter->-r requirements.txt (line 4)) (1.0.0)\n",
      "Requirement already satisfied: jsonschema!=2.5.0,>=2.4 in /opt/homebrew/Caskroom/miniforge/base/envs/conformal/lib/python3.9/site-packages (from nbformat>=4.2.0->ipywidgets->jupyter->-r requirements.txt (line 4)) (3.2.0)\n",
      "Requirement already satisfied: pyrsistent>=0.14.0 in /opt/homebrew/Caskroom/miniforge/base/envs/conformal/lib/python3.9/site-packages (from jsonschema!=2.5.0,>=2.4->nbformat>=4.2.0->ipywidgets->jupyter->-r requirements.txt (line 4)) (0.17.3)\n",
      "Requirement already satisfied: attrs>=17.4.0 in /opt/homebrew/Caskroom/miniforge/base/envs/conformal/lib/python3.9/site-packages (from jsonschema!=2.5.0,>=2.4->nbformat>=4.2.0->ipywidgets->jupyter->-r requirements.txt (line 4)) (21.2.0)\n",
      "Requirement already satisfied: Send2Trash>=1.5.0 in /opt/homebrew/Caskroom/miniforge/base/envs/conformal/lib/python3.9/site-packages (from notebook->jupyter->-r requirements.txt (line 4)) (1.8.0)\n",
      "Requirement already satisfied: argon2-cffi in /opt/homebrew/Caskroom/miniforge/base/envs/conformal/lib/python3.9/site-packages (from notebook->jupyter->-r requirements.txt (line 4)) (20.1.0)\n",
      "Requirement already satisfied: jinja2 in /opt/homebrew/Caskroom/miniforge/base/envs/conformal/lib/python3.9/site-packages (from notebook->jupyter->-r requirements.txt (line 4)) (3.0.1)\n",
      "Requirement already satisfied: terminado>=0.8.3 in /opt/homebrew/Caskroom/miniforge/base/envs/conformal/lib/python3.9/site-packages (from notebook->jupyter->-r requirements.txt (line 4)) (0.11.1)\n",
      "Requirement already satisfied: prometheus-client in /opt/homebrew/Caskroom/miniforge/base/envs/conformal/lib/python3.9/site-packages (from notebook->jupyter->-r requirements.txt (line 4)) (0.11.0)\n",
      "Requirement already satisfied: cffi>=1.0.0 in /opt/homebrew/Caskroom/miniforge/base/envs/conformal/lib/python3.9/site-packages (from argon2-cffi->notebook->jupyter->-r requirements.txt (line 4)) (1.14.6)\n",
      "Requirement already satisfied: pycparser in /opt/homebrew/Caskroom/miniforge/base/envs/conformal/lib/python3.9/site-packages (from cffi>=1.0.0->argon2-cffi->notebook->jupyter->-r requirements.txt (line 4)) (2.20)\n",
      "Requirement already satisfied: MarkupSafe>=2.0 in /opt/homebrew/Caskroom/miniforge/base/envs/conformal/lib/python3.9/site-packages (from jinja2->notebook->jupyter->-r requirements.txt (line 4)) (2.0.1)\n",
      "Requirement already satisfied: entrypoints>=0.2.2 in /opt/homebrew/Caskroom/miniforge/base/envs/conformal/lib/python3.9/site-packages (from nbconvert->jupyter->-r requirements.txt (line 4)) (0.3)\n",
      "Requirement already satisfied: testpath in /opt/homebrew/Caskroom/miniforge/base/envs/conformal/lib/python3.9/site-packages (from nbconvert->jupyter->-r requirements.txt (line 4)) (0.5.0)\n",
      "Requirement already satisfied: pandocfilters>=1.4.1 in /opt/homebrew/Caskroom/miniforge/base/envs/conformal/lib/python3.9/site-packages (from nbconvert->jupyter->-r requirements.txt (line 4)) (1.4.2)\n",
      "Requirement already satisfied: nbclient<0.6.0,>=0.5.0 in /opt/homebrew/Caskroom/miniforge/base/envs/conformal/lib/python3.9/site-packages (from nbconvert->jupyter->-r requirements.txt (line 4)) (0.5.4)\n",
      "Requirement already satisfied: jupyterlab-pygments in /opt/homebrew/Caskroom/miniforge/base/envs/conformal/lib/python3.9/site-packages (from nbconvert->jupyter->-r requirements.txt (line 4)) (0.1.2)\n",
      "Requirement already satisfied: defusedxml in /opt/homebrew/Caskroom/miniforge/base/envs/conformal/lib/python3.9/site-packages (from nbconvert->jupyter->-r requirements.txt (line 4)) (0.7.1)\n",
      "Requirement already satisfied: bleach in /opt/homebrew/Caskroom/miniforge/base/envs/conformal/lib/python3.9/site-packages (from nbconvert->jupyter->-r requirements.txt (line 4)) (4.0.0)\n",
      "Requirement already satisfied: mistune<2,>=0.8.1 in /opt/homebrew/Caskroom/miniforge/base/envs/conformal/lib/python3.9/site-packages (from nbconvert->jupyter->-r requirements.txt (line 4)) (0.8.4)\n",
      "Requirement already satisfied: nest-asyncio in /opt/homebrew/Caskroom/miniforge/base/envs/conformal/lib/python3.9/site-packages (from nbclient<0.6.0,>=0.5.0->nbconvert->jupyter->-r requirements.txt (line 4)) (1.5.1)\n",
      "Requirement already satisfied: webencodings in /opt/homebrew/Caskroom/miniforge/base/envs/conformal/lib/python3.9/site-packages (from bleach->nbconvert->jupyter->-r requirements.txt (line 4)) (0.5.1)\n",
      "Requirement already satisfied: packaging in /opt/homebrew/Caskroom/miniforge/base/envs/conformal/lib/python3.9/site-packages (from bleach->nbconvert->jupyter->-r requirements.txt (line 4)) (21.0)\n",
      "Requirement already satisfied: pyparsing>=2.0.2 in /opt/homebrew/Caskroom/miniforge/base/envs/conformal/lib/python3.9/site-packages (from packaging->bleach->nbconvert->jupyter->-r requirements.txt (line 4)) (2.4.7)\n",
      "Requirement already satisfied: qtpy in /opt/homebrew/Caskroom/miniforge/base/envs/conformal/lib/python3.9/site-packages (from qtconsole->jupyter->-r requirements.txt (line 4)) (1.11.0)\n",
      "Building jupyterlab assets (production, minimized)\n",
      "Enabling notebook extension jupyter-js-widgets/extension...\n",
      "      - Validating: \u001b[32mOK\u001b[0m\n"
     ]
    }
   ],
   "source": [
    "!pip install -r requirements.txt\n",
    "!jupyter labextension install @jupyter-widgets/jupyterlab-manager\n",
    "!jupyter nbextension enable --py widgetsnbextension"
   ]
  },
  {
   "cell_type": "code",
   "execution_count": 2,
   "id": "0dfc8404-48b1-409d-ac6c-8345c147f0a1",
   "metadata": {},
   "outputs": [],
   "source": [
    "from conformalMaps.grids import *\n",
    "from conformalMaps.mappings import RectangleToEccentricAnnulus, RectangleToEllipticAnnulus, ConcentricAnnulusToEccentricAnnulus\n",
    "from ipywidgets import widgets\n",
    "from ipywidgets import HBox,VBox"
   ]
  },
  {
   "cell_type": "markdown",
   "id": "afb01d3f-3a17-4744-86a4-7ae3a21721b5",
   "metadata": {},
   "source": [
    "# Using Rectangle grid"
   ]
  },
  {
   "cell_type": "code",
   "execution_count": 3,
   "id": "bf4f7186-9004-4a08-9f81-ee870f8fadc7",
   "metadata": {},
   "outputs": [
    {
     "data": {
      "application/vnd.jupyter.widget-view+json": {
       "model_id": "7dfdd6e19bab4aa8a680a914f6056766",
       "version_major": 2,
       "version_minor": 0
      },
      "text/plain": [
       "VBox(children=(HBox(children=(VBox(children=(FloatSlider(value=-1.0, description='left', max=10.0, min=-10.0),…"
      ]
     },
     "metadata": {},
     "output_type": "display_data"
    }
   ],
   "source": [
    "rect = Rectangle()\n",
    "\n",
    "left = widgets.FloatSlider(min=-10, max=10, value=-1, description='left')\n",
    "bottom = widgets.FloatSlider(min=-10, max=10, value=-1, description='bottom')\n",
    "\n",
    "top = widgets.FloatSlider(min=-10, max=10, value=1, description='top')\n",
    "right = widgets.FloatSlider(min=-10, max=10, value=1, description='right')\n",
    "\n",
    "fine = widgets.IntSlider(min = 20, max = 100, value=50, description='Fine')\n",
    "\n",
    "Hticks = widgets.IntSlider(min = 2, max = 50, value=10, description='Hticks')\n",
    "Vticks = widgets.IntSlider(min = 2, max = 50, value=10, description='Vticks')\n",
    "\n",
    "\n",
    "function = widgets.Text( value = 'z**2' , description='w : ')\n",
    "\n",
    "frame = widgets.FloatSlider(min=0, max=100, value=100, step = 5, description='anim')\n",
    "\n",
    "play = widgets.Play(min= 0, max = 100, step = 5)\n",
    "widgets.jslink((play, 'value'), (frame, 'value'))\n",
    "\n",
    "interactive_plot = widgets.interactive(rect.updateFunc,\n",
    "                                       w = function,\n",
    "                                       left = left,\n",
    "                                       right = right,\n",
    "                                       top= top,\n",
    "                                       bottom = bottom,\n",
    "                                       fine = fine,\n",
    "                                      Hticks = Hticks,\n",
    "                                      Vticks = Vticks,\n",
    "                                      frame = frame\n",
    "                                      )\n",
    "\n",
    "\n",
    "w1 = VBox([ left, right])\n",
    "w2 = VBox([top,bottom])\n",
    "w3 = VBox([Hticks,Vticks])\n",
    "w4 = HBox([w1,w2,w3])\n",
    "\n",
    "w5 = HBox([function, fine])\n",
    "\n",
    "anim_slider = HBox([play, frame])\n",
    "\n",
    "w = VBox([w4, w5, anim_slider, rect.show()])\n",
    "\n",
    "w"
   ]
  },
  {
   "cell_type": "code",
   "execution_count": 3,
   "id": "c7bb7d2c-5cda-4f27-b2c5-93e22119e9c4",
   "metadata": {},
   "outputs": [
    {
     "name": "stdout",
     "output_type": "stream",
     "text": [
      "The function is conformal, angles are preserved :)\n"
     ]
    }
   ],
   "source": [
    "rect.check_analytic()"
   ]
  },
  {
   "cell_type": "markdown",
   "id": "baf12d64-8023-46da-b682-f642b8698146",
   "metadata": {},
   "source": [
    "# Using Square Grid"
   ]
  },
  {
   "cell_type": "code",
   "execution_count": 4,
   "id": "2239ce05-ad76-4e9c-86b6-dd1f3d9022e8",
   "metadata": {},
   "outputs": [
    {
     "data": {
      "application/vnd.jupyter.widget-view+json": {
       "model_id": "bf55095e6167433f90291f01677395b8",
       "version_major": 2,
       "version_minor": 0
      },
      "text/plain": [
       "VBox(children=(HBox(children=(FloatSlider(value=1.0, description='side', max=10.0, min=0.01), IntSlider(value=…"
      ]
     },
     "metadata": {},
     "output_type": "display_data"
    }
   ],
   "source": [
    "sq = Square()\n",
    "\n",
    "side = widgets.FloatSlider(min=0.01, max=10, value=1, description='side')\n",
    "\n",
    "fine = widgets.IntSlider(min = 20, max = 100, value=50, description='Fine')\n",
    "\n",
    "Hticks = widgets.IntSlider(min = 2, max = 50, value=10, description='Hticks')\n",
    "Vticks = widgets.IntSlider(min = 2, max = 50, value=10, description='Vticks')\n",
    "\n",
    "\n",
    "function = widgets.Text( value = 'z**2' , description='w : ')\n",
    "\n",
    "frame = widgets.FloatSlider(min=0, max=100, value=100, step = 5, description='anim')\n",
    "\n",
    "play = widgets.Play(min= 0, max = 100, step = 5)\n",
    "widgets.jslink((play, 'value'), (frame, 'value'))\n",
    "\n",
    "\n",
    "interactive_plot = widgets.interactive(sq.updateFunc,\n",
    "                                       w = function,\n",
    "                                       side = side,\n",
    "                                       fine = fine,\n",
    "                                      Hticks = Hticks,\n",
    "                                      Vticks = Vticks,\n",
    "                                      frame = frame\n",
    "                                      )\n",
    "\n",
    "# w1 = VBox([ left, right])\n",
    "# w2 = VBox([top,bottom])\n",
    "box1 = HBox([side, Hticks,Vticks])\n",
    "\n",
    "box2 = HBox([function, fine])\n",
    "\n",
    "anim_slider = HBox([play, frame])\n",
    "\n",
    "w = VBox([box1, box2, anim_slider, sq.show()])\n",
    "\n",
    "w"
   ]
  },
  {
   "cell_type": "code",
   "execution_count": 5,
   "id": "dc52087a-7d89-4425-ac42-a6ddd1b647fd",
   "metadata": {},
   "outputs": [
    {
     "name": "stdout",
     "output_type": "stream",
     "text": [
      "The function is conformal, angles are preserved :)\n"
     ]
    }
   ],
   "source": [
    "sq.check_analytic()"
   ]
  },
  {
   "cell_type": "code",
   "execution_count": 7,
   "id": "8f4d2aff-1a90-4bdf-86bc-9ad3ec3ec914",
   "metadata": {},
   "outputs": [
    {
     "data": {
      "application/vnd.jupyter.widget-view+json": {
       "model_id": "e6b837e8908546f3a9b43e6f26e4e23a",
       "version_major": 2,
       "version_minor": 0
      },
      "text/plain": [
       "VBox(children=(HBox(children=(FloatSlider(value=1.0, description='side', max=10.0, min=0.01), IntSlider(value=…"
      ]
     },
     "metadata": {},
     "output_type": "display_data"
    }
   ],
   "source": [
    "r = sym.sqrt(x**2+y**2)\n",
    "\n",
    "f = x*(sym.sqrt(x**2+y**2-x**2*y**2))/r + sym.I*y*(sym.sqrt(x**2+y**2-x**2*y**2))/r # transforms unit square\n",
    "\n",
    "sq2 = Square()\n",
    "\n",
    "side = widgets.FloatSlider(min=0.01, max=10, value=1, description='side')\n",
    "\n",
    "fine = widgets.IntSlider(min = 20, max = 100, value=50, description='Fine')\n",
    "\n",
    "Hticks = widgets.IntSlider(min = 2, max = 50, value=10, description='Hticks')\n",
    "Vticks = widgets.IntSlider(min = 2, max = 50, value=10, description='Vticks')\n",
    "\n",
    "\n",
    "function = widgets.Text(  value = '%s' %(f) , description='w : ')\n",
    "\n",
    "frame = widgets.FloatSlider(min=0, max=100, value=100, step = 5, description='anim')\n",
    "\n",
    "play = widgets.Play(min= 0, max = 100, step = 5)\n",
    "widgets.jslink((play, 'value'), (frame, 'value'))\n",
    "\n",
    "\n",
    "interactive_plot = widgets.interactive(sq2.updateFunc,\n",
    "                                       w = function,\n",
    "                                       side = side,\n",
    "                                       fine = fine,\n",
    "                                      Hticks = Hticks,\n",
    "                                      Vticks = Vticks,\n",
    "                                      frame = frame\n",
    "                                      )\n",
    "\n",
    "# w1 = VBox([ left, right])\n",
    "# w2 = VBox([top,bottom])\n",
    "box1 = HBox([side, Hticks,Vticks])\n",
    "\n",
    "box2 = HBox([function, fine])\n",
    "\n",
    "anim_slider = HBox([play, frame])\n",
    "\n",
    "w = VBox([box1, box2, anim_slider, sq2.show()])\n",
    "\n",
    "w\n"
   ]
  },
  {
   "cell_type": "code",
   "execution_count": null,
   "id": "26079036-5dae-4b73-8ba3-20679c68bd10",
   "metadata": {},
   "outputs": [],
   "source": [
    "sq2.check_analytic()"
   ]
  },
  {
   "cell_type": "markdown",
   "id": "54fde09c-657f-4b77-aff5-7649ebfa89c4",
   "metadata": {},
   "source": [
    "# Using Donut Grid"
   ]
  },
  {
   "cell_type": "code",
   "execution_count": 8,
   "id": "daf03a4a-1f28-4414-953d-1280bbb8ad89",
   "metadata": {},
   "outputs": [
    {
     "data": {
      "application/vnd.jupyter.widget-view+json": {
       "model_id": "19fb4e1d56cf48a6911b83d7e502685a",
       "version_major": 2,
       "version_minor": 0
      },
      "text/plain": [
       "VBox(children=(HBox(children=(VBox(children=(FloatSlider(value=1.0, description='Rin', max=10.0), FloatSlider(…"
      ]
     },
     "metadata": {},
     "output_type": "display_data"
    }
   ],
   "source": [
    "donut = Donut()\n",
    "\n",
    "rin = widgets.FloatSlider(min=0, max=10, value=1, description='Rin')\n",
    "rout = widgets.FloatSlider(min=1, max=20, value=3, description='Rout')\n",
    "\n",
    "x0 = widgets.FloatSlider(min=-10, max=10, value=0, description='x0')\n",
    "y0 = widgets.FloatSlider(min=-10, max=10, value=0, description='y0')\n",
    "\n",
    "cticks = widgets.IntSlider(min = 2, max = 50, value=4, description='cticks')\n",
    "rticks = widgets.IntSlider(min = 2, max = 50, value=4, description='rticks')\n",
    "\n",
    "fine = widgets.IntSlider(min = 20, max = 100, value=50, description='Fine')\n",
    "\n",
    "function = widgets.Text( value = 'z**2' , description='w : ')\n",
    "\n",
    "frame = widgets.FloatSlider(min=0, max=100, value=100, step = 2, description='anim')\n",
    "\n",
    "play = widgets.Play(min= 0, max = 100, step = 5)\n",
    "widgets.jslink((play, 'value'), (frame, 'value'))\n",
    "\n",
    "interactive_plot = widgets.interactive(donut.updateFunc,\n",
    "                                       rin = rin,\n",
    "                                       rout = rout,\n",
    "                                       x0 = x0,\n",
    "                                       y0 = y0,\n",
    "                                       fine = fine,\n",
    "                                       cticks = cticks,\n",
    "                                       rticks = rticks,\n",
    "                                       w = function,\n",
    "                                       frame = frame)\n",
    "\n",
    "radius = VBox([rin, rout])\n",
    "offset = VBox([x0, y0])\n",
    "ticks = VBox([cticks, rticks])\n",
    "group = HBox([radius, offset,ticks])\n",
    "animation = HBox([play, frame])\n",
    "\n",
    "w1 = VBox([group, HBox([fine, function]), animation, donut.show()])\n",
    "\n",
    "w1"
   ]
  },
  {
   "cell_type": "code",
   "execution_count": 9,
   "id": "58ad7d2d-5cb7-42ac-b4fb-35d348e60cf3",
   "metadata": {},
   "outputs": [
    {
     "name": "stdout",
     "output_type": "stream",
     "text": [
      "The function is conformal, angles are preserved :)\n"
     ]
    }
   ],
   "source": [
    "donut.check_analytic()"
   ]
  },
  {
   "cell_type": "markdown",
   "id": "056f112b-4f33-4b4b-817f-b1ba6e296af3",
   "metadata": {},
   "source": [
    "# Using Circle Grid"
   ]
  },
  {
   "cell_type": "code",
   "execution_count": 10,
   "id": "9da711bf-94b1-44ef-b536-0d6d7295ec17",
   "metadata": {},
   "outputs": [
    {
     "data": {
      "application/vnd.jupyter.widget-view+json": {
       "model_id": "4206587a108b4680bf2f73d5873dbe07",
       "version_major": 2,
       "version_minor": 0
      },
      "text/plain": [
       "VBox(children=(HBox(children=(VBox(children=(FloatSlider(value=1.0, description='R', max=10.0, min=0.1), IntSl…"
      ]
     },
     "metadata": {},
     "output_type": "display_data"
    }
   ],
   "source": [
    "circle = Circle()\n",
    "\n",
    "r = widgets.FloatSlider(min=0.1, max=10, value=1, description='R')\n",
    "\n",
    "\n",
    "x0 = widgets.FloatSlider(min=-10, max=10, value=0, description='x0')\n",
    "y0 = widgets.FloatSlider(min=-10, max=10, value=0, description='y0')\n",
    "\n",
    "cticks = widgets.IntSlider(min = 2, max = 50, value=4, description='cticks')\n",
    "rticks = widgets.IntSlider(min = 0, max = 50, value=4, description='rticks')\n",
    "\n",
    "fine = widgets.IntSlider(min = 20, max = 100, value=50, description='Fine')\n",
    "\n",
    "function = widgets.Text( value = 'z**2' , description='w : ')\n",
    "\n",
    "frame = widgets.FloatSlider(min=0, max=100, value=100, step = 2, description='anim')\n",
    "\n",
    "play = widgets.Play(min= 0, max = 100, step = 2)\n",
    "widgets.jslink((play, 'value'), (frame, 'value'))\n",
    "\n",
    "interactive_plot = widgets.interactive(circle.updateFunc,\n",
    "                                       r = r,\n",
    "                                       x0 = x0,\n",
    "                                       y0 = y0,\n",
    "                                       fine = fine,\n",
    "                                       cticks = cticks,\n",
    "                                       rticks = rticks,\n",
    "                                       w = function,\n",
    "                                       frame = frame)\n",
    "\n",
    "radius = VBox([r, fine])\n",
    "offset = VBox([x0, y0])\n",
    "ticks = VBox([cticks, rticks])\n",
    "group = HBox([radius, offset,ticks])\n",
    "animation = HBox([play, frame])\n",
    "\n",
    "w1 = VBox([group, function, animation, circle.show()])\n",
    "\n",
    "w1\n",
    "# display(interactive_plot,circle.show())"
   ]
  },
  {
   "cell_type": "code",
   "execution_count": 11,
   "id": "be86f8d6-5f47-451f-8a2e-d8a65290c215",
   "metadata": {},
   "outputs": [
    {
     "name": "stdout",
     "output_type": "stream",
     "text": [
      "The function is conformal, angles are preserved :)\n"
     ]
    }
   ],
   "source": [
    "circle.check_analytic()"
   ]
  },
  {
   "cell_type": "markdown",
   "id": "e77cdb77-3fa4-4f99-b146-ae30077a79a0",
   "metadata": {},
   "source": [
    "# Using Single_circle"
   ]
  },
  {
   "cell_type": "code",
   "execution_count": 12,
   "id": "71fc4a1a-07b6-4f93-8ec9-045ed1ee3b71",
   "metadata": {},
   "outputs": [
    {
     "data": {
      "application/vnd.jupyter.widget-view+json": {
       "model_id": "ca42ec587e6845558b06a2a444ffbdfa",
       "version_major": 2,
       "version_minor": 0
      },
      "text/plain": [
       "VBox(children=(HBox(children=(VBox(children=(FloatSlider(value=1.08, description='R', max=10.0, min=0.1), IntS…"
      ]
     },
     "metadata": {},
     "output_type": "display_data"
    }
   ],
   "source": [
    "single = Single_circle(rticks=0)\n",
    "\n",
    "r = widgets.FloatSlider(min=0.1, max=10, value=1.08, description='R')\n",
    "\n",
    "\n",
    "x0 = widgets.FloatSlider(min=-10, max=10, value=-0.08, description='x0')\n",
    "y0 = widgets.FloatSlider(min=-10, max=10, value=0.08, description='y0')\n",
    "\n",
    "rticks = widgets.IntSlider(min = 0, max = 50, value=0, description='rticks')\n",
    "\n",
    "fine = widgets.IntSlider(min = 20, max = 100, value=50, description='Fine')\n",
    "\n",
    "function = widgets.Text( value = 'z+1/z' , description='w : ')\n",
    "\n",
    "frame = widgets.FloatSlider(min=0, max=100, value=100, step = 2, description='anim')\n",
    "\n",
    "play = widgets.Play(min= 0, max = 100, step = 2)\n",
    "widgets.jslink((play, 'value'), (frame, 'value'))\n",
    "\n",
    "interactive_plot = widgets.interactive(single.updateFunc,\n",
    "                                       r = r,\n",
    "                                       x0 = x0,\n",
    "                                       y0 = y0,\n",
    "                                       fine = fine,\n",
    "                                       rticks = rticks,\n",
    "                                       w = function,\n",
    "                                       frame = frame)\n",
    "\n",
    "radius = VBox([r, fine])\n",
    "offset = VBox([x0, y0])\n",
    "# ticks = VBox([cticks, rticks])\n",
    "group = HBox([radius, offset,rticks])\n",
    "animation = HBox([play, frame])\n",
    "\n",
    "w1 = VBox([group, function, animation, single.show()])\n",
    "\n",
    "w1"
   ]
  },
  {
   "cell_type": "code",
   "execution_count": 13,
   "id": "66538641-3ce0-4c54-bc53-df76b945ff71",
   "metadata": {},
   "outputs": [
    {
     "name": "stdout",
     "output_type": "stream",
     "text": [
      "The function is conformal, angles are preserved :)\n"
     ]
    }
   ],
   "source": [
    "single.check_analytic()"
   ]
  },
  {
   "cell_type": "markdown",
   "id": "c976fcdd-6544-4642-b49c-6bac5dd1f8c0",
   "metadata": {},
   "source": [
    "# Using Builtin complicated functions for w"
   ]
  },
  {
   "cell_type": "markdown",
   "id": "92d677af-9b96-4293-bb43-8426e900be2d",
   "metadata": {},
   "source": [
    "### using EccentricAnnulus as w"
   ]
  },
  {
   "cell_type": "code",
   "execution_count": 14,
   "id": "30f5200c-4203-49a2-8de2-2396cb5f2a00",
   "metadata": {},
   "outputs": [
    {
     "data": {
      "application/vnd.jupyter.widget-view+json": {
       "model_id": "684a789707834b1c917fd3fef25f2c51",
       "version_major": 2,
       "version_minor": 0
      },
      "text/plain": [
       "VBox(children=(HBox(children=(VBox(children=(FloatSlider(value=-3.141592653589793, description='left', max=10.…"
      ]
     },
     "metadata": {},
     "output_type": "display_data"
    }
   ],
   "source": [
    "R1 = 4 # inner radius of target eccentric annulus\n",
    "R2 = 7.6 # outer radius of target eccentric annulus\n",
    "ep = 0.7 # relative eccentricity of target eccentric annulus\n",
    "\n",
    "trans = RectangleToEccentricAnnulus(R1, R2, ep)\n",
    "\n",
    "\n",
    "rect = Rectangle()\n",
    "\n",
    "left = widgets.FloatSlider(min=-10, max=10, value=-pi, description='left')\n",
    "right = widgets.FloatSlider(min=-10, max=10, value=pi, description='right')\n",
    "\n",
    "top = widgets.FloatSlider(min=-10, max=10, value=1.5, description='top')\n",
    "bottom = widgets.FloatSlider(min=-10, max=10, value=0.8, description='bottom')\n",
    "\n",
    "\n",
    "fine = widgets.IntSlider(min = 20, max = 100, value=50, description='Fine')\n",
    "\n",
    "Hticks = widgets.IntSlider(min = 2, max = 50, value=10, description='Hticks')\n",
    "Vticks = widgets.IntSlider(min = 2, max = 50, value=20, description='Vticks')\n",
    "\n",
    "\n",
    "function = widgets.Text( value = '{0}'.format(trans.mapping(z)) , description='w : ')\n",
    "\n",
    "frame = widgets.FloatSlider(min=0, max=100, value=100, step = 5, description='anim')\n",
    "\n",
    "play = widgets.Play(min= 0, max = 100, step = 5)\n",
    "# widgets.jslink((frame, 'value'), (play, 'value'))\n",
    "widgets.jslink((play, 'value'), (frame, 'value'))\n",
    "\n",
    "interactive_plot = widgets.interactive(rect.updateFunc,\n",
    "                                       w = function,\n",
    "                                       left = left,\n",
    "                                       right = right,\n",
    "                                       top= top,\n",
    "                                       bottom = bottom,\n",
    "                                       fine = fine,\n",
    "                                      Hticks = Hticks,\n",
    "                                      Vticks = Vticks,\n",
    "                                      frame = frame\n",
    "                                      )\n",
    "\n",
    "\n",
    "w1 = VBox([ left, right])\n",
    "w2 = VBox([top,bottom])\n",
    "w3 = VBox([Hticks,Vticks])\n",
    "w4 = HBox([w1,w2,w3])\n",
    "\n",
    "w5 = HBox([function, fine])\n",
    "\n",
    "anim_slider = HBox([play, frame])\n",
    "\n",
    "w = VBox([w4, w5, anim_slider, rect.show()])\n",
    "\n",
    "w\n",
    "\n"
   ]
  },
  {
   "cell_type": "markdown",
   "id": "ded407a6-5cea-4d67-af70-d657326e10a1",
   "metadata": {},
   "source": [
    "### Using EllipticAnnulus as w"
   ]
  },
  {
   "cell_type": "code",
   "execution_count": 15,
   "id": "3052e6b3-bae4-4491-8579-91be15d8603f",
   "metadata": {},
   "outputs": [
    {
     "data": {
      "application/vnd.jupyter.widget-view+json": {
       "model_id": "489c77b2b0b744a7aeb82de93a988a25",
       "version_major": 2,
       "version_minor": 0
      },
      "text/plain": [
       "VBox(children=(HBox(children=(VBox(children=(FloatSlider(value=-3.141592653589793, description='left', max=10.…"
      ]
     },
     "metadata": {},
     "output_type": "display_data"
    }
   ],
   "source": [
    "a = 5 # half axis of outer ellipse\n",
    "\n",
    "b = 3.6 # half axis of inner ellipse\n",
    "\n",
    "trans = RectangleToEllipticAnnulus(b, a)\n",
    "\n",
    "\n",
    "rect = Rectangle()\n",
    "\n",
    "left = widgets.FloatSlider(min=-10, max=10, value=-pi, description='left')\n",
    "right = widgets.FloatSlider(min=-10, max=10, value=pi, description='right')\n",
    "\n",
    "top = widgets.FloatSlider(min=-10, max=10, value=1.5, description='top')\n",
    "bottom = widgets.FloatSlider(min=-10, max=10, value=0.8, description='bottom')\n",
    "\n",
    "\n",
    "fine = widgets.IntSlider(min = 20, max = 100, value=50, description='Fine')\n",
    "\n",
    "Hticks = widgets.IntSlider(min = 2, max = 50, value=10, description='Hticks')\n",
    "Vticks = widgets.IntSlider(min = 2, max = 50, value=20, description='Vticks')\n",
    "\n",
    "\n",
    "function = widgets.Text( value = '{0}'.format(trans.mapping(z)) , description='w : ')\n",
    "\n",
    "frame = widgets.FloatSlider(min=0, max=100, value=100, step = 5, description='anim')\n",
    "\n",
    "play = widgets.Play(min= 0, max = 100, step = 5)\n",
    "# widgets.jslink((frame, 'value'), (play, 'value'))\n",
    "widgets.jslink((play, 'value'), (frame, 'value'))\n",
    "\n",
    "interactive_plot = widgets.interactive(rect.updateFunc,\n",
    "                                       w = function,\n",
    "                                       left = left,\n",
    "                                       right = right,\n",
    "                                       top= top,\n",
    "                                       bottom = bottom,\n",
    "                                       fine = fine,\n",
    "                                      Hticks = Hticks,\n",
    "                                      Vticks = Vticks,\n",
    "                                      frame = frame\n",
    "                                      )\n",
    "\n",
    "\n",
    "w1 = VBox([ left, right])\n",
    "w2 = VBox([top,bottom])\n",
    "w3 = VBox([Hticks,Vticks])\n",
    "w4 = HBox([w1,w2,w3])\n",
    "\n",
    "w5 = HBox([function, fine])\n",
    "\n",
    "anim_slider = HBox([play, frame])\n",
    "\n",
    "w = VBox([w4, w5, anim_slider, rect.show()])\n",
    "\n",
    "w\n",
    "\n"
   ]
  },
  {
   "cell_type": "markdown",
   "id": "8e896561-b45e-4169-946b-12501e2a172f",
   "metadata": {},
   "source": [
    "### Using "
   ]
  }
 ],
 "metadata": {
  "kernelspec": {
   "display_name": "Python 3 (ipykernel)",
   "language": "python",
   "name": "python3"
  },
  "language_info": {
   "codemirror_mode": {
    "name": "ipython",
    "version": 3
   },
   "file_extension": ".py",
   "mimetype": "text/x-python",
   "name": "python",
   "nbconvert_exporter": "python",
   "pygments_lexer": "ipython3",
   "version": "3.9.6"
  }
 },
 "nbformat": 4,
 "nbformat_minor": 5
}
