{
 "cells": [
  {
   "cell_type": "markdown",
   "metadata": {},
   "source": [
    "# conformalMaps\n",
    "### An interactive package for intercative use of conformal mappings\n",
    "\n",
    "* Function **w = f(z) should be entered in standard Pythonic form**, (ex:z**2 for $z^2$)\n",
    "\n",
    "* Functions entered should be availabe in SymPy lib and must be entered in same form because internally it uses sympy for symbolic conversion.\n",
    "\n",
    "* The entered function w can be a function of z or of the form x + i y\n",
    "'x' and 'y' are real and imaginary variables respectively.\n",
    "\n",
    "* Typical usage\n",
    "```\n",
    "     z**2\n",
    "     x**2 + I*y**2\n",
    "     tan(z)\n",
    "```\n",
    "* **Note use 'I' for imaginary number $\\rm{i}$ iota**\n",
    "\n",
    "* Use transformation slider to see the transformation\n",
    "* Limit range limits the grid to $\\pm$ slider value\n",
    "* Ticks increases number of gridlines"
   ]
  },
  {
   "cell_type": "code",
   "execution_count": 1,
   "metadata": {},
   "outputs": [
    {
     "data": {
      "text/html": [
       "        <script type=\"text/javascript\">\n",
       "        window.PlotlyConfig = {MathJaxConfig: 'local'};\n",
       "        if (window.MathJax) {MathJax.Hub.Config({SVG: {font: \"STIX-Web\"}});}\n",
       "        if (typeof require !== 'undefined') {\n",
       "        require.undef(\"plotly\");\n",
       "        requirejs.config({\n",
       "            paths: {\n",
       "                'plotly': ['https://cdn.plot.ly/plotly-latest.min']\n",
       "            }\n",
       "        });\n",
       "        require(['plotly'], function(Plotly) {\n",
       "            window._Plotly = Plotly;\n",
       "        });\n",
       "        }\n",
       "        </script>\n",
       "        "
      ]
     },
     "metadata": {},
     "output_type": "display_data"
    }
   ],
   "source": [
    "# All the required modules\n",
    "\n",
    "\n",
    "import numpy as np\n",
    "import sympy as sym\n",
    "from conformalMaps.elementaryGeometry import update_rectangle\n",
    "from conformalMaps.elementaryGeometry import update_square\n",
    "from conformalMaps.elementaryGeometry import update_circle, update_single_circle, update_concentricAnnulus\n",
    "from conformalMaps.mappings import RectangleToEccentricAnnulus, RectangleToEllipticAnnulus\n",
    "from conformalMaps.mappings import ConcentricAnnulusToEccentricAnnulus\n",
    "from conformalMaps.auxiliary import confCheck\n",
    "import ipywidgets as widgets\n",
    "from ipywidgets import VBox,HBox,Layout,AppLayout\n",
    "from plotly.offline import init_notebook_mode, iplot\n",
    "init_notebook_mode(connected=True)\n",
    "\n",
    "x, y = sym.symbols('x y', real = True)\n",
    "\n",
    "z = x + sym.I*y\n"
   ]
  },
  {
   "cell_type": "code",
   "execution_count": 2,
   "metadata": {},
   "outputs": [
    {
     "data": {
      "application/vnd.jupyter.widget-view+json": {
       "model_id": "14ac92424c1643d9b3a8d345ae72e460",
       "version_major": 2,
       "version_minor": 0
      },
      "text/plain": [
       "interactive(children=(Text(value='5.77586887182265*tan(x/2 + I*y/2) - 9.54571428571429*I', description='w : ')…"
      ]
     },
     "metadata": {},
     "output_type": "display_data"
    }
   ],
   "source": [
    "R1 = 4 # inner radius of target eccentric annulus\n",
    "R2 = 7.6 # outer radius of target eccentric annulus\n",
    "ep = 0.7 # relative eccentricity of target eccentric annulus\n",
    "\n",
    "trans = RectangleToEccentricAnnulus(R1, R2, ep)\n",
    "\n",
    "\n",
    "\n",
    "# since it is numerical computation, we need range to operate in, given by limit_range\n",
    "limit_range = widgets.FloatSlider(min = 0.1 , max = 10 , value = np.pi , description = \"Limit Range\",visibility = 'hidden')\n",
    "\n",
    "# change ticks slider to add or remove lines in the range\n",
    "ticks = widgets.IntSlider(min = 2 , max = 40 , value = 11 , description = \"Ticks\")\n",
    "\n",
    "# the input function w to draw conformal map\n",
    "function = widgets.Text( value ='{0}'.format(trans.mapping(z)) , description='w : ')\n",
    "\n",
    "# play button widget to animate\n",
    "play = widgets.Play(min = 0 , max = 100 , value = 100, step=5)\n",
    "\n",
    "# call all the variables in ipywidgets\n",
    "interactive_plot = widgets.interactive(update_rectangle,\n",
    "                                       function = function, \n",
    "                                       transformation = play,\n",
    "                                       left =  trans.left,\n",
    "                                       right = trans.right,\n",
    "                                       bottom = trans.bottom,\n",
    "                                       top = trans.top,\n",
    "                                       ticks = ticks,\n",
    "                                       vertFreq = 7,\n",
    "                                      anim_scaler=100)\n",
    "\n",
    "# display the output\n",
    "display(interactive_plot)"
   ]
  },
  {
   "cell_type": "code",
   "execution_count": 3,
   "metadata": {},
   "outputs": [
    {
     "data": {
      "application/vnd.jupyter.widget-view+json": {
       "model_id": "b14c7888e47a4486841e8ed18247916f",
       "version_major": 2,
       "version_minor": 0
      },
      "text/plain": [
       "interactive(children=(Text(value='2*x*y + sym.I*(y *sym.sin(x) - x*sym.sin(y) )', description='w : '), FloatSl…"
      ]
     },
     "metadata": {},
     "output_type": "display_data"
    }
   ],
   "source": [
    "\n",
    "\n",
    "\n",
    "\n",
    "# change ticks slider to add or remove lines in the range\n",
    "ticks = widgets.IntSlider(min = 2 , max = 40 , value = 11 , description = \"Ticks\")\n",
    "\n",
    "# the input function w to draw conformal map\n",
    "function = widgets.Text( value = '2*x*y + sym.I*(y *sym.sin(x) - x*sym.sin(y) )' , description='w : ')\n",
    "\n",
    "# play button widget to animate\n",
    "#play = widgets.Play(min = 0 , max = 100 , value = 100, step=5)\n",
    "transformation = widgets.FloatSlider(min = 0 , max = 1 , value = 1, description =\"Mapping\")\n",
    "\n",
    "    \n",
    "# call all the variables in ipywidgets\n",
    "interactive_plot = widgets.interactive(update_rectangle,\n",
    "                                       function = function, \n",
    "                                       transformation = transformation,\n",
    "                                       left = -5,\n",
    "                                       right = 5,\n",
    "                                       bottom = -5,\n",
    "                                       top = 5,\n",
    "                                       ticks = ticks,\n",
    "                                       vertFreq = 3,\n",
    "                                      anim_scaler=1)\n",
    "\n",
    "# display the output\n",
    "display(interactive_plot)"
   ]
  },
  {
   "cell_type": "code",
   "execution_count": 4,
   "metadata": {},
   "outputs": [
    {
     "data": {
      "application/vnd.jupyter.widget-view+json": {
       "model_id": "25f41ece70e74ee3bae4ae6f424a1c97",
       "version_major": 2,
       "version_minor": 0
      },
      "text/plain": [
       "interactive(children=(Text(value='3.46987031457949*cosh(x + I*y)', description='w : '), Play(value=100, descri…"
      ]
     },
     "metadata": {},
     "output_type": "display_data"
    }
   ],
   "source": [
    "\n",
    "a = 5 # half axis of outer ellipse\n",
    "\n",
    "b = 3.6 # half axis of inner ellipse\n",
    "\n",
    "trans = RectangleToEllipticAnnulus(b, a)\n",
    "\n",
    "\n",
    "# change ticks slider to add or remove lines in the range\n",
    "ticks = widgets.IntSlider(min = 2 , max = 40 , value = 11 , description = \"Ticks\")\n",
    "\n",
    "vertFreq = widgets.IntSlider(min = 1 , max = 10 , value = 1 , description = \"vertFreq\")\n",
    "\n",
    "# the input function w to draw conformal map\n",
    "function = widgets.Text( value = '{0}'.format(trans.mapping(z)) , description='w : ')\n",
    "\n",
    "# play button widget to animate\n",
    "play = widgets.Play(min = 0 , max = 100 , value = 100, step=5)\n",
    "\n",
    "\n",
    "    \n",
    "# call all the variables in ipywidgets\n",
    "interactive_plot = widgets.interactive(update_rectangle,\n",
    "                                       function = function, \n",
    "                                       transformation = play,\n",
    "                                       left = trans.left,\n",
    "                                       right = trans.right,\n",
    "                                       bottom = trans.bottom,\n",
    "                                       top = trans.top,\n",
    "                                       ticks = ticks,\n",
    "                                       vertFreq = vertFreq,\n",
    "                                       anim_scaler=100)\n",
    "\n",
    "# display the output\n",
    "display(interactive_plot)"
   ]
  },
  {
   "cell_type": "code",
   "execution_count": 5,
   "metadata": {},
   "outputs": [
    {
     "data": {
      "application/vnd.jupyter.widget-view+json": {
       "model_id": "cc2737e2fa0441008b9080ab93d85980",
       "version_major": 2,
       "version_minor": 0
      },
      "text/plain": [
       "interactive(children=(Text(value='sym.exp(z)', description='w : '), Play(value=100, description='transformatio…"
      ]
     },
     "metadata": {},
     "output_type": "display_data"
    }
   ],
   "source": [
    "\n",
    "\n",
    "\n",
    "# since it is numerical computation, we need range to operate in, given by limit_range\n",
    "limit_range = widgets.FloatSlider(min = 0.1 , max = 10 , value = np.pi , description = \"Limit Range\",visibility = 'hidden')\n",
    "\n",
    "# change ticks slider to add or remove lines in the range\n",
    "ticks = widgets.IntSlider(min = 2 , max = 40 , value = 20 , description = \"Ticks\")\n",
    "\n",
    "# the input function w to draw conformal map\n",
    "function = widgets.Text( value = 'sym.exp(z)' , description='w : ')\n",
    "\n",
    "# play button widget to animate\n",
    "play = widgets.Play(min = 0 , max = 100 , value = 100, step=5)\n",
    "\n",
    "    \n",
    "# call all the variables in ipywidgets\n",
    "interactive_plot = widgets.interactive(update_rectangle,\n",
    "                                       function = function, \n",
    "                                       transformation = play,\n",
    "                                       left = 0.6,\n",
    "                                       right = 1.3,\n",
    "                                       bottom = -np.pi,\n",
    "                                       top = np.pi,\n",
    "                                       ticks = ticks,\n",
    "                                      anim_scaler=100)\n",
    "\n",
    "# display the output\n",
    "display(interactive_plot)"
   ]
  },
  {
   "cell_type": "code",
   "execution_count": 6,
   "metadata": {},
   "outputs": [
    {
     "data": {
      "application/vnd.jupyter.widget-view+json": {
       "model_id": "5f17e704c5b947b1a3c23445d8b9b2ec",
       "version_major": 2,
       "version_minor": 0
      },
      "text/plain": [
       "interactive(children=(Text(value='z**2', description='w : '), FloatSlider(value=1.0, description='Mapping', ma…"
      ]
     },
     "metadata": {},
     "output_type": "display_data"
    }
   ],
   "source": [
    "function = widgets.Text( value = 'z**2' , description='w : ')\n",
    "radius = widgets.FloatSlider(min = 0 , max = 10.0 , value = 1.08 , description = \"radius\")\n",
    "# play button widget to animate\n",
    "play = widgets.Play(min = 0 , max = 100 , value = 100, step=5)\n",
    "transformation = widgets.FloatSlider(min = 0 , max = 1 , value = 1, description =\"Mapping\")\n",
    "x0 = widgets.FloatSlider(min = -3 , max = 3 , value = -0.08, description =\"x0\")\n",
    "y0 = widgets.FloatSlider(min = -3 , max = 3 , value = 0.08, description =\"y0\")\n",
    "\n",
    "interactive_plot = widgets.interactive(update_circle,\n",
    "                                       function = function, \n",
    "                                       transformation = transformation,\n",
    "                                       radius=radius,\n",
    "                                       x0 = 0,\n",
    "                                       y0 = 0,\n",
    "                                       anim_scaler=1)\n",
    "\n",
    "display(interactive_plot)                                       "
   ]
  },
  {
   "cell_type": "code",
   "execution_count": 7,
   "metadata": {},
   "outputs": [
    {
     "data": {
      "application/vnd.jupyter.widget-view+json": {
       "model_id": "1df760e599cd4608b465706edaa884ad",
       "version_major": 2,
       "version_minor": 0
      },
      "text/plain": [
       "interactive(children=(Text(value='(z+1)/(i-z)', description='w : '), FloatSlider(value=1.0, description='Mappi…"
      ]
     },
     "metadata": {},
     "output_type": "display_data"
    }
   ],
   "source": [
    "function = widgets.Text( value = '(z+1)/(i-z)' , description='w : ')\n",
    "innerRadius = widgets.FloatSlider(min = 0 , max = 5 , value = 3 , description = \"radius\")\n",
    "outerRadius = widgets.FloatSlider(min = 6 , max = 10.0 , value = 7 , description = \"radius\")\n",
    "# play button widget to animate\n",
    "play = widgets.Play(min = 0 , max = 100 , value = 100, step=2)\n",
    "transformation = widgets.FloatSlider(min = 0 , max = 1 , value = 1, description =\"Mapping\")\n",
    "\n",
    "x0 = widgets.FloatSlider(min = -3 , max = 3 , value = -0.08, description =\"x0\")\n",
    "y0 = widgets.FloatSlider(min = -3 , max = 3 , value = 0.08, description =\"y0\")\n",
    "\n",
    "interactive_plot = widgets.interactive(update_concentricAnnulus,\n",
    "                                       function = function, \n",
    "                                       transformation = transformation,\n",
    "                                       innerRadius=innerRadius,\n",
    "                                       outerRadius=outerRadius,\n",
    "                                       x0 = 0,\n",
    "                                       y0 = 0,\n",
    "                                      anim_scaler=1)\n",
    "\n",
    "display(interactive_plot)          "
   ]
  },
  {
   "cell_type": "code",
   "execution_count": 8,
   "metadata": {},
   "outputs": [
    {
     "data": {
      "application/vnd.jupyter.widget-view+json": {
       "model_id": "ca306e94bc674ebbab1ecefa1604ff93",
       "version_major": 2,
       "version_minor": 0
      },
      "text/plain": [
       "interactive(children=(Text(value='(7.6*I*(x + I*y) - 15.3215831575369*I)/(-2.01599778388644*x - 2.015997783886…"
      ]
     },
     "metadata": {},
     "output_type": "display_data"
    }
   ],
   "source": [
    "R1 = 4 # inner radius of target eccentric annulus\n",
    "R2 = 7.6 # outer radius of target eccentric annulus\n",
    "ep = 0.7 # relative eccentricity of target eccentric annulus\n",
    "\n",
    "trans = ConcentricAnnulusToEccentricAnnulus(R1, R2, ep)\n",
    "\n",
    "\n",
    "\n",
    "function = widgets.Text( value = '{}'.format(trans.mapping(z)) , description='w : ')\n",
    "innerRadius = widgets.FloatSlider(min = 0 , max = 5 , value = trans.innerRadius , description = \"radius\")\n",
    "outerRadius = widgets.FloatSlider(min = 0 , max = 10.0 , value = trans.outerRadius , description = \"radius\")\n",
    "# play button widget to animate\n",
    "play = widgets.Play(min = 0 , max = 100 , value = 100, step=2)\n",
    "transformation = widgets.FloatSlider(min = 0 , max = 1 , value = 1, description =\"Mapping\")\n",
    "\n",
    "x0 = widgets.FloatSlider(min = -3 , max = 3 , value = -0.08, description =\"x0\")\n",
    "y0 = widgets.FloatSlider(min = -3 , max = 3 , value = 0.08, description =\"y0\")\n",
    "\n",
    "interactive_plot = widgets.interactive(update_concentricAnnulus,\n",
    "                                       function = function, \n",
    "                                       transformation = transformation,\n",
    "                                       innerRadius=innerRadius,\n",
    "                                       outerRadius=outerRadius,\n",
    "                                       x0 = 0,\n",
    "                                       y0 = 0,\n",
    "                                      anim_scaler=1)\n",
    "\n",
    "display(interactive_plot)          "
   ]
  },
  {
   "cell_type": "code",
   "execution_count": 9,
   "metadata": {},
   "outputs": [
    {
     "data": {
      "application/vnd.jupyter.widget-view+json": {
       "model_id": "52e1b258bf224d88a2196a255753e2e6",
       "version_major": 2,
       "version_minor": 0
      },
      "text/plain": [
       "interactive(children=(Text(value='z+1/z', description='w : '), FloatSlider(value=1.0, description='Mapping', m…"
      ]
     },
     "metadata": {},
     "output_type": "display_data"
    }
   ],
   "source": [
    "function = widgets.Text( value = 'z+1/z' , description='w : ')\n",
    "radius = widgets.FloatSlider(min = 0 , max = 10.0 , value = 1.08 , description = \"radius\")\n",
    "# play button widget to animate\n",
    "play = widgets.Play(min = 0 , max = 100 , value = 100, step=5)\n",
    "transformation = widgets.FloatSlider(min = 0 , max = 1 , value = 1, description =\"Mapping\")\n",
    "x0 = widgets.FloatSlider(min = -3 , max = 3 , value = -0.08, description =\"x0\")\n",
    "y0 = widgets.FloatSlider(min = -3 , max = 3 , value = 0.08, description =\"y0\")\n",
    "\n",
    "interactive_plot = widgets.interactive(update_single_circle,\n",
    "                                       function = function, \n",
    "                                       transformation = transformation,\n",
    "                                       radius=radius,\n",
    "                                       x0 = x0,\n",
    "                                       y0 = y0,\n",
    "                                      anim_scaler=1)\n",
    "\n",
    "display(interactive_plot)     "
   ]
  },
  {
   "cell_type": "markdown",
   "metadata": {},
   "source": [
    "# Confromality check\n",
    "\n",
    "\n",
    "Have a look at the corresponding figures, is the opinion of ```confCheck``` correct? in your opinon?"
   ]
  },
  {
   "cell_type": "code",
   "execution_count": 19,
   "metadata": {},
   "outputs": [
    {
     "name": "stdout",
     "output_type": "stream",
     "text": [
      "The function is conformal, angles are preserved :)\n"
     ]
    }
   ],
   "source": [
    "confCheck('z+1/z')"
   ]
  },
  {
   "cell_type": "code",
   "execution_count": 20,
   "metadata": {},
   "outputs": [
    {
     "name": "stdout",
     "output_type": "stream",
     "text": [
      "The function is not conformal, angle are not preseverved ...\n"
     ]
    }
   ],
   "source": [
    "confCheck('2*x*y + sym.I*(y *sym.sin(x) - x*sym.sin(y) )')"
   ]
  },
  {
   "cell_type": "code",
   "execution_count": 21,
   "metadata": {},
   "outputs": [
    {
     "name": "stdout",
     "output_type": "stream",
     "text": [
      "The function is conformal, angles are preserved :)\n"
     ]
    }
   ],
   "source": [
    "confCheck('(z+1)/(i-z)')"
   ]
  },
  {
   "cell_type": "code",
   "execution_count": null,
   "metadata": {},
   "outputs": [],
   "source": []
  }
 ],
 "metadata": {
  "kernelspec": {
   "display_name": "Python 3",
   "language": "python",
   "name": "python3"
  },
  "language_info": {
   "codemirror_mode": {
    "name": "ipython",
    "version": 3
   },
   "file_extension": ".py",
   "mimetype": "text/x-python",
   "name": "python",
   "nbconvert_exporter": "python",
   "pygments_lexer": "ipython3",
   "version": "3.8.3"
  }
 },
 "nbformat": 4,
 "nbformat_minor": 4
}
