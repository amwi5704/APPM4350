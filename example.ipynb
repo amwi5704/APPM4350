{
 "cells": [
  {
   "cell_type": "markdown",
   "metadata": {},
   "source": [
    "# conformalMaps\n",
    "### An interactive package for intercative use of conformal mappings\n",
    "\n",
    "* Function **w = f(z) should be entered in standard Pythonic form**, (ex:z**2 for $z^2$)\n",
    "\n",
    "* Functions entered should be availabe in SymPy lib and must be entered in same form because internally it uses sympy for symbolic conversion.\n",
    "\n",
    "* The entered function w can be a function of z or of the form x + i y\n",
    "'x' and 'y' are real and imaginary variables respectively.\n",
    "\n",
    "* Typical usage\n",
    "```\n",
    "     z**2\n",
    "     x**2 + I*y**2\n",
    "     tan(z)\n",
    "```\n",
    "* **Note use 'I' for imaginary number $\\rm{i}$ iota**\n",
    "\n",
    "* Use transformation slider to see the transformation\n",
    "* Limit range limits the grid to $\\pm$ slider value\n",
    "* Ticks increases number of gridlines"
   ]
  },
  {
   "cell_type": "code",
   "execution_count": 1,
   "metadata": {},
   "outputs": [
    {
     "data": {
      "text/html": [
       "        <script type=\"text/javascript\">\n",
       "        window.PlotlyConfig = {MathJaxConfig: 'local'};\n",
       "        if (window.MathJax) {MathJax.Hub.Config({SVG: {font: \"STIX-Web\"}});}\n",
       "        if (typeof require !== 'undefined') {\n",
       "        require.undef(\"plotly\");\n",
       "        requirejs.config({\n",
       "            paths: {\n",
       "                'plotly': ['https://cdn.plot.ly/plotly-2.3.1.min']\n",
       "            }\n",
       "        });\n",
       "        require(['plotly'], function(Plotly) {\n",
       "            window._Plotly = Plotly;\n",
       "        });\n",
       "        }\n",
       "        </script>\n",
       "        "
      ]
     },
     "metadata": {},
     "output_type": "display_data"
    }
   ],
   "source": [
    "# All the required modules\n",
    "\n",
    "\n",
    "import numpy as np\n",
    "import sympy as sym\n",
    "from conformalMaps.elementaryGeometry import update_rectangle\n",
    "from conformalMaps.elementaryGeometry import update_square\n",
    "from conformalMaps.elementaryGeometry import update_circle, update_single_circle, update_concentricAnnulus\n",
    "from conformalMaps.mappings import RectangleToEccentricAnnulus, RectangleToEllipticAnnulus\n",
    "import ipywidgets as widgets\n",
    "from ipywidgets import VBox,HBox,Layout,AppLayout\n",
    "from plotly.offline import init_notebook_mode, iplot\n",
    "init_notebook_mode(connected=True)\n",
    "\n",
    "x, y = sym.symbols('x y', real = True)\n",
    "\n",
    "z = x + sym.I*y\n"
   ]
  },
  {
   "cell_type": "code",
   "execution_count": 2,
   "metadata": {},
   "outputs": [
    {
     "data": {
      "application/vnd.jupyter.widget-view+json": {
       "model_id": "7bdca422ed0f471db49f28d8178b4b9a",
       "version_major": 2,
       "version_minor": 0
      },
      "text/plain": [
       "interactive(children=(Text(value='5.77586887182265*tan(x/2 + I*y/2) - 9.54571428571429*I', description='w : ')…"
      ]
     },
     "metadata": {},
     "output_type": "display_data"
    }
   ],
   "source": [
    "R1 = 4 # inner radius of target eccentric annulus\n",
    "R2 = 7.6 # outer radius of target eccentric annulus\n",
    "ep = 0.7 # relative eccentricity of target eccentric annulus\n",
    "\n",
    "trans = RectangleToEccentricAnnulus(R1, R2, ep)\n",
    "\n",
    "\n",
    "\n",
    "# since it is numerical computation, we need range to operate in, given by limit_range\n",
    "limit_range = widgets.FloatSlider(min = 0.1 , max = 10 , value = np.pi , description = \"Limit Range\",visibility = 'hidden')\n",
    "\n",
    "# change ticks slider to add or remove lines in the range\n",
    "ticks = widgets.IntSlider(min = 2 , max = 40 , value = 11 , description = \"Ticks\")\n",
    "\n",
    "# the input function w to draw conformal map\n",
    "function = widgets.Text( value ='{0}'.format(trans.mapping(z)) , description='w : ')\n",
    "\n",
    "# play button widget to animate\n",
    "play = widgets.Play(min = 0 , max = 100 , value = 100, step=5)\n",
    "\n",
    "# call all the variables in ipywidgets\n",
    "interactive_plot = widgets.interactive(update_rectangle,\n",
    "                                       function = function, \n",
    "                                       transformation = play,\n",
    "                                       left =  trans.left,\n",
    "                                       right = trans.right,\n",
    "                                       bottom = trans.bottom,\n",
    "                                       top = trans.top,\n",
    "                                       ticks = ticks,\n",
    "                                       vertFreq = 7,\n",
    "                                      anim_scaler=100)\n",
    "\n",
    "# display the output\n",
    "display(interactive_plot)"
   ]
  },
  {
   "cell_type": "code",
   "execution_count": 3,
   "metadata": {},
   "outputs": [
    {
     "data": {
      "application/vnd.jupyter.widget-view+json": {
       "model_id": "5aa48fe64c344a6d937de28fe84bb06a",
       "version_major": 2,
       "version_minor": 0
      },
      "text/plain": [
       "interactive(children=(Text(value='sin(z)', description='w : '), Play(value=100, description='transformation', …"
      ]
     },
     "metadata": {},
     "output_type": "display_data"
    }
   ],
   "source": [
    "\n",
    "\n",
    "\n",
    "\n",
    "# change ticks slider to add or remove lines in the range\n",
    "ticks = widgets.IntSlider(min = 2 , max = 40 , value = 11 , description = \"Ticks\")\n",
    "\n",
    "# the input function w to draw conformal map\n",
    "#function = widgets.Text( value = 'sqrt(im(z)**2+re(z)**2)*exp(I*atan2(im(z), re(z)))' , description='w : ')\n",
    "function = widgets.Text( value = 'sin(z)' , description='w : ')\n",
    "\n",
    "# play button widget to animate\n",
    "play = widgets.Play(min = 0 , max = 100 , value = 100, step=5)\n",
    "\n",
    "\n",
    "    \n",
    "# call all the variables in ipywidgets\n",
    "interactive_plot = widgets.interactive(update_rectangle,\n",
    "                                       function = function, \n",
    "                                       transformation = play,\n",
    "                                       left = -np.pi,\n",
    "                                       right = np.pi,\n",
    "                                       bottom = 0.3,\n",
    "                                       top = 0.7,\n",
    "                                       ticks = ticks,\n",
    "                                       vertFreq = 3,\n",
    "                                      anim_scaler=100)\n",
    "\n",
    "# display the output\n",
    "display(interactive_plot)"
   ]
  },
  {
   "cell_type": "code",
   "execution_count": 4,
   "metadata": {},
   "outputs": [
    {
     "data": {
      "application/vnd.jupyter.widget-view+json": {
       "model_id": "b512d9c3cfad4eb097aef449c9216590",
       "version_major": 2,
       "version_minor": 0
      },
      "text/plain": [
       "interactive(children=(Text(value='3.46987031457949*cosh(x + I*y)', description='w : '), Play(value=100, descri…"
      ]
     },
     "metadata": {},
     "output_type": "display_data"
    }
   ],
   "source": [
    "\n",
    "a = 5 # half axis of outer ellipse\n",
    "\n",
    "b = 3.6 # half axis of inner ellipse\n",
    "\n",
    "trans = RectangleToEllipticAnnulus(b, a)\n",
    "\n",
    "\n",
    "# change ticks slider to add or remove lines in the range\n",
    "ticks = widgets.IntSlider(min = 2 , max = 40 , value = 11 , description = \"Ticks\")\n",
    "\n",
    "vertFreq = widgets.IntSlider(min = 1 , max = 10 , value = 1 , description = \"vertFreq\")\n",
    "\n",
    "# the input function w to draw conformal map\n",
    "function = widgets.Text( value = '{0}'.format(trans.mapping(z)) , description='w : ')\n",
    "\n",
    "# play button widget to animate\n",
    "play = widgets.Play(min = 0 , max = 100 , value = 100, step=5)\n",
    "\n",
    "\n",
    "    \n",
    "# call all the variables in ipywidgets\n",
    "interactive_plot = widgets.interactive(update_rectangle,\n",
    "                                       function = function, \n",
    "                                       transformation = play,\n",
    "                                       left = trans.left,\n",
    "                                       right = trans.right,\n",
    "                                       bottom = trans.bottom,\n",
    "                                       top = trans.top,\n",
    "                                       ticks = ticks,\n",
    "                                       vertFreq = vertFreq,\n",
    "                                       anim_scaler=100)\n",
    "\n",
    "# display the output\n",
    "display(interactive_plot)"
   ]
  },
  {
   "cell_type": "code",
   "execution_count": 5,
   "metadata": {},
   "outputs": [
    {
     "data": {
      "application/vnd.jupyter.widget-view+json": {
       "model_id": "8987a07774c2443ca7b74d8cee60fb41",
       "version_major": 2,
       "version_minor": 0
      },
      "text/plain": [
       "interactive(children=(Text(value='sym.exp(z)', description='w : '), Play(value=100, description='transformatio…"
      ]
     },
     "metadata": {},
     "output_type": "display_data"
    }
   ],
   "source": [
    "\n",
    "\n",
    "\n",
    "# since it is numerical computation, we need range to operate in, given by limit_range\n",
    "limit_range = widgets.FloatSlider(min = 0.1 , max = 10 , value = np.pi , description = \"Limit Range\",visibility = 'hidden')\n",
    "\n",
    "# change ticks slider to add or remove lines in the range\n",
    "ticks = widgets.IntSlider(min = 2 , max = 40 , value = 20 , description = \"Ticks\")\n",
    "\n",
    "# the input function w to draw conformal map\n",
    "function = widgets.Text( value = 'sym.exp(z)' , description='w : ')\n",
    "\n",
    "# play button widget to animate\n",
    "play = widgets.Play(min = 0 , max = 100 , value = 100, step=5)\n",
    "\n",
    "    \n",
    "# call all the variables in ipywidgets\n",
    "interactive_plot = widgets.interactive(update_rectangle,\n",
    "                                       function = function, \n",
    "                                       transformation = play,\n",
    "                                       left = 0.6,\n",
    "                                       right = 1.3,\n",
    "                                       bottom = -np.pi,\n",
    "                                       top = np.pi,\n",
    "                                       ticks = ticks,\n",
    "                                      anim_scaler=100)\n",
    "\n",
    "# display the output\n",
    "display(interactive_plot)"
   ]
  },
  {
   "cell_type": "code",
   "execution_count": 6,
   "metadata": {},
   "outputs": [
    {
     "data": {
      "application/vnd.jupyter.widget-view+json": {
       "model_id": "0194540f1ff64d0096430a99d8abc060",
       "version_major": 2,
       "version_minor": 0
      },
      "text/plain": [
       "interactive(children=(Text(value='z**2', description='w : '), Play(value=100, description='transformation', st…"
      ]
     },
     "metadata": {},
     "output_type": "display_data"
    }
   ],
   "source": [
    "function = widgets.Text( value = 'z**2' , description='w : ')\n",
    "radius = widgets.FloatSlider(min = 0 , max = 10.0 , value = 1.08 , description = \"radius\")\n",
    "# play button widget to animate\n",
    "play = widgets.Play(min = 0 , max = 100 , value = 100, step=5)\n",
    "x0 = widgets.FloatSlider(min = -3 , max = 3 , value = -0.08, description =\"x0\")\n",
    "y0 = widgets.FloatSlider(min = -3 , max = 3 , value = 0.08, description =\"y0\")\n",
    "\n",
    "interactive_plot = widgets.interactive(update_circle,\n",
    "                                       function = function, \n",
    "                                       transformation = play,\n",
    "                                       radius=radius,\n",
    "                                       x0 = 0,\n",
    "                                       y0 = 0,\n",
    "                                      anim_scaler=100)\n",
    "\n",
    "display(interactive_plot)                                       "
   ]
  },
  {
   "cell_type": "code",
   "execution_count": 9,
   "metadata": {},
   "outputs": [
    {
     "data": {
      "application/vnd.jupyter.widget-view+json": {
       "model_id": "fa563750557c4807b24543ea6d754b69",
       "version_major": 2,
       "version_minor": 0
      },
      "text/plain": [
       "interactive(children=(Text(value='(z+1)/(i-z)', description='w : '), Play(value=100, description='transformati…"
      ]
     },
     "metadata": {},
     "output_type": "display_data"
    }
   ],
   "source": [
    "function = widgets.Text( value = '(z+1)/(i-z)' , description='w : ')\n",
    "innerRadius = widgets.FloatSlider(min = 0 , max = 5 , value = 3 , description = \"radius\")\n",
    "outerRadius = widgets.FloatSlider(min = 6 , max = 10.0 , value = 7 , description = \"radius\")\n",
    "# play button widget to animate\n",
    "play = widgets.Play(min = 0 , max = 100 , value = 100, step=2)\n",
    "x0 = widgets.FloatSlider(min = -3 , max = 3 , value = -0.08, description =\"x0\")\n",
    "y0 = widgets.FloatSlider(min = -3 , max = 3 , value = 0.08, description =\"y0\")\n",
    "\n",
    "interactive_plot = widgets.interactive(update_concentricAnnulus,\n",
    "                                       function = function, \n",
    "                                       transformation = play,\n",
    "                                       innerRadius=innerRadius,\n",
    "                                       outerRadius=outerRadius,\n",
    "                                       x0 = 0,\n",
    "                                       y0 = 0,\n",
    "                                      anim_scaler=100)\n",
    "\n",
    "display(interactive_plot)          "
   ]
  },
  {
   "cell_type": "code",
   "execution_count": 8,
   "metadata": {},
   "outputs": [
    {
     "data": {
      "application/vnd.jupyter.widget-view+json": {
       "model_id": "d6a2be326f6544bea6d98e7ddf4df607",
       "version_major": 2,
       "version_minor": 0
      },
      "text/plain": [
       "interactive(children=(Text(value='z+1/z', description='w : '), Play(value=100, description='transformation', s…"
      ]
     },
     "metadata": {},
     "output_type": "display_data"
    }
   ],
   "source": [
    "function = widgets.Text( value = 'z+1/z' , description='w : ')\n",
    "radius = widgets.FloatSlider(min = 0 , max = 10.0 , value = 1.08 , description = \"radius\")\n",
    "# play button widget to animate\n",
    "play = widgets.Play(min = 0 , max = 100 , value = 100, step=5)\n",
    "x0 = widgets.FloatSlider(min = -3 , max = 3 , value = -0.08, description =\"x0\")\n",
    "y0 = widgets.FloatSlider(min = -3 , max = 3 , value = 0.08, description =\"y0\")\n",
    "\n",
    "interactive_plot = widgets.interactive(update_single_circle,\n",
    "                                       function = function, \n",
    "                                       transformation = play,\n",
    "                                       radius=radius,\n",
    "                                       x0 = x0,\n",
    "                                       y0 = y0,\n",
    "                                      anim_scaler=100)\n",
    "\n",
    "display(interactive_plot)     "
   ]
  },
  {
   "cell_type": "code",
   "execution_count": null,
   "metadata": {},
   "outputs": [],
   "source": []
  }
 ],
 "metadata": {
  "kernelspec": {
   "display_name": "Python 3 (ipykernel)",
   "language": "python",
   "name": "python3"
  },
  "language_info": {
   "codemirror_mode": {
    "name": "ipython",
    "version": 3
   },
   "file_extension": ".py",
   "mimetype": "text/x-python",
   "name": "python",
   "nbconvert_exporter": "python",
   "pygments_lexer": "ipython3",
   "version": "3.9.6"
  }
 },
 "nbformat": 4,
 "nbformat_minor": 4
}
