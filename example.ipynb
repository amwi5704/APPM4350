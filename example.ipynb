{
 "cells": [
  {
   "cell_type": "markdown",
   "metadata": {},
   "source": [
    "# conformalMaps\n",
    "### An interactive package for intercative use of conformal mappings\n",
    "\n",
    "* Function **w = f(z) should be entered in standard Pythonic form**, (ex:z**2 for $z^2$)\n",
    "\n",
    "* Functions entered should be availabe in SymPy lib and must be entered in same form because internally it uses sympy for symbolic conversion.\n",
    "\n",
    "* The entered function w can be a function of z or of the form x + i y\n",
    "'x' and 'y' are real and imaginary variables respectively.\n",
    "\n",
    "* Typical usage\n",
    "```\n",
    "     z**2\n",
    "     x**2 + I*y**2\n",
    "     tan(z)\n",
    "```\n",
    "* **Note use 'I' for imaginary number $\\rm{i}$ iota**\n",
    "\n",
    "* Use transformation slider to see the transformation\n",
    "* Limit range limits the grid to $\\pm$ slider value\n",
    "* Ticks increases number of gridlines"
   ]
  },
  {
   "cell_type": "code",
   "execution_count": 21,
   "metadata": {},
   "outputs": [
    {
     "data": {
      "text/html": [
       "        <script type=\"text/javascript\">\n",
       "        window.PlotlyConfig = {MathJaxConfig: 'local'};\n",
       "        if (window.MathJax) {MathJax.Hub.Config({SVG: {font: \"STIX-Web\"}});}\n",
       "        if (typeof require !== 'undefined') {\n",
       "        require.undef(\"plotly\");\n",
       "        requirejs.config({\n",
       "            paths: {\n",
       "                'plotly': ['https://cdn.plot.ly/plotly-2.3.1.min']\n",
       "            }\n",
       "        });\n",
       "        require(['plotly'], function(Plotly) {\n",
       "            window._Plotly = Plotly;\n",
       "        });\n",
       "        }\n",
       "        </script>\n",
       "        "
      ]
     },
     "metadata": {},
     "output_type": "display_data"
    }
   ],
   "source": [
    "# All the required modules\n",
    "\n",
    "\n",
    "import numpy as np\n",
    "import sympy as sym\n",
    "from conformalMaps.elementaryGeometry import update_rectangle\n",
    "from conformalMaps.elementaryGeometry import update_square\n",
    "from conformalMaps.elementaryGeometry import update_circle, update_single_circle, update_concentricAnnulus\n",
    "from conformalMaps.mappings import RectangleToEccentricAnnulus, RectangleToEllipticAnnulus\n",
    "from conformalMaps.mappings import ConcentricAnnulusToEccentricAnnulus\n",
    "import ipywidgets as widgets\n",
    "from ipywidgets import VBox,HBox,Layout,AppLayout\n",
    "from plotly.offline import init_notebook_mode, iplot\n",
    "init_notebook_mode(connected=True)\n",
    "\n",
    "x, y = sym.symbols('x y', real = True)\n",
    "\n",
    "z = x + sym.I*y\n"
   ]
  },
  {
   "cell_type": "code",
   "execution_count": 22,
   "metadata": {},
   "outputs": [
    {
     "data": {
      "application/vnd.jupyter.widget-view+json": {
       "model_id": "46c824909cfd4c0a91053909cc6ca284",
       "version_major": 2,
       "version_minor": 0
      },
      "text/plain": [
       "interactive(children=(Text(value='5.77586887182265*tan(x/2 + I*y/2) - 9.54571428571429*I', description='w : ')…"
      ]
     },
     "metadata": {},
     "output_type": "display_data"
    }
   ],
   "source": [
    "R1 = 4 # inner radius of target eccentric annulus\n",
    "R2 = 7.6 # outer radius of target eccentric annulus\n",
    "ep = 0.7 # relative eccentricity of target eccentric annulus\n",
    "\n",
    "trans = RectangleToEccentricAnnulus(R1, R2, ep)\n",
    "\n",
    "\n",
    "\n",
    "# since it is numerical computation, we need range to operate in, given by limit_range\n",
    "limit_range = widgets.FloatSlider(min = 0.1 , max = 10 , value = np.pi , description = \"Limit Range\",visibility = 'hidden')\n",
    "\n",
    "# change ticks slider to add or remove lines in the range\n",
    "ticks = widgets.IntSlider(min = 2 , max = 40 , value = 11 , description = \"Ticks\")\n",
    "\n",
    "# the input function w to draw conformal map\n",
    "function = widgets.Text( value ='{0}'.format(trans.mapping(z)) , description='w : ')\n",
    "\n",
    "# move slider between 0 and 1  to show the transformation\n",
    "transformation = widgets.FloatSlider(min = 0 , max = 1 , value = 1, description =\"Mapping\")\n",
    "\n",
    "\n",
    "    \n",
    "# call all the variables in ipywidgets\n",
    "interactive_plot = widgets.interactive(update_rectangle,\n",
    "                                       function = function, \n",
    "                                       transformation = transformation,\n",
    "                                       left =  trans.left,\n",
    "                                       right = trans.right,\n",
    "                                       bottom = trans.bottom,\n",
    "                                       top = trans.top,\n",
    "                                       ticks = ticks,\n",
    "                                       vertFreq = 7)\n",
    "\n",
    "# display the output\n",
    "display(interactive_plot)"
   ]
  },
  {
   "cell_type": "code",
   "execution_count": 23,
   "metadata": {},
   "outputs": [
    {
     "data": {
      "application/vnd.jupyter.widget-view+json": {
       "model_id": "9af0a580088d4d47b90a8e91e2ae38dc",
       "version_major": 2,
       "version_minor": 0
      },
      "text/plain": [
       "interactive(children=(Text(value='sin(z)', description='w : '), FloatSlider(value=1.0, description='mapping', …"
      ]
     },
     "metadata": {},
     "output_type": "display_data"
    }
   ],
   "source": [
    "\n",
    "\n",
    "\n",
    "\n",
    "# change ticks slider to add or remove lines in the range\n",
    "ticks = widgets.IntSlider(min = 2 , max = 40 , value = 11 , description = \"Ticks\")\n",
    "\n",
    "# the input function w to draw conformal map\n",
    "#function = widgets.Text( value = 'sqrt(im(z)**2+re(z)**2)*exp(I*atan2(im(z), re(z)))' , description='w : ')\n",
    "function = widgets.Text( value = 'sin(z)' , description='w : ')\n",
    "\n",
    "# move slider between 0 and 1  to show the transformation\n",
    "transformation = widgets.FloatSlider(min = 0 , max = 1 , value = 1, description =\"mapping\")\n",
    "\n",
    "\n",
    "    \n",
    "# call all the variables in ipywidgets\n",
    "interactive_plot = widgets.interactive(update_rectangle,\n",
    "                                       function = function, \n",
    "                                       transformation = transformation,\n",
    "                                       left = -np.pi,\n",
    "                                       right = np.pi,\n",
    "                                       bottom = 0.3,\n",
    "                                       top = 0.7,\n",
    "                                       ticks = ticks,\n",
    "                                       vertFreq = 3)\n",
    "\n",
    "# display the output\n",
    "display(interactive_plot)"
   ]
  },
  {
   "cell_type": "code",
   "execution_count": 24,
   "metadata": {},
   "outputs": [
    {
     "data": {
      "application/vnd.jupyter.widget-view+json": {
       "model_id": "7f553f76188741f09e8797897ce80c57",
       "version_major": 2,
       "version_minor": 0
      },
      "text/plain": [
       "interactive(children=(Text(value='3.46987031457949*cosh(x + I*y)', description='w : '), FloatSlider(value=1.0,…"
      ]
     },
     "metadata": {},
     "output_type": "display_data"
    }
   ],
   "source": [
    "\n",
    "a = 5 # half axis of outer ellipse\n",
    "\n",
    "b = 3.6 # half axis of inner ellipse\n",
    "\n",
    "trans = RectangleToEllipticAnnulus(b, a)\n",
    "\n",
    "\n",
    "# change ticks slider to add or remove lines in the range\n",
    "ticks = widgets.IntSlider(min = 2 , max = 40 , value = 11 , description = \"Ticks\")\n",
    "\n",
    "vertFreq = widgets.IntSlider(min = 1 , max = 10 , value = 1 , description = \"vertFreq\")\n",
    "\n",
    "# the input function w to draw conformal map\n",
    "function = widgets.Text( value = '{0}'.format(trans.mapping(z)) , description='w : ')\n",
    "\n",
    "# move slider between 0 and 1  to show the transformation\n",
    "transformation = widgets.FloatSlider(min = 0 , max = 1 , value = 1, description =\"mapping\")\n",
    "\n",
    "\n",
    "    \n",
    "# call all the variables in ipywidgets\n",
    "interactive_plot = widgets.interactive(update_rectangle,\n",
    "                                       function = function, \n",
    "                                       transformation = transformation,\n",
    "                                       left = trans.left,\n",
    "                                       right = trans.right,\n",
    "                                       bottom = trans.bottom,\n",
    "                                       top = trans.top,\n",
    "                                       ticks = ticks,\n",
    "                                       vertFreq = vertFreq)\n",
    "\n",
    "# display the output\n",
    "display(interactive_plot)"
   ]
  },
  {
   "cell_type": "code",
   "execution_count": 25,
   "metadata": {},
   "outputs": [
    {
     "data": {
      "application/vnd.jupyter.widget-view+json": {
       "model_id": "55aaa10fcf6b4fefb62e77ae3d5b9e22",
       "version_major": 2,
       "version_minor": 0
      },
      "text/plain": [
       "interactive(children=(Text(value='sym.exp(z)', description='w : '), FloatSlider(value=1.0, description='mappin…"
      ]
     },
     "metadata": {},
     "output_type": "display_data"
    }
   ],
   "source": [
    "\n",
    "\n",
    "\n",
    "# since it is numerical computation, we need range to operate in, given by limit_range\n",
    "limit_range = widgets.FloatSlider(min = 0.1 , max = 10 , value = np.pi , description = \"Limit Range\",visibility = 'hidden')\n",
    "\n",
    "# change ticks slider to add or remove lines in the range\n",
    "ticks = widgets.IntSlider(min = 2 , max = 40 , value = 20 , description = \"Ticks\")\n",
    "\n",
    "# the input function w to draw conformal map\n",
    "function = widgets.Text( value = 'sym.exp(z)' , description='w : ')\n",
    "\n",
    "# move slider between 0 and 1  to show the transformation\n",
    "transformation = widgets.FloatSlider(min = 0 , max = 1 , value = 1, description =\"mapping\")\n",
    "\n",
    "\n",
    "    \n",
    "# call all the variables in ipywidgets\n",
    "interactive_plot = widgets.interactive(update_rectangle,\n",
    "                                       function = function, \n",
    "                                       transformation = transformation,\n",
    "                                       left = 0.6,\n",
    "                                       right = 1.3,\n",
    "                                       bottom = -np.pi,\n",
    "                                       top = np.pi,\n",
    "                                       ticks = ticks)\n",
    "\n",
    "# display the output\n",
    "display(interactive_plot)"
   ]
  },
  {
   "cell_type": "code",
   "execution_count": 26,
   "metadata": {},
   "outputs": [
    {
     "data": {
      "application/vnd.jupyter.widget-view+json": {
       "model_id": "e64a648c8a8f47598ddfddf523f58850",
       "version_major": 2,
       "version_minor": 0
      },
      "text/plain": [
       "interactive(children=(Text(value='z**2', description='w : '), FloatSlider(value=1.0, description='mapping', ma…"
      ]
     },
     "metadata": {},
     "output_type": "display_data"
    }
   ],
   "source": [
    "function = widgets.Text( value = 'z**2' , description='w : ')\n",
    "radius = widgets.FloatSlider(min = 0 , max = 10.0 , value = 1.08 , description = \"radius\")\n",
    "transformation = widgets.FloatSlider(min = 0 , max = 1 , value = 1, description =\"mapping\")\n",
    "x0 = widgets.FloatSlider(min = -3 , max = 3 , value = -0.08, description =\"x0\")\n",
    "y0 = widgets.FloatSlider(min = -3 , max = 3 , value = 0.08, description =\"y0\")\n",
    "\n",
    "interactive_plot = widgets.interactive(update_circle,\n",
    "                                       function = function, \n",
    "                                       transformation = transformation,\n",
    "                                       radius=radius,\n",
    "                                       x0 = 0,\n",
    "                                       y0 = 0)\n",
    "\n",
    "display(interactive_plot)                                       "
   ]
  },
  {
   "cell_type": "code",
   "execution_count": 27,
   "metadata": {},
   "outputs": [
    {
     "data": {
      "application/vnd.jupyter.widget-view+json": {
       "model_id": "cc8b1c5f5ad0407e8690ecf3944d1eb2",
       "version_major": 2,
       "version_minor": 0
      },
      "text/plain": [
       "interactive(children=(Text(value='(z+1)/(i-z)', description='w : '), FloatSlider(value=1.0, description='mappi…"
      ]
     },
     "metadata": {},
     "output_type": "display_data"
    }
   ],
   "source": [
    "function = widgets.Text( value = '(z+1)/(i-z)' , description='w : ')\n",
    "innerRadius = widgets.FloatSlider(min = 0 , max = 5 , value = 3 , description = \"radius\")\n",
    "outerRadius = widgets.FloatSlider(min = 6 , max = 10.0 , value = 7 , description = \"radius\")\n",
    "transformation = widgets.FloatSlider(min = 0 , max = 1 , value = 1, description =\"mapping\")\n",
    "x0 = widgets.FloatSlider(min = -3 , max = 3 , value = -0.08, description =\"x0\")\n",
    "y0 = widgets.FloatSlider(min = -3 , max = 3 , value = 0.08, description =\"y0\")\n",
    "\n",
    "interactive_plot = widgets.interactive(update_concentricAnnulus,\n",
    "                                       function = function, \n",
    "                                       transformation = transformation,\n",
    "                                       innerRadius=innerRadius,\n",
    "                                       outerRadius=outerRadius,\n",
    "                                       x0 = 0,\n",
    "                                       y0 = 0)\n",
    "\n",
    "display(interactive_plot)          "
   ]
  },
  {
   "cell_type": "code",
   "execution_count": 28,
   "metadata": {},
   "outputs": [
    {
     "data": {
      "application/vnd.jupyter.widget-view+json": {
       "model_id": "343199cf279f41a88fd0b03ceafef503",
       "version_major": 2,
       "version_minor": 0
      },
      "text/plain": [
       "interactive(children=(Text(value='(7.6*I*(x + I*y) - 15.3215831575369*I)/(-2.01599778388644*x - 2.015997783886…"
      ]
     },
     "metadata": {},
     "output_type": "display_data"
    }
   ],
   "source": [
    "R1 = 4 # inner radius of target eccentric annulus\n",
    "R2 = 7.6 # outer radius of target eccentric annulus\n",
    "ep = 0.7 # relative eccentricity of target eccentric annulus\n",
    "\n",
    "trans = ConcentricAnnulusToEccentricAnnulus(R1, R2, ep)\n",
    "\n",
    "function = widgets.Text( value = '{0}'.format(trans.mapping(z)) , description='w : ')\n",
    "innerRadius = widgets.FloatSlider(min = 0 , max = 5 , value = trans.innerRadius , description = \"radius\")\n",
    "outerRadius = widgets.FloatSlider(min = 0 , max = 10.0 , value = trans.outerRadius , description = \"radius\")\n",
    "transformation = widgets.FloatSlider(min = 0 , max = 1 , value = 1, description =\"mapping\")\n",
    "x0 = widgets.FloatSlider(min = -3 , max = 3 , value = 0, description =\"x0\")\n",
    "y0 = widgets.FloatSlider(min = -3 , max = 3 , value = 0, description =\"y0\")\n",
    "\n",
    "interactive_plot = widgets.interactive(update_concentricAnnulus,\n",
    "                                       function = function, \n",
    "                                       transformation = transformation,\n",
    "                                       innerRadius=innerRadius,\n",
    "                                       outerRadius=outerRadius,\n",
    "                                       x0 = x0,\n",
    "                                       y0 = y0)\n",
    "\n",
    "display(interactive_plot)   "
   ]
  },
  {
   "cell_type": "code",
   "execution_count": 29,
   "metadata": {},
   "outputs": [
    {
     "data": {
      "application/vnd.jupyter.widget-view+json": {
       "model_id": "e59a3004759a4f99939a47421fbd62d4",
       "version_major": 2,
       "version_minor": 0
      },
      "text/plain": [
       "interactive(children=(Text(value='z+1/z', description='w : '), FloatSlider(value=1.0, description='mapping', m…"
      ]
     },
     "metadata": {},
     "output_type": "display_data"
    }
   ],
   "source": [
    "function = widgets.Text( value = 'z+1/z' , description='w : ')\n",
    "radius = widgets.FloatSlider(min = 0 , max = 10.0 , value = 1.08 , description = \"radius\")\n",
    "transformation = widgets.FloatSlider(min = 0 , max = 1 , value = 1, description =\"mapping\")\n",
    "x0 = widgets.FloatSlider(min = -3 , max = 3 , value = -0.08, description =\"x0\")\n",
    "y0 = widgets.FloatSlider(min = -3 , max = 3 , value = 0.08, description =\"y0\")\n",
    "\n",
    "interactive_plot = widgets.interactive(update_single_circle,\n",
    "                                       function = function, \n",
    "                                       transformation = transformation,\n",
    "                                       radius=radius,\n",
    "                                       x0 = x0,\n",
    "                                       y0 = y0)\n",
    "\n",
    "display(interactive_plot)     "
   ]
  },
  {
   "cell_type": "code",
   "execution_count": null,
   "metadata": {},
   "outputs": [],
   "source": []
  }
 ],
 "metadata": {
  "kernelspec": {
   "display_name": "Python 3",
   "language": "python",
   "name": "python3"
  },
  "language_info": {
   "codemirror_mode": {
    "name": "ipython",
    "version": 3
   },
   "file_extension": ".py",
   "mimetype": "text/x-python",
   "name": "python",
   "nbconvert_exporter": "python",
   "pygments_lexer": "ipython3",
   "version": "3.8.8"
  }
 },
 "nbformat": 4,
 "nbformat_minor": 4
}
