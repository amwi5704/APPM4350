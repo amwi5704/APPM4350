{
 "cells": [
  {
   "cell_type": "markdown",
   "id": "e7fa4b06-a505-4ea5-92cb-3935add7dd6f",
   "metadata": {},
   "source": [
    "# **conformalMaps**\n",
    "### An interactive package for intercative use of conformal mappings\n",
    "\n",
    "* Function **w = f(z) should be entered in standard Pythonic form**, (ex:z**2 for $z^2$)\n",
    "\n",
    "* Functions entered should be availabe in SymPy lib and must be entered in same form because internally it uses sympy for symbolic conversion.\n",
    "\n",
    "* The entered function w can be a function of z or of the form x + i y\n",
    "'x' and 'y' are real and imaginary variables respectively.\n",
    "\n",
    "* Typical usage\n",
    "```\n",
    "     z**2\n",
    "     x**2 + I*y**2\n",
    "     tan(z)\n",
    "```\n",
    "* **Note use 'I' for imaginary number $\\rm{i}$ iota**\n",
    "\n",
    "* Use transformation slider to see the transformation\n",
    "* Limit range limits the grid to $\\pm$ slider value\n",
    "* Ticks increases number of gridlines"
   ]
  },
  {
   "cell_type": "markdown",
   "id": "726eaa16-3ad8-464d-ae86-cebc32300562",
   "metadata": {},
   "source": [
    "# Supported Grids to transform\n",
    "\n",
    "* **Rectangle**\n",
    "\n",
    "* **Square**\n",
    "\n",
    "* **Circle**\n",
    "\n",
    "* **Single circle**\n",
    "\n",
    "# Advanced builtin functions for w\n",
    "\n",
    "* **Rectangle to EccentricAnnulus**\n",
    "\n",
    "* **Rectangle to EllipticAnnulus**\n",
    "\n",
    "* **Concentric Annulus To Eccentric Annulus**"
   ]
  },
  {
   "cell_type": "markdown",
   "id": "ca142883-0dd8-45c1-9073-c0ffe9b14bf6",
   "metadata": {},
   "source": [
    "# **Run the below Cell First**"
   ]
  },
  {
   "cell_type": "code",
   "execution_count": 1,
   "id": "0dfc8404-48b1-409d-ac6c-8345c147f0a1",
   "metadata": {},
   "outputs": [],
   "source": [
    "from conformalMaps.grids import *\n",
    "from conformalMaps.mappings import RectangleToEccentricAnnulus, RectangleToEllipticAnnulus, ConcentricAnnulusToEccentricAnnulus\n",
    "from ipywidgets import widgets\n",
    "from ipywidgets import HBox,VBox"
   ]
  },
  {
   "cell_type": "markdown",
   "id": "afb01d3f-3a17-4744-86a4-7ae3a21721b5",
   "metadata": {},
   "source": [
    "# Using Rectangle grid"
   ]
  },
  {
   "cell_type": "code",
   "execution_count": 2,
   "id": "bf4f7186-9004-4a08-9f81-ee870f8fadc7",
   "metadata": {},
   "outputs": [
    {
     "data": {
      "application/vnd.jupyter.widget-view+json": {
       "model_id": "31b0632f83124ef1b86861df4f836254",
       "version_major": 2,
       "version_minor": 0
      },
      "text/plain": [
       "VBox(children=(HBox(children=(VBox(children=(FloatSlider(value=-1.0, description='left', max=10.0, min=-10.0),…"
      ]
     },
     "metadata": {},
     "output_type": "display_data"
    }
   ],
   "source": [
    "rect = Rectangle()\n",
    "\n",
    "left = widgets.FloatSlider(min=-10, max=10, value=-1, description='left')\n",
    "bottom = widgets.FloatSlider(min=-10, max=10, value=-1, description='bottom')\n",
    "\n",
    "top = widgets.FloatSlider(min=-10, max=10, value=1, description='top')\n",
    "right = widgets.FloatSlider(min=-10, max=10, value=1, description='right')\n",
    "\n",
    "fine = widgets.IntSlider(min = 20, max = 100, value=50, description='Fine')\n",
    "\n",
    "Hticks = widgets.IntSlider(min = 2, max = 50, value=10, description='Hticks')\n",
    "Vticks = widgets.IntSlider(min = 2, max = 50, value=10, description='Vticks')\n",
    "\n",
    "\n",
    "function = widgets.Text( value = 'z**2' , description='w : ')\n",
    "\n",
    "frame = widgets.FloatSlider(min=0, max=100, value=100, step = 5, description='anim')\n",
    "\n",
    "play = widgets.Play(min= 0, max = 100, step = 5)\n",
    "widgets.jslink((play, 'value'), (frame, 'value'))\n",
    "\n",
    "interactive_plot = widgets.interactive(rect.updateFunc,\n",
    "                                       w = function,\n",
    "                                       left = left,\n",
    "                                       right = right,\n",
    "                                       top= top,\n",
    "                                       bottom = bottom,\n",
    "                                       fine = fine,\n",
    "                                      Hticks = Hticks,\n",
    "                                      Vticks = Vticks,\n",
    "                                      frame = frame\n",
    "                                      )\n",
    "\n",
    "\n",
    "w1 = VBox([ left, right])\n",
    "w2 = VBox([top,bottom])\n",
    "w3 = VBox([Hticks,Vticks])\n",
    "w4 = HBox([w1,w2,w3])\n",
    "\n",
    "w5 = HBox([function, fine])\n",
    "\n",
    "anim_slider = HBox([play, frame])\n",
    "\n",
    "w = VBox([w4, w5, anim_slider, rect.show()])\n",
    "\n",
    "w"
   ]
  },
  {
   "cell_type": "code",
   "execution_count": 3,
   "id": "c7bb7d2c-5cda-4f27-b2c5-93e22119e9c4",
   "metadata": {},
   "outputs": [
    {
     "name": "stdout",
     "output_type": "stream",
     "text": [
      "The function is conformal, angles are preserved :)\n"
     ]
    }
   ],
   "source": [
    "rect.check_analytic()"
   ]
  },
  {
   "cell_type": "markdown",
   "id": "baf12d64-8023-46da-b682-f642b8698146",
   "metadata": {},
   "source": [
    "# Using Square Grid"
   ]
  },
  {
   "cell_type": "code",
   "execution_count": 4,
   "id": "2239ce05-ad76-4e9c-86b6-dd1f3d9022e8",
   "metadata": {},
   "outputs": [
    {
     "data": {
      "application/vnd.jupyter.widget-view+json": {
       "model_id": "132b745256e740179bbaafff75cc6a84",
       "version_major": 2,
       "version_minor": 0
      },
      "text/plain": [
       "VBox(children=(HBox(children=(FloatSlider(value=1.0, description='side', max=10.0, min=0.01), IntSlider(value=…"
      ]
     },
     "metadata": {},
     "output_type": "display_data"
    }
   ],
   "source": [
    "sq = Square()\n",
    "\n",
    "side = widgets.FloatSlider(min=0.01, max=10, value=1, description='side')\n",
    "\n",
    "fine = widgets.IntSlider(min = 20, max = 100, value=50, description='Fine')\n",
    "\n",
    "Hticks = widgets.IntSlider(min = 2, max = 50, value=10, description='Hticks')\n",
    "Vticks = widgets.IntSlider(min = 2, max = 50, value=10, description='Vticks')\n",
    "\n",
    "\n",
    "function = widgets.Text( value = 'z**2' , description='w : ')\n",
    "\n",
    "frame = widgets.FloatSlider(min=0, max=100, value=100, step = 5, description='anim')\n",
    "\n",
    "play = widgets.Play(min= 0, max = 100, step = 5)\n",
    "widgets.jslink((play, 'value'), (frame, 'value'))\n",
    "\n",
    "\n",
    "interactive_plot = widgets.interactive(sq.updateFunc,\n",
    "                                       w = function,\n",
    "                                       side = side,\n",
    "                                       fine = fine,\n",
    "                                      Hticks = Hticks,\n",
    "                                      Vticks = Vticks,\n",
    "                                      frame = frame\n",
    "                                      )\n",
    "\n",
    "# w1 = VBox([ left, right])\n",
    "# w2 = VBox([top,bottom])\n",
    "box1 = HBox([side, Hticks,Vticks])\n",
    "\n",
    "box2 = HBox([function, fine])\n",
    "\n",
    "anim_slider = HBox([play, frame])\n",
    "\n",
    "w = VBox([box1, box2, anim_slider, sq.show()])\n",
    "\n",
    "w"
   ]
  },
  {
   "cell_type": "code",
   "execution_count": 5,
   "id": "dc52087a-7d89-4425-ac42-a6ddd1b647fd",
   "metadata": {},
   "outputs": [
    {
     "name": "stdout",
     "output_type": "stream",
     "text": [
      "The function is conformal, angles are preserved :)\n"
     ]
    }
   ],
   "source": [
    "sq.check_analytic()"
   ]
  },
  {
   "cell_type": "code",
   "execution_count": 6,
   "id": "8f4d2aff-1a90-4bdf-86bc-9ad3ec3ec914",
   "metadata": {},
   "outputs": [
    {
     "data": {
      "application/vnd.jupyter.widget-view+json": {
       "model_id": "fd1e86b5d9c246c084f10e31f8fd0c6e",
       "version_major": 2,
       "version_minor": 0
      },
      "text/plain": [
       "VBox(children=(HBox(children=(FloatSlider(value=1.0, description='side', max=10.0, min=0.01), IntSlider(value=…"
      ]
     },
     "metadata": {},
     "output_type": "display_data"
    }
   ],
   "source": [
    "r = sym.sqrt(x**2+y**2)\n",
    "\n",
    "f = x*(sym.sqrt(x**2+y**2-x**2*y**2))/r + sym.I*y*(sym.sqrt(x**2+y**2-x**2*y**2))/r # transforms unit square\n",
    "\n",
    "sq2 = Square()\n",
    "\n",
    "side = widgets.FloatSlider(min=0.01, max=10, value=1, description='side')\n",
    "\n",
    "fine = widgets.IntSlider(min = 20, max = 100, value=50, description='Fine')\n",
    "\n",
    "Hticks = widgets.IntSlider(min = 2, max = 50, value=10, description='Hticks')\n",
    "Vticks = widgets.IntSlider(min = 2, max = 50, value=10, description='Vticks')\n",
    "\n",
    "\n",
    "function = widgets.Text(  value = '%s' %(f) , description='w : ')\n",
    "\n",
    "frame = widgets.FloatSlider(min=0, max=100, value=100, step = 5, description='anim')\n",
    "\n",
    "play = widgets.Play(min= 0, max = 100, step = 5)\n",
    "widgets.jslink((play, 'value'), (frame, 'value'))\n",
    "\n",
    "\n",
    "interactive_plot = widgets.interactive(sq2.updateFunc,\n",
    "                                       w = function,\n",
    "                                       side = side,\n",
    "                                       fine = fine,\n",
    "                                      Hticks = Hticks,\n",
    "                                      Vticks = Vticks,\n",
    "                                      frame = frame\n",
    "                                      )\n",
    "\n",
    "# w1 = VBox([ left, right])\n",
    "# w2 = VBox([top,bottom])\n",
    "box1 = HBox([side, Hticks,Vticks])\n",
    "\n",
    "box2 = HBox([function, fine])\n",
    "\n",
    "anim_slider = HBox([play, frame])\n",
    "\n",
    "w = VBox([box1, box2, anim_slider, sq2.show()])\n",
    "\n",
    "w\n"
   ]
  },
  {
   "cell_type": "code",
   "execution_count": 7,
   "id": "26079036-5dae-4b73-8ba3-20679c68bd10",
   "metadata": {},
   "outputs": [
    {
     "name": "stdout",
     "output_type": "stream",
     "text": [
      "The function is conformal, angles are preserved :)\n"
     ]
    }
   ],
   "source": [
    "sq2.check_analytic()"
   ]
  },
  {
   "cell_type": "markdown",
   "id": "54fde09c-657f-4b77-aff5-7649ebfa89c4",
   "metadata": {},
   "source": [
    "# Using Donut Grid"
   ]
  },
  {
   "cell_type": "code",
   "execution_count": 8,
   "id": "daf03a4a-1f28-4414-953d-1280bbb8ad89",
   "metadata": {},
   "outputs": [
    {
     "data": {
      "application/vnd.jupyter.widget-view+json": {
       "model_id": "19fb4e1d56cf48a6911b83d7e502685a",
       "version_major": 2,
       "version_minor": 0
      },
      "text/plain": [
       "VBox(children=(HBox(children=(VBox(children=(FloatSlider(value=1.0, description='Rin', max=10.0), FloatSlider(…"
      ]
     },
     "metadata": {},
     "output_type": "display_data"
    }
   ],
   "source": [
    "donut = Donut()\n",
    "\n",
    "rin = widgets.FloatSlider(min=0, max=10, value=1, description='Rin')\n",
    "rout = widgets.FloatSlider(min=1, max=20, value=3, description='Rout')\n",
    "\n",
    "x0 = widgets.FloatSlider(min=-10, max=10, value=0, description='x0')\n",
    "y0 = widgets.FloatSlider(min=-10, max=10, value=0, description='y0')\n",
    "\n",
    "cticks = widgets.IntSlider(min = 2, max = 50, value=4, description='cticks')\n",
    "rticks = widgets.IntSlider(min = 2, max = 50, value=4, description='rticks')\n",
    "\n",
    "fine = widgets.IntSlider(min = 20, max = 100, value=50, description='Fine')\n",
    "\n",
    "function = widgets.Text( value = 'z**2' , description='w : ')\n",
    "\n",
    "frame = widgets.FloatSlider(min=0, max=100, value=100, step = 2, description='anim')\n",
    "\n",
    "play = widgets.Play(min= 0, max = 100, step = 5)\n",
    "widgets.jslink((play, 'value'), (frame, 'value'))\n",
    "\n",
    "interactive_plot = widgets.interactive(donut.updateFunc,\n",
    "                                       rin = rin,\n",
    "                                       rout = rout,\n",
    "                                       x0 = x0,\n",
    "                                       y0 = y0,\n",
    "                                       fine = fine,\n",
    "                                       cticks = cticks,\n",
    "                                       rticks = rticks,\n",
    "                                       w = function,\n",
    "                                       frame = frame)\n",
    "\n",
    "radius = VBox([rin, rout])\n",
    "offset = VBox([x0, y0])\n",
    "ticks = VBox([cticks, rticks])\n",
    "group = HBox([radius, offset,ticks])\n",
    "animation = HBox([play, frame])\n",
    "\n",
    "w1 = VBox([group, HBox([fine, function]), animation, donut.show()])\n",
    "\n",
    "w1"
   ]
  },
  {
   "cell_type": "code",
   "execution_count": 9,
   "id": "58ad7d2d-5cb7-42ac-b4fb-35d348e60cf3",
   "metadata": {},
   "outputs": [
    {
     "name": "stdout",
     "output_type": "stream",
     "text": [
      "The function is conformal, angles are preserved :)\n"
     ]
    }
   ],
   "source": [
    "donut.check_analytic()"
   ]
  },
  {
   "cell_type": "markdown",
   "id": "056f112b-4f33-4b4b-817f-b1ba6e296af3",
   "metadata": {},
   "source": [
    "# Using Circle Grid"
   ]
  },
  {
   "cell_type": "code",
   "execution_count": 10,
   "id": "9da711bf-94b1-44ef-b536-0d6d7295ec17",
   "metadata": {},
   "outputs": [
    {
     "data": {
      "application/vnd.jupyter.widget-view+json": {
       "model_id": "4206587a108b4680bf2f73d5873dbe07",
       "version_major": 2,
       "version_minor": 0
      },
      "text/plain": [
       "VBox(children=(HBox(children=(VBox(children=(FloatSlider(value=1.0, description='R', max=10.0, min=0.1), IntSl…"
      ]
     },
     "metadata": {},
     "output_type": "display_data"
    }
   ],
   "source": [
    "circle = Circle()\n",
    "\n",
    "r = widgets.FloatSlider(min=0.1, max=10, value=1, description='R')\n",
    "\n",
    "\n",
    "x0 = widgets.FloatSlider(min=-10, max=10, value=0, description='x0')\n",
    "y0 = widgets.FloatSlider(min=-10, max=10, value=0, description='y0')\n",
    "\n",
    "cticks = widgets.IntSlider(min = 2, max = 50, value=4, description='cticks')\n",
    "rticks = widgets.IntSlider(min = 0, max = 50, value=4, description='rticks')\n",
    "\n",
    "fine = widgets.IntSlider(min = 20, max = 100, value=50, description='Fine')\n",
    "\n",
    "function = widgets.Text( value = 'z**2' , description='w : ')\n",
    "\n",
    "frame = widgets.FloatSlider(min=0, max=100, value=100, step = 2, description='anim')\n",
    "\n",
    "play = widgets.Play(min= 0, max = 100, step = 2)\n",
    "widgets.jslink((play, 'value'), (frame, 'value'))\n",
    "\n",
    "interactive_plot = widgets.interactive(circle.updateFunc,\n",
    "                                       r = r,\n",
    "                                       x0 = x0,\n",
    "                                       y0 = y0,\n",
    "                                       fine = fine,\n",
    "                                       cticks = cticks,\n",
    "                                       rticks = rticks,\n",
    "                                       w = function,\n",
    "                                       frame = frame)\n",
    "\n",
    "radius = VBox([r, fine])\n",
    "offset = VBox([x0, y0])\n",
    "ticks = VBox([cticks, rticks])\n",
    "group = HBox([radius, offset,ticks])\n",
    "animation = HBox([play, frame])\n",
    "\n",
    "w1 = VBox([group, function, animation, circle.show()])\n",
    "\n",
    "w1\n",
    "# display(interactive_plot,circle.show())"
   ]
  },
  {
   "cell_type": "code",
   "execution_count": 11,
   "id": "be86f8d6-5f47-451f-8a2e-d8a65290c215",
   "metadata": {},
   "outputs": [
    {
     "name": "stdout",
     "output_type": "stream",
     "text": [
      "The function is conformal, angles are preserved :)\n"
     ]
    }
   ],
   "source": [
    "circle.check_analytic()"
   ]
  },
  {
   "cell_type": "markdown",
   "id": "e77cdb77-3fa4-4f99-b146-ae30077a79a0",
   "metadata": {},
   "source": [
    "# Using Single_circle"
   ]
  },
  {
   "cell_type": "code",
   "execution_count": 12,
   "id": "71fc4a1a-07b6-4f93-8ec9-045ed1ee3b71",
   "metadata": {},
   "outputs": [
    {
     "data": {
      "application/vnd.jupyter.widget-view+json": {
       "model_id": "ca42ec587e6845558b06a2a444ffbdfa",
       "version_major": 2,
       "version_minor": 0
      },
      "text/plain": [
       "VBox(children=(HBox(children=(VBox(children=(FloatSlider(value=1.08, description='R', max=10.0, min=0.1), IntS…"
      ]
     },
     "metadata": {},
     "output_type": "display_data"
    }
   ],
   "source": [
    "single = Single_circle(rticks=0)\n",
    "\n",
    "r = widgets.FloatSlider(min=0.1, max=10, value=1.08, description='R')\n",
    "\n",
    "\n",
    "x0 = widgets.FloatSlider(min=-10, max=10, value=-0.08, description='x0')\n",
    "y0 = widgets.FloatSlider(min=-10, max=10, value=0.08, description='y0')\n",
    "\n",
    "rticks = widgets.IntSlider(min = 0, max = 50, value=0, description='rticks')\n",
    "\n",
    "fine = widgets.IntSlider(min = 20, max = 100, value=50, description='Fine')\n",
    "\n",
    "function = widgets.Text( value = 'z+1/z' , description='w : ')\n",
    "\n",
    "frame = widgets.FloatSlider(min=0, max=100, value=100, step = 2, description='anim')\n",
    "\n",
    "play = widgets.Play(min= 0, max = 100, step = 2)\n",
    "widgets.jslink((play, 'value'), (frame, 'value'))\n",
    "\n",
    "interactive_plot = widgets.interactive(single.updateFunc,\n",
    "                                       r = r,\n",
    "                                       x0 = x0,\n",
    "                                       y0 = y0,\n",
    "                                       fine = fine,\n",
    "                                       rticks = rticks,\n",
    "                                       w = function,\n",
    "                                       frame = frame)\n",
    "\n",
    "radius = VBox([r, fine])\n",
    "offset = VBox([x0, y0])\n",
    "# ticks = VBox([cticks, rticks])\n",
    "group = HBox([radius, offset,rticks])\n",
    "animation = HBox([play, frame])\n",
    "\n",
    "w1 = VBox([group, function, animation, single.show()])\n",
    "\n",
    "w1"
   ]
  },
  {
   "cell_type": "code",
   "execution_count": 13,
   "id": "66538641-3ce0-4c54-bc53-df76b945ff71",
   "metadata": {},
   "outputs": [
    {
     "name": "stdout",
     "output_type": "stream",
     "text": [
      "The function is conformal, angles are preserved :)\n"
     ]
    }
   ],
   "source": [
    "single.check_analytic()"
   ]
  },
  {
   "cell_type": "markdown",
   "id": "c976fcdd-6544-4642-b49c-6bac5dd1f8c0",
   "metadata": {},
   "source": [
    "# Using Builtin complicated functions for w"
   ]
  },
  {
   "cell_type": "markdown",
   "id": "92d677af-9b96-4293-bb43-8426e900be2d",
   "metadata": {},
   "source": [
    "### using EccentricAnnulus as w"
   ]
  },
  {
   "cell_type": "code",
   "execution_count": 14,
   "id": "30f5200c-4203-49a2-8de2-2396cb5f2a00",
   "metadata": {},
   "outputs": [
    {
     "data": {
      "application/vnd.jupyter.widget-view+json": {
       "model_id": "684a789707834b1c917fd3fef25f2c51",
       "version_major": 2,
       "version_minor": 0
      },
      "text/plain": [
       "VBox(children=(HBox(children=(VBox(children=(FloatSlider(value=-3.141592653589793, description='left', max=10.…"
      ]
     },
     "metadata": {},
     "output_type": "display_data"
    }
   ],
   "source": [
    "R1 = 4 # inner radius of target eccentric annulus\n",
    "R2 = 7.6 # outer radius of target eccentric annulus\n",
    "ep = 0.7 # relative eccentricity of target eccentric annulus\n",
    "\n",
    "trans = RectangleToEccentricAnnulus(R1, R2, ep)\n",
    "\n",
    "\n",
    "rect = Rectangle()\n",
    "\n",
    "left = widgets.FloatSlider(min=-10, max=10, value=-pi, description='left')\n",
    "right = widgets.FloatSlider(min=-10, max=10, value=pi, description='right')\n",
    "\n",
    "top = widgets.FloatSlider(min=-10, max=10, value=1.5, description='top')\n",
    "bottom = widgets.FloatSlider(min=-10, max=10, value=0.8, description='bottom')\n",
    "\n",
    "\n",
    "fine = widgets.IntSlider(min = 20, max = 100, value=50, description='Fine')\n",
    "\n",
    "Hticks = widgets.IntSlider(min = 2, max = 50, value=10, description='Hticks')\n",
    "Vticks = widgets.IntSlider(min = 2, max = 50, value=20, description='Vticks')\n",
    "\n",
    "\n",
    "function = widgets.Text( value = '{0}'.format(trans.mapping(z)) , description='w : ')\n",
    "\n",
    "frame = widgets.FloatSlider(min=0, max=100, value=100, step = 5, description='anim')\n",
    "\n",
    "play = widgets.Play(min= 0, max = 100, step = 5)\n",
    "# widgets.jslink((frame, 'value'), (play, 'value'))\n",
    "widgets.jslink((play, 'value'), (frame, 'value'))\n",
    "\n",
    "interactive_plot = widgets.interactive(rect.updateFunc,\n",
    "                                       w = function,\n",
    "                                       left = left,\n",
    "                                       right = right,\n",
    "                                       top= top,\n",
    "                                       bottom = bottom,\n",
    "                                       fine = fine,\n",
    "                                      Hticks = Hticks,\n",
    "                                      Vticks = Vticks,\n",
    "                                      frame = frame\n",
    "                                      )\n",
    "\n",
    "\n",
    "w1 = VBox([ left, right])\n",
    "w2 = VBox([top,bottom])\n",
    "w3 = VBox([Hticks,Vticks])\n",
    "w4 = HBox([w1,w2,w3])\n",
    "\n",
    "w5 = HBox([function, fine])\n",
    "\n",
    "anim_slider = HBox([play, frame])\n",
    "\n",
    "w = VBox([w4, w5, anim_slider, rect.show()])\n",
    "\n",
    "w\n",
    "\n"
   ]
  },
  {
   "cell_type": "markdown",
   "id": "ded407a6-5cea-4d67-af70-d657326e10a1",
   "metadata": {},
   "source": [
    "### Using EllipticAnnulus as w"
   ]
  },
  {
   "cell_type": "code",
   "execution_count": 15,
   "id": "3052e6b3-bae4-4491-8579-91be15d8603f",
   "metadata": {},
   "outputs": [
    {
     "data": {
      "application/vnd.jupyter.widget-view+json": {
       "model_id": "489c77b2b0b744a7aeb82de93a988a25",
       "version_major": 2,
       "version_minor": 0
      },
      "text/plain": [
       "VBox(children=(HBox(children=(VBox(children=(FloatSlider(value=-3.141592653589793, description='left', max=10.…"
      ]
     },
     "metadata": {},
     "output_type": "display_data"
    }
   ],
   "source": [
    "a = 5 # half axis of outer ellipse\n",
    "\n",
    "b = 3.6 # half axis of inner ellipse\n",
    "\n",
    "trans = RectangleToEllipticAnnulus(b, a)\n",
    "\n",
    "\n",
    "rect = Rectangle()\n",
    "\n",
    "left = widgets.FloatSlider(min=-10, max=10, value=-pi, description='left')\n",
    "right = widgets.FloatSlider(min=-10, max=10, value=pi, description='right')\n",
    "\n",
    "top = widgets.FloatSlider(min=-10, max=10, value=1.5, description='top')\n",
    "bottom = widgets.FloatSlider(min=-10, max=10, value=0.8, description='bottom')\n",
    "\n",
    "\n",
    "fine = widgets.IntSlider(min = 20, max = 100, value=50, description='Fine')\n",
    "\n",
    "Hticks = widgets.IntSlider(min = 2, max = 50, value=10, description='Hticks')\n",
    "Vticks = widgets.IntSlider(min = 2, max = 50, value=20, description='Vticks')\n",
    "\n",
    "\n",
    "function = widgets.Text( value = '{0}'.format(trans.mapping(z)) , description='w : ')\n",
    "\n",
    "frame = widgets.FloatSlider(min=0, max=100, value=100, step = 5, description='anim')\n",
    "\n",
    "play = widgets.Play(min= 0, max = 100, step = 5)\n",
    "# widgets.jslink((frame, 'value'), (play, 'value'))\n",
    "widgets.jslink((play, 'value'), (frame, 'value'))\n",
    "\n",
    "interactive_plot = widgets.interactive(rect.updateFunc,\n",
    "                                       w = function,\n",
    "                                       left = left,\n",
    "                                       right = right,\n",
    "                                       top= top,\n",
    "                                       bottom = bottom,\n",
    "                                       fine = fine,\n",
    "                                      Hticks = Hticks,\n",
    "                                      Vticks = Vticks,\n",
    "                                      frame = frame\n",
    "                                      )\n",
    "\n",
    "\n",
    "w1 = VBox([ left, right])\n",
    "w2 = VBox([top,bottom])\n",
    "w3 = VBox([Hticks,Vticks])\n",
    "w4 = HBox([w1,w2,w3])\n",
    "\n",
    "w5 = HBox([function, fine])\n",
    "\n",
    "anim_slider = HBox([play, frame])\n",
    "\n",
    "w = VBox([w4, w5, anim_slider, rect.show()])\n",
    "\n",
    "w\n",
    "\n"
   ]
  },
  {
   "cell_type": "markdown",
   "id": "8e896561-b45e-4169-946b-12501e2a172f",
   "metadata": {},
   "source": [
    "### Using "
   ]
  }
 ],
 "metadata": {
  "kernelspec": {
   "display_name": "Python 3 (ipykernel)",
   "language": "python",
   "name": "python3"
  },
  "language_info": {
   "codemirror_mode": {
    "name": "ipython",
    "version": 3
   },
   "file_extension": ".py",
   "mimetype": "text/x-python",
   "name": "python",
   "nbconvert_exporter": "python",
   "pygments_lexer": "ipython3",
   "version": "3.9.6"
  }
 },
 "nbformat": 4,
 "nbformat_minor": 5
}
