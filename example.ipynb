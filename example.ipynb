{
 "cells": [
  {
   "cell_type": "markdown",
   "metadata": {},
   "source": [
    "# ConformalMapings\n",
    "### An interactive package for intercative use of conformal mappings\n",
    "\n",
    "* Function **w = f(z) should be entered in standard Pythonic form**, (ex:z**2 for $z^2$)\n",
    "\n",
    "* Functions entered should be availabe in SymPy lib and must be entered in same form because internally it uses sympy for symbolic conversion.\n",
    "\n",
    "* The entered function w can be a function of z or of the form x + i y\n",
    "'x' and 'y' are real and imaginary variables respectively.\n",
    "\n",
    "* Typical usage\n",
    "```\n",
    "     z**2\n",
    "     x**2 + I*y**2\n",
    "     tan(z)\n",
    "```\n",
    "* **Note use 'I' for imaginary number $\\rm{i}$ iota**\n",
    "\n",
    "* Use transformation slider to see the transformation\n",
    "* Limit range limits the grid to $\\pm$ slider value\n",
    "* Ticks increases number of gridlines"
   ]
  },
  {
   "cell_type": "code",
   "execution_count": 1,
   "metadata": {},
   "outputs": [
    {
     "data": {
      "text/html": [
       "        <script type=\"text/javascript\">\n",
       "        window.PlotlyConfig = {MathJaxConfig: 'local'};\n",
       "        if (window.MathJax) {MathJax.Hub.Config({SVG: {font: \"STIX-Web\"}});}\n",
       "        if (typeof require !== 'undefined') {\n",
       "        require.undef(\"plotly\");\n",
       "        requirejs.config({\n",
       "            paths: {\n",
       "                'plotly': ['https://cdn.plot.ly/plotly-2.3.1.min']\n",
       "            }\n",
       "        });\n",
       "        require(['plotly'], function(Plotly) {\n",
       "            window._Plotly = Plotly;\n",
       "        });\n",
       "        }\n",
       "        </script>\n",
       "        "
      ]
     },
     "metadata": {},
     "output_type": "display_data"
    },
    {
     "data": {
      "text/html": [
       "        <script type=\"text/javascript\">\n",
       "        window.PlotlyConfig = {MathJaxConfig: 'local'};\n",
       "        if (window.MathJax) {MathJax.Hub.Config({SVG: {font: \"STIX-Web\"}});}\n",
       "        if (typeof require !== 'undefined') {\n",
       "        require.undef(\"plotly\");\n",
       "        requirejs.config({\n",
       "            paths: {\n",
       "                'plotly': ['https://cdn.plot.ly/plotly-2.3.1.min']\n",
       "            }\n",
       "        });\n",
       "        require(['plotly'], function(Plotly) {\n",
       "            window._Plotly = Plotly;\n",
       "        });\n",
       "        }\n",
       "        </script>\n",
       "        "
      ]
     },
     "metadata": {},
     "output_type": "display_data"
    }
   ],
   "source": [
    "# All the required modules\n",
    "\n",
    "\n",
    "import numpy as np\n",
    "import sympy as sym\n",
    "from conformalMappings.elementaryGeometry import update_rectangle\n",
    "from conformalMappings.elementaryGeometry import update_square\n",
    "from conformalMappings.mappings import RectangleToEccentricAnnulus\n",
    "import ipywidgets as widgets\n",
    "from ipywidgets import VBox,HBox,Layout,AppLayout\n",
    "from plotly.offline import init_notebook_mode, iplot\n",
    "init_notebook_mode(connected=True)\n",
    "\n",
    "x, y = sym.symbols('x y', real = True)\n",
    "\n",
    "z = x + sym.I*y\n"
   ]
  },
  {
   "cell_type": "code",
   "execution_count": 2,
   "metadata": {},
   "outputs": [
    {
     "data": {
      "application/vnd.jupyter.widget-view+json": {
       "model_id": "0a66549f51884fa281f03663757e43db",
       "version_major": 2,
       "version_minor": 0
      },
      "text/plain": [
       "interactive(children=(Text(value='5.77586887182265*tan(x/2 + I*y/2) - 9.54571428571429*I', description='w : ')…"
      ]
     },
     "metadata": {},
     "output_type": "display_data"
    }
   ],
   "source": [
    "\n",
    "trans = RectangleToEccentricAnnulus(4, 7.6, 0.7)\n",
    "\n",
    "\n",
    "\n",
    "# since it is numerical computation, we need range to operate in, given by limit_range\n",
    "limit_range = widgets.FloatSlider(min = 0.1 , max = 10 , value = np.pi , description = \"Limit Range\",visibility = 'hidden')\n",
    "\n",
    "# change ticks slider to add or remove lines in the range\n",
    "ticks = widgets.IntSlider(min = 2 , max = 40 , value = 11 , description = \"Ticks\")\n",
    "\n",
    "# the input function w to draw conformal map\n",
    "#function = widgets.Text( value = '10.85368600983095*sym.tan(z/2)-13.25*sym.I' , description='w : ')\n",
    "function = widgets.Text( value ='{0}'.format(trans.mapping(z)) , description='w : ')\n",
    "\n",
    "# move slider between 0 and 1  to show the transformation\n",
    "transformation = widgets.FloatSlider(min = 0 , max = 1 , value = 1, description =\"Mapping\")\n",
    "\n",
    "\n",
    "    \n",
    "# call all the variables in ipywidgets\n",
    "interactive_plot = widgets.interactive(update_rectangle,\n",
    "                                       function = function, \n",
    "                                       transformation = transformation,\n",
    "                                       left =  trans.left,\n",
    "                                       right = trans.right,\n",
    "                                       bottom = trans.bottom,\n",
    "                                       top = trans.top,\n",
    "                                       ticks = ticks,\n",
    "                                       vertFreq = 7)\n",
    "\n",
    "# display the output\n",
    "display(interactive_plot)"
   ]
  },
  {
   "cell_type": "code",
   "execution_count": 3,
   "metadata": {},
   "outputs": [
    {
     "data": {
      "application/vnd.jupyter.widget-view+json": {
       "model_id": "aefd70e7983e43e9931e637d9e7d9215",
       "version_major": 2,
       "version_minor": 0
      },
      "text/plain": [
       "interactive(children=(Text(value='sym.exp(z)', description='w : '), FloatSlider(value=1.0, description='mappin…"
      ]
     },
     "metadata": {},
     "output_type": "display_data"
    }
   ],
   "source": [
    "\n",
    "\n",
    "\n",
    "\n",
    "# change ticks slider to add or remove lines in the range\n",
    "ticks = widgets.IntSlider(min = 2 , max = 40 , value = 11 , description = \"Ticks\")\n",
    "\n",
    "# the input function w to draw conformal map\n",
    "#function = widgets.Text( value = 'sqrt(im(z)**2+re(z)**2)*exp(I*atan2(im(z), re(z)))' , description='w : ')\n",
    "function = widgets.Text( value = 'sym.exp(z)' , description='w : ')\n",
    "\n",
    "# move slider between 0 and 1  to show the transformation\n",
    "transformation = widgets.FloatSlider(min = 0 , max = 1 , value = 1, description =\"mapping\")\n",
    "\n",
    "\n",
    "    \n",
    "# call all the variables in ipywidgets\n",
    "interactive_plot = widgets.interactive(update_rectangle,\n",
    "                                       function = function, \n",
    "                                       transformation = transformation,\n",
    "                                       left = -np.pi,\n",
    "                                       right = np.pi,\n",
    "                                       bottom = -np.pi,\n",
    "                                       top = np.pi,\n",
    "                                       ticks = ticks)\n",
    "\n",
    "# display the output\n",
    "display(interactive_plot)"
   ]
  },
  {
   "cell_type": "code",
   "execution_count": 4,
   "metadata": {},
   "outputs": [
    {
     "data": {
      "application/vnd.jupyter.widget-view+json": {
       "model_id": "e1fd9eb5815b44179fbdb92208f132c4",
       "version_major": 2,
       "version_minor": 0
      },
      "text/plain": [
       "interactive(children=(Text(value='exp(x + I*y)', description='w : '), FloatSlider(value=1.0, description='mapp…"
      ]
     },
     "metadata": {},
     "output_type": "display_data"
    }
   ],
   "source": [
    "\n",
    "r = sym.sqrt(x**2+y**2)\n",
    "\n",
    "#f = x*(sym.sqrt(x**2+y**2-x**2*y**2))/r + sym.I*y*(sym.sqrt(x**2+y**2-x**2*y**2))/r # transforms unit square\n",
    "\n",
    "f = sym.exp(z)\n",
    "\n",
    "# since it is numerical computation, we need range to operate in, given by limit_range\n",
    "limit_range = widgets.FloatSlider(min = 0.1 , max = 10 , value = 1.5 , description = \"Limit Range\",visibility = 'hidden')\n",
    "\n",
    "# change ticks slider to add or remove lines in the range\n",
    "ticks = widgets.IntSlider(min = 2 , max = 40 , value = 11 , description = \"Ticks\")\n",
    "\n",
    "# the input function w to draw conformal map\n",
    "function = widgets.Text( value = '{0}'.format(f) , description='w : ')\n",
    "\n",
    "# move slider between 0 and 1  to show the transformation\n",
    "transformation = widgets.FloatSlider(min = 0 , max = 1 , value = 1, description =\"mapping\")\n",
    "\n",
    "\n",
    "    \n",
    "# call all the variables in ipywidgets\n",
    "interactive_plot = widgets.interactive(update_square,\n",
    "                                       function = function, \n",
    "                                       transformation = transformation,\n",
    "                                       limit_range = limit_range,\n",
    "                                       ticks = ticks)\n",
    "\n",
    "# display the output\n",
    "display(interactive_plot)"
   ]
  },
  {
   "cell_type": "code",
   "execution_count": 5,
   "metadata": {},
   "outputs": [],
   "source": [
    "#sym.simplify(sym.diff(x*(sym.sqrt(x**2+y**2-x**2*y**2))/r,x,2)+sym.diff(y*(sym.sqrt(x**2+y**2-x**2*y**2))/r,y,2))"
   ]
  },
  {
   "cell_type": "code",
   "execution_count": 6,
   "metadata": {},
   "outputs": [
    {
     "data": {
      "application/vnd.jupyter.widget-view+json": {
       "model_id": "5118ef3344254a5a893cb0483b044d61",
       "version_major": 2,
       "version_minor": 0
      },
      "text/plain": [
       "interactive(children=(Text(value='sym.sin(z)', description='w : '), FloatSlider(value=1.0, description='mappin…"
      ]
     },
     "metadata": {},
     "output_type": "display_data"
    }
   ],
   "source": [
    "\n",
    "\n",
    "\n",
    "# since it is numerical computation, we need range to operate in, given by limit_range\n",
    "limit_range = widgets.FloatSlider(min = 0.1 , max = 10 , value = np.pi , description = \"Limit Range\",visibility = 'hidden')\n",
    "\n",
    "# change ticks slider to add or remove lines in the range\n",
    "ticks = widgets.IntSlider(min = 2 , max = 40 , value = 11 , description = \"Ticks\")\n",
    "\n",
    "# the input function w to draw conformal map\n",
    "function = widgets.Text( value = 'sym.sin(z)' , description='w : ')\n",
    "\n",
    "# move slider between 0 and 1  to show the transformation\n",
    "transformation = widgets.FloatSlider(min = 0 , max = 1 , value = 1, description =\"mapping\")\n",
    "\n",
    "\n",
    "    \n",
    "# call all the variables in ipywidgets\n",
    "interactive_plot = widgets.interactive(update_rectangle,\n",
    "                                       function = function, \n",
    "                                       transformation = transformation,\n",
    "                                       left = -np.pi,\n",
    "                                       right = np.pi,\n",
    "                                       bottom = -np.pi,\n",
    "                                       top = np.pi,\n",
    "                                       ticks = ticks)\n",
    "\n",
    "# display the output\n",
    "display(interactive_plot)"
   ]
  },
  {
   "cell_type": "code",
   "execution_count": null,
   "metadata": {},
   "outputs": [],
   "source": []
  }
 ],
 "metadata": {
  "kernelspec": {
   "display_name": "Python 3",
   "language": "python",
   "name": "python3"
  },
  "language_info": {
   "codemirror_mode": {
    "name": "ipython",
    "version": 3
   },
   "file_extension": ".py",
   "mimetype": "text/x-python",
   "name": "python",
   "nbconvert_exporter": "python",
   "pygments_lexer": "ipython3",
   "version": "3.8.8"
  }
 },
 "nbformat": 4,
 "nbformat_minor": 4
}
