{
 "cells": [
  {
   "cell_type": "markdown",
   "metadata": {
    "tags": []
   },
   "source": [
    "# conformalMaps\n",
    "### An interactive package for intercative use of conformal mappings\n",
    "\n",
    "* Function **w = f(z) should be entered in standard Pythonic form**, (ex:z**2 for $z^2$)\n",
    "\n",
    "* Functions entered should be availabe in SymPy lib and must be entered in same form because internally it uses sympy for symbolic conversion.\n",
    "\n",
    "* The entered function w can be a function of z or of the form x + i y\n",
    "'x' and 'y' are real and imaginary variables respectively.\n",
    "\n",
    "* Typical usage\n",
    "```\n",
    "     z**2\n",
    "     x**2 + I*y**2\n",
    "     tan(z)\n",
    "```\n",
    "* **Note use 'I' for imaginary number $\\rm{i}$ iota**\n",
    "\n",
    "* Use transformation slider to see the transformation\n",
    "* Limit range limits the grid to $\\pm$ slider value\n",
    "* Ticks increases number of gridlines"
   ]
  },
  {
   "cell_type": "markdown",
   "metadata": {},
   "source": [
    "# Always run the below cell first"
   ]
  },
  {
   "cell_type": "code",
   "execution_count": 1,
   "metadata": {},
   "outputs": [
    {
     "data": {
      "text/html": [
       "        <script type=\"text/javascript\">\n",
       "        window.PlotlyConfig = {MathJaxConfig: 'local'};\n",
       "        if (window.MathJax) {MathJax.Hub.Config({SVG: {font: \"STIX-Web\"}});}\n",
       "        if (typeof require !== 'undefined') {\n",
       "        require.undef(\"plotly\");\n",
       "        requirejs.config({\n",
       "            paths: {\n",
       "                'plotly': ['https://cdn.plot.ly/plotly-2.3.1.min']\n",
       "            }\n",
       "        });\n",
       "        require(['plotly'], function(Plotly) {\n",
       "            window._Plotly = Plotly;\n",
       "        });\n",
       "        }\n",
       "        </script>\n",
       "        "
      ]
     },
     "metadata": {},
     "output_type": "display_data"
    }
   ],
   "source": [
    "from conformalMaps.configs_for_jupyter import *\n",
    "from conformalMaps.elementaryGeometry import fig\n",
    "from conformalMaps.symbols import x, y, i, z, e\n",
    "pi = np.pi"
   ]
  },
  {
   "cell_type": "markdown",
   "metadata": {},
   "source": [
    "# Supported Grids to transform\n",
    "\n",
    "* **Rectangle**\n",
    "\n",
    "* **Square**\n",
    "\n",
    "* **Circle**\n",
    "\n",
    "* **Single circle**"
   ]
  },
  {
   "cell_type": "markdown",
   "metadata": {},
   "source": [
    "# Advanced builtin functions\n",
    "\n",
    "* **Rectangle to EccentricAnnulus**\n",
    "\n",
    "* **Rectangle to EllipticAnnulus**\n",
    "\n",
    "* **Concentric Annulus To Eccentric Annulus**"
   ]
  },
  {
   "cell_type": "markdown",
   "metadata": {},
   "source": [
    "# Example for Rectangle grid Transform"
   ]
  },
  {
   "cell_type": "code",
   "execution_count": 2,
   "metadata": {},
   "outputs": [
    {
     "data": {
      "application/vnd.jupyter.widget-view+json": {
       "model_id": "d3623e4d90364b8c815876ac556380b7",
       "version_major": 2,
       "version_minor": 0
      },
      "text/plain": [
       "HBox(children=(interactive(children=(Text(value='exp(z)', description='w : '), FloatSlider(value=-2.0, descrip…"
      ]
     },
     "metadata": {},
     "output_type": "display_data"
    }
   ],
   "source": [
    "# ------------------Animation Speed (1 to 10)---------------\n",
    "speed = 3.5\n",
    "\n",
    "\n",
    "\n",
    "\n",
    "\n",
    "# since it is numerical computation, we need range to operate in\n",
    "left = widgets.FloatSlider(min = -5 , max = 5 , value = -2 , description = \"left\",visibility = 'hidden')\n",
    "right = widgets.FloatSlider(min = -5 , max = 5 , value = 2 , description = \"right\",visibility = 'hidden')\n",
    "top = widgets.FloatSlider(min = -5 , max = 5 , value = 1 , description = \"top\",visibility = 'hidden')\n",
    "bottom = widgets.FloatSlider(min = -5 , max = 5 , value = -1 , description = \"bottom\",visibility = 'hidden')\n",
    "\n",
    "# change ticks slider to add or remove lines in the range\n",
    "ticks = widgets.IntSlider(min = 2 , max = 40 , value = 20 , description = \"Ticks\")\n",
    "\n",
    "# the input function w to draw conformal map\n",
    "function = widgets.Text( value = 'exp(z)' , description='w : ')\n",
    "\n",
    "\n",
    "# play button widget to animate\n",
    "play = widgets.Play(min = 0 , max = 100 , value = 100, step= int(speed))\n",
    "\n",
    "slider = widgets.IntSlider(min = 0 , max = 100 , value = 100,description = \"anim\")\n",
    "\n",
    "# widgets.jslink((play, 'value'), (slider, 'value'))\n",
    "    \n",
    "# call all the variables in ipywidgets\n",
    "interactive_plot = widgets.interactive(update_rectangle,\n",
    "                                       function = function,\n",
    "                                       transformation = slider,\n",
    "                                       left =  left,\n",
    "                                       right = right,\n",
    "                                       bottom = bottom,\n",
    "                                       top = top,\n",
    "                                       ticks = ticks,\n",
    "                                       vertFreq = 1,\n",
    "                                       anim_scaler = 100)\n",
    "\n",
    "# display the output\n",
    "# display(interactive_plot)\n",
    "\n",
    "\n",
    "\n",
    "# VBox([ HBox([play, slider]), fig])\n",
    "# HBox([play, slider,fig])\n",
    "\n",
    "# HBox([VBox([play,slider]),\n",
    "#       fig])\n",
    "\n",
    "# fig\n",
    "# HBox([play, slider])\n",
    "# fig\n",
    "# interactive_plot\n",
    "HBox([interactive_plot,fig])\n",
    "# fig.show()"
   ]
  },
  {
   "cell_type": "code",
   "execution_count": 7,
   "metadata": {},
   "outputs": [
    {
     "data": {
      "text/plain": [
       "(Scatter({\n",
       "     'hoverinfo': 'none',\n",
       "     'line': {'color': 'blue', 'shape': 'spline'},\n",
       "     'mode': 'lines',\n",
       "     'uid': '48f0b026-ef25-450f-9b09-fb0a317a1fc6',\n",
       "     'x': array([-0.81832048, -0.7796733 , -0.74072458, -0.70144867, -0.66181774,\n",
       "                 -0.6218016 , -0.58136748, -0.54047983, -0.49910007, -0.45718635,\n",
       "                 -0.41469324, -0.37157147, -0.32776757, -0.28322351, -0.23787634,\n",
       "                 -0.19165775, -0.14449362, -0.09630351, -0.04700018,  0.00351107,\n",
       "                  0.05533299,  0.10857706,  0.16336423,  0.21982577,  0.27810408,\n",
       "                  0.3383537 ,  0.4007423 ,  0.46545181,  0.53267966,  0.60264003,\n",
       "                  0.67556536,  0.75170782,  0.83134107,  0.91476201,  1.00229282,\n",
       "                  1.09428307,  1.19111207,  1.29319139,  1.40096761,  1.51492528,\n",
       "                  1.63559019,  1.76353283,  1.89937223,  2.04378006,  2.19748512,\n",
       "                  2.36127823,  2.53601742,  2.72263376,  2.92213746,  3.13562471]),\n",
       "     'y': array([-0.49491201, -0.50043324, -0.50642409, -0.5129245 , -0.51997782,\n",
       "                 -0.52763108, -0.5359353 , -0.54494585, -0.55472282, -0.56533139,\n",
       "                 -0.57684229, -0.58933227, -0.60288462, -0.61758969, -0.63354554,\n",
       "                 -0.65085854, -0.66964414, -0.69002758, -0.71214479, -0.73614322,\n",
       "                 -0.76218289, -0.79043741, -0.82109519, -0.85436063, -0.89045553,\n",
       "                 -0.92962057, -0.97211686, -1.01822778, -1.06826075, -1.12254939,\n",
       "                 -1.18145566, -1.24537233, -1.31472558, -1.38997781, -1.47163078,\n",
       "                 -1.56022892, -1.65636296, -1.76067389, -1.87385721, -1.99666758,\n",
       "                 -2.12992385, -2.27451452, -2.43140366, -2.60163734, -2.78635061,\n",
       "                 -2.98677506, -3.20424705, -3.44021658, -3.69625701, -3.9740755 ])\n",
       " }),\n",
       " Scatter({\n",
       "     'hoverinfo': 'none',\n",
       "     'line': {'color': 'grey', 'shape': 'spline'},\n",
       "     'mode': 'lines',\n",
       "     'uid': '60544283-f77c-4e82-baa2-5a9cf768bfce',\n",
       "     'x': array([-0.79230231, -0.75144209, -0.71009211, -0.66821069, -0.62575263,\n",
       "                 -0.5826689 , -0.53890626, -0.49440698, -0.4491084 , -0.40294252,\n",
       "                 -0.35583559, -0.30770756, -0.25847157, -0.2080334 , -0.15629077,\n",
       "                 -0.10313274, -0.04843892,  0.00792131,  0.06608972,  0.12622007,\n",
       "                  0.18847927,  0.25304838,  0.32012387,  0.38991893,  0.46266488,\n",
       "                  0.53861271,  0.61803477,  0.70122657,  0.78850874,  0.8802292 ,\n",
       "                  0.97676547,  1.07852716,  1.18595872,  1.29954243,  1.41980156,\n",
       "                  1.54730392,  1.68266558,  1.82655503,  1.97969764,  2.14288043,\n",
       "                  2.31695741,  2.50285521,  2.70157925,  2.91422052,  3.14196277,\n",
       "                  3.38609045,  3.64799724,  3.9291954 ,  4.2313258 ,  4.55616887]),\n",
       "     'y': array([-0.25198342, -0.25512912, -0.25854239, -0.26224598, -0.26626459,\n",
       "                 -0.27062501, -0.27535632, -0.28049005, -0.28606045, -0.29210465,\n",
       "                 -0.29866295, -0.30577908, -0.31350049, -0.32187866, -0.33096945,\n",
       "                 -0.34083348, -0.35153652, -0.36314993, -0.37575114, -0.38942417,\n",
       "                 -0.40426019, -0.42035812, -0.4378253 , -0.45677818, -0.47734314,\n",
       "                 -0.4996573 , -0.52386944, -0.55014099, -0.57864712, -0.60957791,\n",
       "                 -0.64313958, -0.67955591, -0.71906971, -0.76194444, -0.80846597,\n",
       "                 -0.85894449, -0.91371657, -0.97314741, -1.03763326, -1.1076041 ,\n",
       "                 -1.18352645, -1.26590655, -1.35529366, -1.45228378, -1.55752361,\n",
       "                 -1.67171483, -1.79561883, -1.93006176, -2.07594001, -2.23422625])\n",
       " }),\n",
       " Scatter({\n",
       "     'hoverinfo': 'none',\n",
       "     'line': {'color': 'grey', 'shape': 'spline'},\n",
       "     'mode': 'lines',\n",
       "     'uid': 'b86d2e32-dcfc-478d-a33a-3e2f9ecbbf1b',\n",
       "     'x': array([-0.78285889, -0.74119545, -0.69897391, -0.65614681, -0.61266263,\n",
       "                 -0.5684655 , -0.52349476, -0.47768462, -0.43096368, -0.38325447,\n",
       "                 -0.33447293, -0.28452786, -0.23332027, -0.18074279, -0.12667891,\n",
       "                 -0.07100218, -0.01357543,  0.0457502 ,  0.10713622,  0.17075788,\n",
       "                  0.23680533,  0.30548491,  0.37702051,  0.45165503,  0.52965208,\n",
       "                  0.61129766,  0.69690209,  0.78680211,  0.8813631 ,  0.98098149,\n",
       "                  1.08608745,  1.19714776,  1.31466885,  1.43920027,  1.5713383 ,\n",
       "                  1.71172994,  1.86107721,  2.02014185,  2.1897504 ,  2.37079968,\n",
       "                  2.56426282,  2.7711957 ,  2.99274403,  3.23015094,  3.48476533,\n",
       "                  3.75805081,  4.05159549,  4.36712257,  4.7065018 ,  5.07176198]),\n",
       "     'y': array([0., 0., 0., 0., 0., 0., 0., 0., 0., 0., 0., 0., 0., 0., 0., 0., 0., 0.,\n",
       "                 0., 0., 0., 0., 0., 0., 0., 0., 0., 0., 0., 0., 0., 0., 0., 0., 0., 0.,\n",
       "                 0., 0., 0., 0., 0., 0., 0., 0., 0., 0., 0., 0., 0., 0.])\n",
       " }),\n",
       " Scatter({\n",
       "     'hoverinfo': 'none',\n",
       "     'line': {'color': 'grey', 'shape': 'spline'},\n",
       "     'mode': 'lines',\n",
       "     'uid': 'c0bbf43e-6771-4af6-ace1-2b3264590139',\n",
       "     'x': array([-0.79230231, -0.75144209, -0.71009211, -0.66821069, -0.62575263,\n",
       "                 -0.5826689 , -0.53890626, -0.49440698, -0.4491084 , -0.40294252,\n",
       "                 -0.35583559, -0.30770756, -0.25847157, -0.2080334 , -0.15629077,\n",
       "                 -0.10313274, -0.04843892,  0.00792131,  0.06608972,  0.12622007,\n",
       "                  0.18847927,  0.25304838,  0.32012387,  0.38991893,  0.46266488,\n",
       "                  0.53861271,  0.61803477,  0.70122657,  0.78850874,  0.8802292 ,\n",
       "                  0.97676547,  1.07852716,  1.18595872,  1.29954243,  1.41980156,\n",
       "                  1.54730392,  1.68266558,  1.82655503,  1.97969764,  2.14288043,\n",
       "                  2.31695741,  2.50285521,  2.70157925,  2.91422052,  3.14196277,\n",
       "                  3.38609045,  3.64799724,  3.9291954 ,  4.2313258 ,  4.55616887]),\n",
       "     'y': array([0.25198342, 0.25512912, 0.25854239, 0.26224598, 0.26626459, 0.27062501,\n",
       "                 0.27535632, 0.28049005, 0.28606045, 0.29210465, 0.29866295, 0.30577908,\n",
       "                 0.31350049, 0.32187866, 0.33096945, 0.34083348, 0.35153652, 0.36314993,\n",
       "                 0.37575114, 0.38942417, 0.40426019, 0.42035812, 0.4378253 , 0.45677818,\n",
       "                 0.47734314, 0.4996573 , 0.52386944, 0.55014099, 0.57864712, 0.60957791,\n",
       "                 0.64313958, 0.67955591, 0.71906971, 0.76194444, 0.80846597, 0.85894449,\n",
       "                 0.91371657, 0.97314741, 1.03763326, 1.1076041 , 1.18352645, 1.26590655,\n",
       "                 1.35529366, 1.45228378, 1.55752361, 1.67171483, 1.79561883, 1.93006176,\n",
       "                 2.07594001, 2.23422625])\n",
       " }),\n",
       " Scatter({\n",
       "     'hoverinfo': 'none',\n",
       "     'line': {'color': 'red', 'shape': 'spline'},\n",
       "     'mode': 'lines',\n",
       "     'uid': '081b7ad1-62dd-4336-b67d-a4deeda5967b',\n",
       "     'x': array([-0.81832048, -0.7796733 , -0.74072458, -0.70144867, -0.66181774,\n",
       "                 -0.6218016 , -0.58136748, -0.54047983, -0.49910007, -0.45718635,\n",
       "                 -0.41469324, -0.37157147, -0.32776757, -0.28322351, -0.23787634,\n",
       "                 -0.19165775, -0.14449362, -0.09630351, -0.04700018,  0.00351107,\n",
       "                  0.05533299,  0.10857706,  0.16336423,  0.21982577,  0.27810408,\n",
       "                  0.3383537 ,  0.4007423 ,  0.46545181,  0.53267966,  0.60264003,\n",
       "                  0.67556536,  0.75170782,  0.83134107,  0.91476201,  1.00229282,\n",
       "                  1.09428307,  1.19111207,  1.29319139,  1.40096761,  1.51492528,\n",
       "                  1.63559019,  1.76353283,  1.89937223,  2.04378006,  2.19748512,\n",
       "                  2.36127823,  2.53601742,  2.72263376,  2.92213746,  3.13562471]),\n",
       "     'y': array([0.49491201, 0.50043324, 0.50642409, 0.5129245 , 0.51997782, 0.52763108,\n",
       "                 0.5359353 , 0.54494585, 0.55472282, 0.56533139, 0.57684229, 0.58933227,\n",
       "                 0.60288462, 0.61758969, 0.63354554, 0.65085854, 0.66964414, 0.69002758,\n",
       "                 0.71214479, 0.73614322, 0.76218289, 0.79043741, 0.82109519, 0.85436063,\n",
       "                 0.89045553, 0.92962057, 0.97211686, 1.01822778, 1.06826075, 1.12254939,\n",
       "                 1.18145566, 1.24537233, 1.31472558, 1.38997781, 1.47163078, 1.56022892,\n",
       "                 1.65636296, 1.76067389, 1.87385721, 1.99666758, 2.12992385, 2.27451452,\n",
       "                 2.43140366, 2.60163734, 2.78635061, 2.98677506, 3.20424705, 3.44021658,\n",
       "                 3.69625701, 3.9740755 ])\n",
       " }),\n",
       " Scatter({\n",
       "     'hoverinfo': 'none',\n",
       "     'line': {'color': 'orange', 'shape': 'spline'},\n",
       "     'mode': 'lines',\n",
       "     'uid': '94e8268f-d023-48f3-82ba-6d73730dbf3e',\n",
       "     'x': array([-0.81832048, -0.81570646, -0.81316622, -0.81070399, -0.80832388,\n",
       "                 -0.80602985, -0.80382572, -0.80171516, -0.79970169, -0.79778865,\n",
       "                 -0.79597925, -0.79427649, -0.79268321, -0.79120205, -0.7898355 ,\n",
       "                 -0.78858583, -0.78745511, -0.78644523, -0.78555788, -0.78479453,\n",
       "                 -0.78415645, -0.7836447 , -0.78326015, -0.78300342, -0.78287495,\n",
       "                 -0.78287495, -0.78300342, -0.78326015, -0.7836447 , -0.78415645,\n",
       "                 -0.78479453, -0.78555788, -0.78644523, -0.78745511, -0.78858583,\n",
       "                 -0.7898355 , -0.79120205, -0.79268321, -0.79427649, -0.79597925,\n",
       "                 -0.79778865, -0.79970169, -0.80171516, -0.80382572, -0.80602985,\n",
       "                 -0.80832388, -0.81070399, -0.81316622, -0.81570646, -0.81832048]),\n",
       "     'y': array([-0.49491201, -0.47560619, -0.45619517, -0.43668205, -0.41707008,\n",
       "                 -0.39736272, -0.37756354, -0.35767629, -0.33770487, -0.31765331,\n",
       "                 -0.29752577, -0.27732654, -0.25706003, -0.23673077, -0.21634339,\n",
       "                 -0.19590261, -0.17541324, -0.15488018, -0.13430839, -0.11370292,\n",
       "                 -0.09306884, -0.07241128, -0.05173544, -0.03104651, -0.01034971,\n",
       "                  0.01034971,  0.03104651,  0.05173544,  0.07241128,  0.09306884,\n",
       "                  0.11370292,  0.13430839,  0.15488018,  0.17541324,  0.19590261,\n",
       "                  0.21634339,  0.23673077,  0.25706003,  0.27732654,  0.29752577,\n",
       "                  0.31765331,  0.33770487,  0.35767629,  0.37756354,  0.39736272,\n",
       "                  0.41707008,  0.43668205,  0.45619517,  0.47560619,  0.49491201])\n",
       " }),\n",
       " Scatter({\n",
       "     'hoverinfo': 'none',\n",
       "     'line': {'color': 'green', 'shape': 'spline'},\n",
       "     'mode': 'lines',\n",
       "     'uid': 'f1ab1154-da63-4666-915f-60246223326a',\n",
       "     'x': array([-0.31670332, -0.30959767, -0.30269259, -0.29599956, -0.28952975,\n",
       "                 -0.28329392, -0.27730247, -0.27156537, -0.26609219, -0.26089203,\n",
       "                 -0.25597356, -0.25134497, -0.24701398, -0.2429878 , -0.23927312,\n",
       "                 -0.23587615, -0.23280255, -0.23005742, -0.22764534, -0.22557033,\n",
       "                 -0.22383585, -0.22244479, -0.22139946, -0.2207016 , -0.22035238,\n",
       "                 -0.22035238, -0.2207016 , -0.22139946, -0.22244479, -0.22383585,\n",
       "                 -0.22557033, -0.22764534, -0.23005742, -0.23280255, -0.23587615,\n",
       "                 -0.23927312, -0.2429878 , -0.24701398, -0.25134497, -0.25597356,\n",
       "                 -0.26089203, -0.26609219, -0.27156537, -0.27730247, -0.28329392,\n",
       "                 -0.28952975, -0.29599956, -0.30269259, -0.30959767, -0.31670332]),\n",
       "     'y': array([-0.60644913, -0.58412808, -0.56152106, -0.53863648, -0.51548324,\n",
       "                 -0.49207067, -0.46840852, -0.44450698, -0.42037663, -0.39602843,\n",
       "                 -0.37147369, -0.34672409, -0.32179161, -0.29668856, -0.27142751,\n",
       "                 -0.2460213 , -0.22048302, -0.19482598, -0.16906367, -0.14320978,\n",
       "                 -0.11727813, -0.09128268, -0.06523751, -0.03915675, -0.01305463,\n",
       "                  0.01305463,  0.03915675,  0.06523751,  0.09128268,  0.11727813,\n",
       "                  0.14320978,  0.16906367,  0.19482598,  0.22048302,  0.2460213 ,\n",
       "                  0.27142751,  0.29668856,  0.32179161,  0.34672409,  0.37147369,\n",
       "                  0.39602843,  0.42037663,  0.44450698,  0.46840852,  0.49207067,\n",
       "                  0.51548324,  0.53863648,  0.56152106,  0.58412808,  0.60644913])\n",
       " }),\n",
       " Scatter({\n",
       "     'hoverinfo': 'none',\n",
       "     'line': {'color': 'green', 'shape': 'spline'},\n",
       "     'mode': 'lines',\n",
       "     'uid': 'b0d070d7-93a7-4228-abd9-d173e39b6bed',\n",
       "     'x': array([0.30797231, 0.32728746, 0.34605743, 0.36425095, 0.38183773, 0.39878846,\n",
       "                 0.41507492, 0.43066997, 0.44554763, 0.45968313, 0.47305291, 0.48563471,\n",
       "                 0.49740757, 0.50835188, 0.5184494 , 0.52768332, 0.53603826, 0.54350029,\n",
       "                 0.550057  , 0.55569745, 0.56041226, 0.56419356, 0.56703506, 0.56893203,\n",
       "                 0.5698813 , 0.5698813 , 0.56893203, 0.56703506, 0.56419356, 0.56041226,\n",
       "                 0.55569745, 0.550057  , 0.54350029, 0.53603826, 0.52768332, 0.5184494 ,\n",
       "                 0.50835188, 0.49740757, 0.48563471, 0.47305291, 0.45968313, 0.44554763,\n",
       "                 0.43066997, 0.41507492, 0.39878846, 0.38183773, 0.36425095, 0.34605743,\n",
       "                 0.32728746, 0.30797231]),\n",
       "     'y': array([-0.90963846, -0.87912116, -0.84782649, -0.81577737, -0.78299794,\n",
       "                 -0.74951356, -0.71535078, -0.68053726, -0.64510176, -0.60907408,\n",
       "                 -0.57248499, -0.5353662 , -0.4977503 , -0.45967073, -0.42116167,\n",
       "                 -0.38225804, -0.3429954 , -0.30340992, -0.26353831, -0.22341774,\n",
       "                 -0.1830858 , -0.14258046, -0.10193993, -0.06120269, -0.02040736,\n",
       "                  0.02040736,  0.06120269,  0.10193993,  0.14258046,  0.1830858 ,\n",
       "                  0.22341774,  0.26353831,  0.30340992,  0.3429954 ,  0.38225804,\n",
       "                  0.42116167,  0.45967073,  0.4977503 ,  0.5353662 ,  0.57248499,\n",
       "                  0.60907408,  0.64510176,  0.68053726,  0.71535078,  0.74951356,\n",
       "                  0.78299794,  0.81577737,  0.84782649,  0.87912116,  0.90963846])\n",
       " }),\n",
       " Scatter({\n",
       "     'hoverinfo': 'none',\n",
       "     'line': {'color': 'green', 'shape': 'spline'},\n",
       "     'mode': 'lines',\n",
       "     'uid': 'a2b3474e-684d-4a1a-aa69-982dc442ecfe',\n",
       "     'x': array([1.26715555, 1.31965955, 1.37068161, 1.42013674, 1.46794256, 1.51401943,\n",
       "                 1.55829061, 1.60068235, 1.64112403, 1.6795483 , 1.71589114, 1.75009201,\n",
       "                 1.78209396, 1.81184367, 1.83929158, 1.86439198, 1.88710306, 1.90738697,\n",
       "                 1.92520995, 1.94054229, 1.95335845, 1.9636371 , 1.9713611 , 1.9765176 ,\n",
       "                 1.97909799, 1.97909799, 1.9765176 , 1.9713611 , 1.9636371 , 1.95335845,\n",
       "                 1.94054229, 1.92520995, 1.90738697, 1.88710306, 1.86439198, 1.83929158,\n",
       "                 1.81184367, 1.78209396, 1.75009201, 1.71589114, 1.6795483 , 1.64112403,\n",
       "                 1.60068235, 1.55829061, 1.51401943, 1.46794256, 1.42013674, 1.37068161,\n",
       "                 1.31965955, 1.26715555]),\n",
       "     'y': array([-1.73379251, -1.68099548, -1.62608537, -1.56912442, -1.51017828,\n",
       "                 -1.4493159 , -1.38660942, -1.32213407, -1.25596801, -1.18819221,\n",
       "                 -1.11889035, -1.04814861, -0.97605561, -0.9027022 , -0.82818132,\n",
       "                 -0.75258789, -0.67601857, -0.59857168, -0.520347  , -0.44144558,\n",
       "                 -0.36196962, -0.28202227, -0.20170747, -0.12112977, -0.04039414,\n",
       "                  0.04039414,  0.12112977,  0.20170747,  0.28202227,  0.36196962,\n",
       "                  0.44144558,  0.520347  ,  0.59857168,  0.67601857,  0.75258789,\n",
       "                  0.82818132,  0.9027022 ,  0.97605561,  1.04814861,  1.11889035,\n",
       "                  1.18819221,  1.25596801,  1.32213407,  1.38660942,  1.4493159 ,\n",
       "                  1.51017828,  1.56912442,  1.62608537,  1.68099548,  1.73379251])\n",
       " }),\n",
       " Scatter({\n",
       "     'hoverinfo': 'none',\n",
       "     'line': {'color': 'magenta', 'shape': 'spline'},\n",
       "     'mode': 'lines',\n",
       "     'uid': 'cb0a9785-44f7-4b66-914c-9caedf24f1ac',\n",
       "     'x': array([3.13562471, 3.27834539, 3.41703773, 3.55147071, 3.68142039, 3.80667032,\n",
       "                 3.92701186, 4.04224455, 4.15217645, 4.25662443, 4.35541451, 4.44838214,\n",
       "                 4.53537245, 4.61624054, 4.6908517 , 4.75908166, 4.82081676, 4.87595416,\n",
       "                 4.92440202, 4.96607964, 5.0009176 , 5.02885785, 5.04985387, 5.06387068,\n",
       "                 5.07088492, 5.07088492, 5.06387068, 5.04985387, 5.02885785, 5.0009176 ,\n",
       "                 4.96607964, 4.92440202, 4.87595416, 4.82081676, 4.75908166, 4.6908517 ,\n",
       "                 4.61624054, 4.53537245, 4.44838214, 4.35541451, 4.25662443, 4.15217645,\n",
       "                 4.04224455, 3.92701186, 3.80667032, 3.68142039, 3.55147071, 3.41703773,\n",
       "                 3.27834539, 3.13562471]),\n",
       "     'y': array([-3.9740755 , -3.86071587, -3.74161232, -3.61693401, -3.48685938,\n",
       "                 -3.35157588, -3.21127961, -3.06617504, -2.91647463, -2.76239851,\n",
       "                 -2.60417411, -2.44203573, -2.27622424, -2.10698659, -1.93457545,\n",
       "                 -1.75924878, -1.5812694 , -1.40090453, -1.21842539, -1.03410669,\n",
       "                 -0.84822623, -0.66106441, -0.47290375, -0.28402844, -0.09472387,\n",
       "                  0.09472387,  0.28402844,  0.47290375,  0.66106441,  0.84822623,\n",
       "                  1.03410669,  1.21842539,  1.40090453,  1.5812694 ,  1.75924878,\n",
       "                  1.93457545,  2.10698659,  2.27622424,  2.44203573,  2.60417411,\n",
       "                  2.76239851,  2.91647463,  3.06617504,  3.21127961,  3.35157588,\n",
       "                  3.48685938,  3.61693401,  3.74161232,  3.86071587,  3.9740755 ])\n",
       " }))"
      ]
     },
     "execution_count": 7,
     "metadata": {},
     "output_type": "execute_result"
    }
   ],
   "source": [
    "fig.data"
   ]
  },
  {
   "cell_type": "markdown",
   "metadata": {},
   "source": [
    "# Example of Square grid Transform"
   ]
  },
  {
   "cell_type": "code",
   "execution_count": 107,
   "metadata": {},
   "outputs": [
    {
     "data": {
      "application/vnd.jupyter.widget-view+json": {
       "model_id": "0082faad8fd746cd853404dfafdf1463",
       "version_major": 2,
       "version_minor": 0
      },
      "text/plain": [
       "interactive(children=(Text(value='exp(z)', description='w : '), Play(value=100, description='transformation', …"
      ]
     },
     "metadata": {},
     "output_type": "display_data"
    }
   ],
   "source": [
    "# ------------------Animation Speed (1 to 10)---------------\n",
    "speed = 3.5\n",
    "\n",
    "\n",
    "\n",
    "# since it is numerical computation, we need range to operate in, given by limit_range\n",
    "limit_range = widgets.FloatSlider(min = 0.1 , max = 10 , value = np.pi , description = \"Limit Range\",visibility = 'hidden')\n",
    "\n",
    "# change ticks slider to add or remove lines in the range\n",
    "ticks = widgets.IntSlider(min = 2 , max = 40 , value = 20 , description = \"Ticks\")\n",
    "\n",
    "# the input function w to draw conformal map\n",
    "function = widgets.Text( value = 'exp(z)' , description='w : ')\n",
    "\n",
    "# play button widget to animate\n",
    "play = widgets.Play(min = 0 , max = 100 , value = 100, step= int(speed))\n",
    "\n",
    "\n",
    "    \n",
    "# call all the variables in ipywidgets\n",
    "interactive_plot = widgets.interactive(update_square,\n",
    "                                       function = function, \n",
    "                                       transformation = play,\n",
    "                                       limit_range=limit_range,\n",
    "                                       ticks = ticks,\n",
    "                                      anim_scaler=100)\n",
    "\n",
    "# display the output\n",
    "display(interactive_plot)"
   ]
  },
  {
   "cell_type": "markdown",
   "metadata": {},
   "source": [
    "# Example of Single Circle Transform"
   ]
  },
  {
   "cell_type": "code",
   "execution_count": null,
   "metadata": {},
   "outputs": [],
   "source": []
  },
  {
   "cell_type": "markdown",
   "metadata": {},
   "source": [
    "# Example of Circle Grid Transform"
   ]
  },
  {
   "cell_type": "code",
   "execution_count": null,
   "metadata": {},
   "outputs": [],
   "source": []
  },
  {
   "cell_type": "markdown",
   "metadata": {},
   "source": [
    "# Example of RectangleToEccentricAnnulus"
   ]
  },
  {
   "cell_type": "code",
   "execution_count": 105,
   "metadata": {},
   "outputs": [
    {
     "data": {
      "application/vnd.jupyter.widget-view+json": {
       "model_id": "de548ec96c25407d82d2ab7e764a9e43",
       "version_major": 2,
       "version_minor": 0
      },
      "text/plain": [
       "interactive(children=(Text(value='5.77586887182265*tan(x/2 + I*y/2) - 9.54571428571429*I', description='w : ')…"
      ]
     },
     "metadata": {},
     "output_type": "display_data"
    }
   ],
   "source": [
    "R1 = 4 # inner radius of target eccentric annulus\n",
    "R2 = 7.6 # outer radius of target eccentric annulus\n",
    "ep = 0.7 # relative eccentricity of target eccentric annulus\n",
    "\n",
    "trans = RectangleToEccentricAnnulus(R1, R2, ep)\n",
    "\n",
    "\n",
    "\n",
    "# since it is numerical computation, we need range to operate in, given by limit_range\n",
    "limit_range = widgets.FloatSlider(min = 0.1 , max = 10 , value = np.pi , description = \"Limit Range\",visibility = 'hidden')\n",
    "\n",
    "# change ticks slider to add or remove lines in the range\n",
    "ticks = widgets.IntSlider(min = 2 , max = 40 , value = 11 , description = \"Ticks\")\n",
    "\n",
    "# the input function w to draw conformal map\n",
    "function = widgets.Text( value ='{0}'.format(trans.mapping(z)) , description='w : ')\n",
    "\n",
    "# play button widget to animate\n",
    "play = widgets.Play(min = 0 , max = 100 , value = 100, step=5)\n",
    "\n",
    "\n",
    "    \n",
    "# call all the variables in ipywidgets\n",
    "interactive_plot = widgets.interactive(update_rectangle,\n",
    "                                       function = function, \n",
    "                                       transformation = play,\n",
    "                                       left =  trans.left,\n",
    "                                       right = trans.right,\n",
    "                                       bottom = trans.bottom,\n",
    "                                       top = trans.top,\n",
    "                                       ticks = ticks,\n",
    "                                       vertFreq = 7,\n",
    "                                       anim_scaler=100)\n",
    "\n",
    "# display the output\n",
    "display(interactive_plot)"
   ]
  },
  {
   "cell_type": "markdown",
   "metadata": {},
   "source": [
    "# Example of RectangleToEllipticAnnulus"
   ]
  },
  {
   "cell_type": "code",
   "execution_count": 85,
   "metadata": {},
   "outputs": [
    {
     "data": {
      "application/vnd.jupyter.widget-view+json": {
       "model_id": "5927cd0700b34672b77666c3f9af1d01",
       "version_major": 2,
       "version_minor": 0
      },
      "text/plain": [
       "interactive(children=(Text(value='3.46987031457949*cosh(x + I*y)', description='w : '), Play(value=100, descri…"
      ]
     },
     "metadata": {},
     "output_type": "display_data"
    }
   ],
   "source": [
    "a = 5 # half axis of outer ellipse\n",
    "\n",
    "b = 3.6 # half axis of inner ellipse\n",
    "\n",
    "trans = RectangleToEllipticAnnulus(b, a)\n",
    "\n",
    "\n",
    "# change ticks slider to add or remove lines in the range\n",
    "ticks = widgets.IntSlider(min = 2 , max = 40 , value = 11 , description = \"Ticks\")\n",
    "\n",
    "vertFreq = widgets.IntSlider(min = 1 , max = 10 , value = 1 , description = \"vertFreq\")\n",
    "\n",
    "# the input function w to draw conformal map\n",
    "function = widgets.Text( value = '{0}'.format(trans.mapping(eval('z'))) , description='w : ')\n",
    "\n",
    "# play button widget to animate\n",
    "play = widgets.Play(min = 0 , max = 100 , value = 100, step=5)\n",
    "\n",
    "\n",
    "    \n",
    "# call all the variables in ipywidgets\n",
    "interactive_plot = widgets.interactive(update_rectangle,\n",
    "                                       function = function, \n",
    "                                       transformation = play,\n",
    "                                       left = trans.left,\n",
    "                                       right = trans.right,\n",
    "                                       bottom = trans.bottom,\n",
    "                                       top = trans.top,\n",
    "                                       ticks = ticks,\n",
    "                                       vertFreq = vertFreq,\n",
    "                                       anim_scaler=100)\n",
    "\n",
    "# display the output\n",
    "display(interactive_plot)"
   ]
  },
  {
   "cell_type": "markdown",
   "metadata": {},
   "source": [
    "# Example of Concentric Annulus To Eccentric Annulus"
   ]
  },
  {
   "cell_type": "code",
   "execution_count": 86,
   "metadata": {},
   "outputs": [
    {
     "data": {
      "application/vnd.jupyter.widget-view+json": {
       "model_id": "7ffc8f4cd1e54013a385b03a9c3c0368",
       "version_major": 2,
       "version_minor": 0
      },
      "text/plain": [
       "interactive(children=(Text(value='(z+1)/(i-z)', description='w : '), Play(value=100, description='transformati…"
      ]
     },
     "metadata": {},
     "output_type": "display_data"
    }
   ],
   "source": [
    "function = widgets.Text( value = '(z+1)/(i-z)' , description='w : ')\n",
    "\n",
    "innerRadius = widgets.FloatSlider(min = 0 , max = 5 , value = 3 , description = \"radius\")\n",
    "outerRadius = widgets.FloatSlider(min = 6 , max = 10.0 , value = 7 , description = \"radius\")\n",
    "\n",
    "# play button widget to animate\n",
    "play = widgets.Play(min = 0 , max = 100 , value = 100, step=2)\n",
    "\n",
    "x0 = widgets.FloatSlider(min = -3 , max = 3 , value = -0.08, description =\"x0\")\n",
    "y0 = widgets.FloatSlider(min = -3 , max = 3 , value = 0.08, description =\"y0\")\n",
    "\n",
    "interactive_plot = widgets.interactive(update_concentricAnnulus,\n",
    "                                       function = function, \n",
    "                                       transformation = play,\n",
    "                                       innerRadius=innerRadius,\n",
    "                                       outerRadius=outerRadius,\n",
    "                                       x0 = 0,\n",
    "                                       y0 = 0,\n",
    "                                      anim_scaler=100)\n",
    "\n",
    "display(interactive_plot)   "
   ]
  },
  {
   "cell_type": "code",
   "execution_count": null,
   "metadata": {},
   "outputs": [],
   "source": []
  },
  {
   "cell_type": "code",
   "execution_count": null,
   "metadata": {},
   "outputs": [],
   "source": []
  },
  {
   "cell_type": "code",
   "execution_count": null,
   "metadata": {},
   "outputs": [],
   "source": []
  },
  {
   "cell_type": "code",
   "execution_count": 71,
   "metadata": {},
   "outputs": [
    {
     "data": {
      "application/vnd.jupyter.widget-view+json": {
       "model_id": "098e3fe980974385bab3058983c7ad70",
       "version_major": 2,
       "version_minor": 0
      },
      "text/plain": [
       "interactive(children=(Text(value='z**2', description='w : '), Play(value=100, description='transformation', st…"
      ]
     },
     "metadata": {},
     "output_type": "display_data"
    }
   ],
   "source": [
    "function = widgets.Text( value = 'z**2' , description='w : ')\n",
    "radius = widgets.FloatSlider(min = 0 , max = 10.0 , value = 1.08 , description = \"radius\")\n",
    "# play button widget to animate\n",
    "play = widgets.Play(min = 0 , max = 100 , value = 100, step=5)\n",
    "x0 = widgets.FloatSlider(min = -3 , max = 3 , value = -0.08, description =\"x0\")\n",
    "y0 = widgets.FloatSlider(min = -3 , max = 3 , value = 0.08, description =\"y0\")\n",
    "\n",
    "interactive_plot = widgets.interactive(update_circle,\n",
    "                                       function = function, \n",
    "                                       transformation = play,\n",
    "                                       radius=radius,\n",
    "                                       x0 = 0,\n",
    "                                       y0 = 0,\n",
    "                                      anim_scaler=100)\n",
    "\n",
    "display(interactive_plot)                                       "
   ]
  },
  {
   "cell_type": "code",
   "execution_count": 72,
   "metadata": {},
   "outputs": [
    {
     "data": {
      "application/vnd.jupyter.widget-view+json": {
       "model_id": "439e3e4a4a6c444bab93aa702e12759b",
       "version_major": 2,
       "version_minor": 0
      },
      "text/plain": [
       "interactive(children=(Text(value='(z+1)/(i-z)', description='w : '), Play(value=100, description='transformati…"
      ]
     },
     "metadata": {},
     "output_type": "display_data"
    }
   ],
   "source": [
    "function = widgets.Text( value = '(z+1)/(i-z)' , description='w : ')\n",
    "innerRadius = widgets.FloatSlider(min = 0 , max = 5 , value = 3 , description = \"radius\")\n",
    "outerRadius = widgets.FloatSlider(min = 6 , max = 10.0 , value = 7 , description = \"radius\")\n",
    "# play button widget to animate\n",
    "play = widgets.Play(min = 0 , max = 100 , value = 100, step=2)\n",
    "x0 = widgets.FloatSlider(min = -3 , max = 3 , value = -0.08, description =\"x0\")\n",
    "y0 = widgets.FloatSlider(min = -3 , max = 3 , value = 0.08, description =\"y0\")\n",
    "\n",
    "interactive_plot = widgets.interactive(update_concentricAnnulus,\n",
    "                                       function = function, \n",
    "                                       transformation = play,\n",
    "                                       innerRadius=innerRadius,\n",
    "                                       outerRadius=outerRadius,\n",
    "                                       x0 = 0,\n",
    "                                       y0 = 0,\n",
    "                                      anim_scaler=100)\n",
    "\n",
    "display(interactive_plot)          "
   ]
  },
  {
   "cell_type": "code",
   "execution_count": 73,
   "metadata": {},
   "outputs": [
    {
     "data": {
      "application/vnd.jupyter.widget-view+json": {
       "model_id": "629f5dbe37ad46e296189ef251b20e4c",
       "version_major": 2,
       "version_minor": 0
      },
      "text/plain": [
       "interactive(children=(Text(value='z+1/z', description='w : '), Play(value=100, description='transformation', s…"
      ]
     },
     "metadata": {},
     "output_type": "display_data"
    }
   ],
   "source": [
    "function = widgets.Text( value = 'z+1/z' , description='w : ')\n",
    "radius = widgets.FloatSlider(min = 0 , max = 10.0 , value = 1.08 , description = \"radius\")\n",
    "# play button widget to animate\n",
    "play = widgets.Play(min = 0 , max = 100 , value = 100, step=5)\n",
    "x0 = widgets.FloatSlider(min = -3 , max = 3 , value = -0.08, description =\"x0\")\n",
    "y0 = widgets.FloatSlider(min = -3 , max = 3 , value = 0.08, description =\"y0\")\n",
    "\n",
    "interactive_plot = widgets.interactive(update_single_circle,\n",
    "                                       function = function, \n",
    "                                       transformation = play,\n",
    "                                       radius=radius,\n",
    "                                       x0 = x0,\n",
    "                                       y0 = y0,\n",
    "                                      anim_scaler=100)\n",
    "\n",
    "display(interactive_plot)     "
   ]
  },
  {
   "cell_type": "code",
   "execution_count": null,
   "metadata": {},
   "outputs": [],
   "source": []
  }
 ],
 "metadata": {
  "kernelspec": {
   "display_name": "Python 3 (ipykernel)",
   "language": "python",
   "name": "python3"
  },
  "language_info": {
   "codemirror_mode": {
    "name": "ipython",
    "version": 3
   },
   "file_extension": ".py",
   "mimetype": "text/x-python",
   "name": "python",
   "nbconvert_exporter": "python",
   "pygments_lexer": "ipython3",
   "version": "3.9.6"
  }
 },
 "nbformat": 4,
 "nbformat_minor": 4
}
