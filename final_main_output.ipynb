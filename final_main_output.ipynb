{
 "cells": [
  {
   "cell_type": "raw",
   "metadata": {},
   "source": [
    "A interactive plot of conformal mapping\n",
    "\n",
    "the function w = f(z) should be entered in standard pythonic form, (ex: z**2 for z^2)\n",
    "\n",
    "the functions entered should be availabe in SYMPY lib and must be entered in same form because internally it uses sympy for symbolic conversion.\n",
    "\n",
    "The entered function w can be a function of z or of the form x + i y\n",
    "'a' and 'b' are real and imaginary variables respectively.\n",
    "Typical usage\n",
    "\n",
    "z**2\n",
    "a**2 + I*b**2\n",
    "\n",
    "note use 'I' for imaginary number iota\n",
    "\n",
    "use transformation slider to see the transformation\n",
    "limit range limits the grid to +- slider value\n",
    "ticks increases number of gridlines"
   ]
  },
  {
   "cell_type": "code",
   "execution_count": 1,
   "metadata": {},
   "outputs": [
    {
     "data": {
      "text/html": [
       "        <script type=\"text/javascript\">\n",
       "        window.PlotlyConfig = {MathJaxConfig: 'local'};\n",
       "        if (window.MathJax) {MathJax.Hub.Config({SVG: {font: \"STIX-Web\"}});}\n",
       "        if (typeof require !== 'undefined') {\n",
       "        require.undef(\"plotly\");\n",
       "        requirejs.config({\n",
       "            paths: {\n",
       "                'plotly': ['https://cdn.plot.ly/plotly-latest.min']\n",
       "            }\n",
       "        });\n",
       "        require(['plotly'], function(Plotly) {\n",
       "            window._Plotly = Plotly;\n",
       "        });\n",
       "        }\n",
       "        </script>\n",
       "        "
      ]
     },
     "metadata": {},
     "output_type": "display_data"
    },
    {
     "data": {
      "application/vnd.jupyter.widget-view+json": {
       "model_id": "9f3237684be64b38ab3566d3c4f1d312",
       "version_major": 2,
       "version_minor": 0
      },
      "text/plain": [
       "interactive(children=(FloatSlider(value=1.0, description='transformation', max=1.0), FloatSlider(value=2.0, de…"
      ]
     },
     "metadata": {},
     "output_type": "display_data"
    }
   ],
   "source": [
    "from imports import *\n",
    "init_notebook_mode(connected=True) \n",
    "import plotly_grapher as pg\n",
    "import ipywidgets as widgets\n",
    "\n",
    "def update_plot(transformation,limit_range,ticks,function):\n",
    "    \n",
    "    limit_range = limit_range\n",
    "    fine = 100\n",
    "    ticks = ticks\n",
    "    Z = eval(function)\n",
    "\n",
    "    pg.graph(z=Z , limit_range= limit_range ,ticks =  ticks , fine = fine , frame = transformation)\n",
    "       \n",
    "transformation = widgets.FloatSlider(min = 0 , max = 1 , value = 1)\n",
    "limit_range = widgets.FloatSlider(min = 0.1 , max = 10 , value = 2)\n",
    "ticks = widgets.IntSlider(min = 2 , max = 40 , value = 11)\n",
    "function = widgets.Text( value = 'z' , description='w : ')\n",
    "    \n",
    "interactive_plot = widgets.interactive(update_plot , transformation = transformation , limit_range = limit_range , ticks = ticks , function = function )\n",
    "output = interactive_plot.children[-1]\n",
    "interactive_plot"
   ]
  }
 ],
 "metadata": {
  "kernelspec": {
   "display_name": "Python 3",
   "language": "python",
   "name": "python3"
  },
  "language_info": {
   "codemirror_mode": {
    "name": "ipython",
    "version": 3
   },
   "file_extension": ".py",
   "mimetype": "text/x-python",
   "name": "python",
   "nbconvert_exporter": "python",
   "pygments_lexer": "ipython3",
   "version": "3.7.4"
  }
 },
 "nbformat": 4,
 "nbformat_minor": 4
}
