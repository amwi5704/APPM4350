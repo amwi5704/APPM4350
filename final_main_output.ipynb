{
 "cells": [
  {
   "cell_type": "markdown",
   "metadata": {},
   "source": [
    "# A interactive plot of conformal mapping\n",
    "\n",
    "* Function **w = f(z) should be entered in standard Pythonic form**, (ex:z**2 for $z^2$)\n",
    "\n",
    "* Functions entered should be availabe in SYMPY lib and must be entered in same form because internally it uses sympy for symbolic conversion.\n",
    "\n",
    "* The entered function w can be a function of z or of the form a + i b\n",
    "'a' and 'b' are real and imaginary variables respectively.\n",
    "\n",
    "* Typical usage\n",
    "```\n",
    "     z**2\n",
    "     a**2 + I*b**2\n",
    "```\n",
    "* **Note use 'I' for imaginary number $\\rm{i}$ iota**\n",
    "\n",
    "* Use transformation slider to see the transformation\n",
    "* Limit range limits the grid to $\\pm$ slider value\n",
    "* Ticks increases number of gridlines"
   ]
  },
  {
   "cell_type": "code",
   "execution_count": 1,
   "metadata": {},
   "outputs": [
    {
     "data": {
      "text/html": [
       "        <script type=\"text/javascript\">\n",
       "        window.PlotlyConfig = {MathJaxConfig: 'local'};\n",
       "        if (window.MathJax) {MathJax.Hub.Config({SVG: {font: \"STIX-Web\"}});}\n",
       "        if (typeof require !== 'undefined') {\n",
       "        require.undef(\"plotly\");\n",
       "        requirejs.config({\n",
       "            paths: {\n",
       "                'plotly': ['https://cdn.plot.ly/plotly-latest.min']\n",
       "            }\n",
       "        });\n",
       "        require(['plotly'], function(Plotly) {\n",
       "            window._Plotly = Plotly;\n",
       "        });\n",
       "        }\n",
       "        </script>\n",
       "        "
      ]
     },
     "metadata": {},
     "output_type": "display_data"
    },
    {
     "data": {
      "application/vnd.jupyter.widget-view+json": {
       "model_id": "7d37464cf1ec49b3bed1435476ce9625",
       "version_major": 2,
       "version_minor": 0
      },
      "text/plain": [
       "interactive(children=(Text(value='e**z', description='w : '), FloatSlider(value=1.0, description='Transformati…"
      ]
     },
     "metadata": {},
     "output_type": "display_data"
    }
   ],
   "source": [
    "# All the required modules\n",
    "\n",
    "from imports import *\n",
    "init_notebook_mode(connected=True)\n",
    "import symbolic_conversion as sc\n",
    "import plotly_grapher as pg\n",
    "import ipywidgets as widgets\n",
    "from ipywidgets import VBox,HBox,Layout,AppLayout\n",
    "\n",
    "# function for ipywidget to update on change of any parameters\n",
    "def update_plot(function,transformation,limit_range,ticks):\n",
    "    \n",
    "#   fine ness of points, since its all numerical method\n",
    "#   we need to choose the number of points\n",
    "    fine = 50\n",
    "\n",
    "#   The main input function from user\n",
    "    fun = sc.w_numeric(eval(function))\n",
    "\n",
    "#   The main Grapher\n",
    "    pg.graph(z_numeric = fun , limit_range = limit_range ,  ticks = ticks , fine = fine , frame = transformation)\n",
    "    \n",
    "       \n",
    "\n",
    "\n",
    "# since it is numerical computation, we need range to operate in, given by limit_range\n",
    "limit_range = widgets.FloatSlider(min = 0.1 , max = 10 , value = 1.5 , description = \"Limit Range\",visibility = 'hidden')\n",
    "\n",
    "# change ticks slider to add or remove lines in the range\n",
    "ticks = widgets.IntSlider(min = 2 , max = 40 , value = 11 , description = \"Ticks\")\n",
    "\n",
    "# the input function w to draw conformal map\n",
    "function = widgets.Text( value = 'e**z' , description='w : ')\n",
    "\n",
    "# move slider between 0 and 1  to show the transformation\n",
    "transformation = widgets.FloatSlider(min = 0 , max = 1 , value = 1,description =\"Transformation\")\n",
    "\n",
    "\n",
    "    \n",
    "# call all the variables in ipywidgets\n",
    "interactive_plot = widgets.interactive(update_plot , function = function, transformation = transformation , limit_range = limit_range , ticks = ticks)\n",
    "\n",
    "# display the output\n",
    "display(interactive_plot)"
   ]
  }
 ],
 "metadata": {
  "kernelspec": {
   "display_name": "Python 3",
   "language": "python",
   "name": "python3"
  },
  "language_info": {
   "codemirror_mode": {
    "name": "ipython",
    "version": 3
   },
   "file_extension": ".py",
   "mimetype": "text/x-python",
   "name": "python",
   "nbconvert_exporter": "python",
   "pygments_lexer": "ipython3",
   "version": "3.7.6"
  }
 },
 "nbformat": 4,
 "nbformat_minor": 4
}
